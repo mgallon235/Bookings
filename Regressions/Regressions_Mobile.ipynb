{
 "cells": [
  {
   "cell_type": "code",
   "execution_count": 38,
   "metadata": {},
   "outputs": [],
   "source": [
    "# !pip install statsmodels"
   ]
  },
  {
   "cell_type": "code",
   "execution_count": 39,
   "metadata": {},
   "outputs": [],
   "source": [
    "import pandas as pd\n",
    "import statsmodels.api as sm\n",
    "import matplotlib.pyplot as plt"
   ]
  },
  {
   "cell_type": "code",
   "execution_count": 40,
   "metadata": {},
   "outputs": [
    {
     "name": "stdout",
     "output_type": "stream",
     "text": [
      "(373, 10)\n"
     ]
    }
   ],
   "source": [
    "# Specify the path to the CSV file\n",
    "file_path = 'C:/Users/bakwe/Desktop/BSE/Text_mining/HW1/Scraped_data/Barcelona_25_01.csv'\n",
    "\n",
    "# Read the CSV file into a DataFrame\n",
    "df = pd.read_csv(file_path)\n",
    "\n",
    "# Adding 'barcelona' column with values equal to 1\n",
    "df['barcelona'] = 1\n",
    "\n",
    "# Adding the 'event' column with values equal to 1\n",
    "df['event'] = 1\n",
    "\n",
    "# Display the DataFrame\n",
    "print(df.shape)"
   ]
  },
  {
   "cell_type": "code",
   "execution_count": 41,
   "metadata": {},
   "outputs": [
    {
     "name": "stdout",
     "output_type": "stream",
     "text": [
      "\n",
      "Updated df after adding rows from V1:\n",
      "(770, 10)\n"
     ]
    }
   ],
   "source": [
    "# Specify the path to the CSV file\n",
    "file_path = 'C:/Users/bakwe/Desktop/BSE/Text_mining/HW1/Scraped_data/Valencia_25_01.csv'\n",
    "\n",
    "# Read the CSV file into a DataFrame\n",
    "V1 = pd.read_csv(file_path)\n",
    "\n",
    "# Adding rows from V1 to df with 'barcelona' values set to 0 and 'event' values set to 1\n",
    "df = pd.concat([df, V1.assign(barcelona=0, event=1)], ignore_index=True)\n",
    "\n",
    "# Displaying the updated df DataFrame\n",
    "print(\"\\nUpdated df after adding rows from V1:\")\n",
    "print(df.shape)\n"
   ]
  },
  {
   "cell_type": "code",
   "execution_count": 42,
   "metadata": {},
   "outputs": [
    {
     "name": "stdout",
     "output_type": "stream",
     "text": [
      "\n",
      "Updated df after adding rows from V1:\n",
      "(1167, 10)\n"
     ]
    }
   ],
   "source": [
    "# Specify the path to the CSV file\n",
    "file_path = 'C:/Users/bakwe/Desktop/BSE/Text_mining/HW1/Scraped_data/Valencia_19_24.csv'\n",
    "\n",
    "# Read the CSV file into a DataFrame\n",
    "V0 = pd.read_csv(file_path)\n",
    "\n",
    "# Adding rows from V1 to df with 'barcelona' values set to 0 and 'event' values set to 0\n",
    "df = pd.concat([df, V0.assign(barcelona=0, event=0)], ignore_index=True)\n",
    "\n",
    "# Displaying the updated df DataFrame\n",
    "print(\"\\nUpdated df after adding rows from V1:\")\n",
    "print(df.shape)"
   ]
  },
  {
   "cell_type": "code",
   "execution_count": 43,
   "metadata": {},
   "outputs": [
    {
     "name": "stdout",
     "output_type": "stream",
     "text": [
      "\n",
      "Updated df after adding rows from V1:\n",
      "(1605, 10)\n",
      "Index(['Hotels', 'Ratings', 'Distance', 'District', 'Price', 'Link', 'Star',\n",
      "       'Descriptions', 'barcelona', 'event'],\n",
      "      dtype='object')\n"
     ]
    }
   ],
   "source": [
    "# Specify the path to the CSV file\n",
    "file_path = 'C:/Users/bakwe/Desktop/BSE/Text_mining/HW1/Scraped_data/Barcelona_19_24.csv'\n",
    "\n",
    "# Read the CSV file into a DataFrame\n",
    "B0 = pd.read_csv(file_path)\n",
    "\n",
    "# Adding rows from B0 to df with 'barcelona' values set to 1 and 'event' values set to 0\n",
    "df = pd.concat([df, B0.assign(barcelona=1, event=0)], ignore_index=True)\n",
    "\n",
    "# Displaying the updated df DataFrame\n",
    "print(\"\\nUpdated df after adding rows from V1:\")\n",
    "print(df.shape)\n",
    "print(df.columns)"
   ]
  },
  {
   "cell_type": "code",
   "execution_count": 44,
   "metadata": {},
   "outputs": [],
   "source": [
    "# Create a DataFrame\n",
    "df = pd.DataFrame(df)"
   ]
  },
  {
   "cell_type": "code",
   "execution_count": 45,
   "metadata": {},
   "outputs": [
    {
     "name": "stdout",
     "output_type": "stream",
     "text": [
      "apartment next to park guell                       2\n",
      "Casa Clarita                                       2\n",
      "DWO Valencia                                       2\n",
      "Carrer de l'Arquitecte Alfaro 27 bajo derecha      2\n",
      "SingularStays Mercado Central                      2\n",
      "                                                  ..\n",
      "Praktik Garden                                     2\n",
      "BacHome Terrace B&B                                2\n",
      "Zenit Borrell                                      2\n",
      "Sercotel Caspe                                     2\n",
      "Precioso apartamento junto al centro con garaje    2\n",
      "Name: Hotels, Length: 294, dtype: int64\n"
     ]
    }
   ],
   "source": [
    "# First, count the occurrences of each value in the 'Hotels' column\n",
    "hotel_counts = df['Hotels'].value_counts()\n",
    "\n",
    "# Then, create a new DataFrame containing only rows with 'Hotels' values that appear twice\n",
    "df = df[df['Hotels'].isin(hotel_counts[hotel_counts == 2].index)]\n",
    "\n",
    "# Finally, print the count of 'Hotels' values\n",
    "print(df['Hotels'].value_counts())\n",
    "\n",
    "# df_filt = df[df['Hotels'].isin(hotel_counts[hotel_counts == 4].index)]\n",
    "# print(df_filt)\n",
    "\n",
    "# Ramirez Flats Valencia"
   ]
  },
  {
   "cell_type": "code",
   "execution_count": 63,
   "metadata": {},
   "outputs": [
    {
     "data": {
      "text/html": [
       "<div>\n",
       "<style scoped>\n",
       "    .dataframe tbody tr th:only-of-type {\n",
       "        vertical-align: middle;\n",
       "    }\n",
       "\n",
       "    .dataframe tbody tr th {\n",
       "        vertical-align: top;\n",
       "    }\n",
       "\n",
       "    .dataframe thead th {\n",
       "        text-align: right;\n",
       "    }\n",
       "</style>\n",
       "<table border=\"1\" class=\"dataframe\">\n",
       "  <thead>\n",
       "    <tr style=\"text-align: right;\">\n",
       "      <th></th>\n",
       "      <th>Hotels</th>\n",
       "      <th>Ratings</th>\n",
       "      <th>Distance</th>\n",
       "      <th>District</th>\n",
       "      <th>Price</th>\n",
       "      <th>Link</th>\n",
       "      <th>Star</th>\n",
       "      <th>Descriptions</th>\n",
       "      <th>barcelona</th>\n",
       "      <th>event</th>\n",
       "      <th>interaction_term</th>\n",
       "      <th>Top_star</th>\n",
       "      <th>interaction_term_all</th>\n",
       "    </tr>\n",
       "  </thead>\n",
       "  <tbody>\n",
       "    <tr>\n",
       "      <th>484</th>\n",
       "      <td>Casa Clarita</td>\n",
       "      <td>9,2</td>\n",
       "      <td>a 0,5 km del centro</td>\n",
       "      <td>NaN</td>\n",
       "      <td>841</td>\n",
       "      <td>https://www.booking.com/hotel/es/casa-clarita-...</td>\n",
       "      <td>4</td>\n",
       "      <td>Casa Clarita es un alojamiento con una ubicaci...</td>\n",
       "      <td>0</td>\n",
       "      <td>1</td>\n",
       "      <td>0</td>\n",
       "      <td>1</td>\n",
       "      <td>0</td>\n",
       "    </tr>\n",
       "    <tr>\n",
       "      <th>942</th>\n",
       "      <td>Casa Clarita</td>\n",
       "      <td>9,2</td>\n",
       "      <td>a 0,5 km del centro</td>\n",
       "      <td>NaN</td>\n",
       "      <td>615</td>\n",
       "      <td>https://www.booking.com/hotel/es/casa-clarita-...</td>\n",
       "      <td>4</td>\n",
       "      <td>Casa Clarita es un alojamiento con una ubicaci...</td>\n",
       "      <td>0</td>\n",
       "      <td>0</td>\n",
       "      <td>0</td>\n",
       "      <td>1</td>\n",
       "      <td>0</td>\n",
       "    </tr>\n",
       "  </tbody>\n",
       "</table>\n",
       "</div>"
      ],
      "text/plain": [
       "           Hotels Ratings             Distance  District  Price  \\\n",
       "484  Casa Clarita     9,2  a 0,5 km del centro       NaN    841   \n",
       "942  Casa Clarita     9,2  a 0,5 km del centro       NaN    615   \n",
       "\n",
       "                                                  Link  Star  \\\n",
       "484  https://www.booking.com/hotel/es/casa-clarita-...     4   \n",
       "942  https://www.booking.com/hotel/es/casa-clarita-...     4   \n",
       "\n",
       "                                          Descriptions  barcelona  event  \\\n",
       "484  Casa Clarita es un alojamiento con una ubicaci...          0      1   \n",
       "942  Casa Clarita es un alojamiento con una ubicaci...          0      0   \n",
       "\n",
       "     interaction_term  Top_star  interaction_term_all  \n",
       "484                 0         1                     0  \n",
       "942                 0         1                     0  "
      ]
     },
     "execution_count": 63,
     "metadata": {},
     "output_type": "execute_result"
    }
   ],
   "source": [
    "df[df['Hotels'] =='Casa Clarita']"
   ]
  },
  {
   "cell_type": "code",
   "execution_count": null,
   "metadata": {},
   "outputs": [],
   "source": []
  },
  {
   "cell_type": "code",
   "execution_count": 47,
   "metadata": {},
   "outputs": [],
   "source": [
    "# # Find the 'Price' value when 'Hotels' is equal to 'Ohla Barcelona'\n",
    "# ohla_barcelona_price = df.loc[df['Hotels'] == 'Ohla Barcelona', 'Price'].values[0]\n",
    "\n",
    "# # Print the 'Price' value\n",
    "# print(\"Price for 'Hotels' == 'Ohla Barcelona':\", ohla_barcelona_price)"
   ]
  },
  {
   "cell_type": "code",
   "execution_count": 48,
   "metadata": {},
   "outputs": [
    {
     "name": "stdout",
     "output_type": "stream",
     "text": [
      "                          Hotels Ratings             Distance  District  \\\n",
      "0   apartment next to park guell     9,0  a 2,7 km del centro       NaN   \n",
      "1     Melia Barcelona Sky 4* Sup     8,2  a 3,3 km del centro       NaN   \n",
      "3   Mercedes Heritage Apartments     8,5  a 1,5 km del centro       NaN   \n",
      "5                Hostal Boqueria     8,4  a 0,6 km del centro       NaN   \n",
      "6  The Streets Apartments Rambla     9,2    a 1 km del centro       NaN   \n",
      "\n",
      "   Price                                               Link  Star  \\\n",
      "0   1608  https://www.booking.com/hotel/es/apartment-par...     4   \n",
      "1   3343  https://www.booking.com/hotel/es/melia-barcelo...     4   \n",
      "3   3565  https://www.booking.com/hotel/es/provenza-mbs....     2   \n",
      "5   1657  https://www.booking.com/hotel/es/hostal-boquer...     4   \n",
      "6   2654  https://www.booking.com/hotel/es/the-streets-a...     4   \n",
      "\n",
      "                                        Descriptions  barcelona  event  \n",
      "0  Apartment next to park guell se encuentra en B...          1      1  \n",
      "1  Este hotel de diseño ocupa uno de los edificio...          1      1  \n",
      "3  El Mercedes Heritage Apartments, situado en l'...          1      1  \n",
      "5  Este establecimiento se encuentra en las Rambl...          1      1  \n",
      "6  The Streets Apartments Rambla, que cuenta con ...          1      1  \n"
     ]
    }
   ],
   "source": [
    "# Extract only digits from the 'Price' column and convert to numeric\n",
    "df['Price'] = pd.to_numeric(df['Price'].str.replace('[^\\d]', '', regex=True), errors='coerce')\n",
    "\n",
    "# Extract the first digit and convert to numeric\n",
    "df['Star'] = pd.to_numeric(df['Star'].str.extract('(\\d)', expand=False), errors='coerce')\n",
    "\n",
    "# Display the updated DataFrame\n",
    "print(df.head())"
   ]
  },
  {
   "cell_type": "code",
   "execution_count": 49,
   "metadata": {},
   "outputs": [],
   "source": [
    "# # Find the 'Price' value when 'Hotels' is equal to 'Ohla Barcelona'\n",
    "# ohla_barcelona_price = df.loc[df['Hotels'] == 'Ohla Barcelona', 'Price'].values[0]\n",
    "\n",
    "# # Print the 'Price' value\n",
    "# print(\"Price for 'Hotels' == 'Ohla Barcelona':\", ohla_barcelona_price)"
   ]
  },
  {
   "cell_type": "code",
   "execution_count": 50,
   "metadata": {},
   "outputs": [
    {
     "name": "stdout",
     "output_type": "stream",
     "text": [
      "<class 'pandas.core.frame.DataFrame'>\n",
      "Int64Index: 588 entries, 0 to 1601\n",
      "Data columns (total 10 columns):\n",
      " #   Column        Non-Null Count  Dtype  \n",
      "---  ------        --------------  -----  \n",
      " 0   Hotels        588 non-null    object \n",
      " 1   Ratings       588 non-null    object \n",
      " 2   Distance      588 non-null    object \n",
      " 3   District      0 non-null      float64\n",
      " 4   Price         588 non-null    int64  \n",
      " 5   Link          588 non-null    object \n",
      " 6   Star          588 non-null    int64  \n",
      " 7   Descriptions  588 non-null    object \n",
      " 8   barcelona     588 non-null    int64  \n",
      " 9   event         588 non-null    int64  \n",
      "dtypes: float64(1), int64(4), object(5)\n",
      "memory usage: 50.5+ KB\n",
      "None\n"
     ]
    }
   ],
   "source": [
    "# Display the count of NaN values in each column\n",
    "print(df.info())"
   ]
  },
  {
   "cell_type": "code",
   "execution_count": 51,
   "metadata": {},
   "outputs": [
    {
     "name": "stdout",
     "output_type": "stream",
     "text": [
      "   barcelona  event        Price\n",
      "0          0      0   566.049689\n",
      "1          0      1   729.418605\n",
      "2          1      0   688.758065\n",
      "3          1      1  1912.236641\n"
     ]
    }
   ],
   "source": [
    "# Group the DataFrame by 'barcelona' and 'event' columns and calculate the mean of 'Price'\n",
    "result = df.groupby(['barcelona', 'event'])['Price'].mean().reset_index()\n",
    "\n",
    "# Order the result DataFrame by the 'Star' column\n",
    "# result = result.sort_values(by=['Star'])\n",
    "\n",
    "# 'result' will now contain the average 'Price' for each combination of 'barcelona' and 'event'\n",
    "print(result)"
   ]
  },
  {
   "cell_type": "code",
   "execution_count": 52,
   "metadata": {},
   "outputs": [
    {
     "name": "stdout",
     "output_type": "stream",
     "text": [
      "4    310\n",
      "3    191\n",
      "2     52\n",
      "1     21\n",
      "5     14\n",
      "Name: Star, dtype: int64\n"
     ]
    }
   ],
   "source": [
    "# Count the occurrences of each unique value in the 'Star' column\n",
    "star_counts = df['Star'].value_counts()\n",
    "\n",
    "# Print the count of values for each unique 'Star'\n",
    "print(star_counts)"
   ]
  },
  {
   "cell_type": "code",
   "execution_count": 53,
   "metadata": {},
   "outputs": [
    {
     "data": {
      "image/png": "[encoded data removed]",
      "text/plain": [
       "<Figure size 640x480 with 1 Axes>"
      ]
     },
     "metadata": {},
     "output_type": "display_data"
    }
   ],
   "source": [
    "# Group the DataFrame by the 'Star' column and create boxplots for each group\n",
    "plt.boxplot([df['Price'][df['Star'] == star] for star in df['Star'].unique()], \n",
    "            labels=df['Star'].unique())\n",
    "plt.xlabel('Star')\n",
    "plt.ylabel('Price')\n",
    "plt.title('Boxplots of Price for Different Star Values')\n",
    "plt.show()"
   ]
  },
  {
   "cell_type": "code",
   "execution_count": 54,
   "metadata": {},
   "outputs": [
    {
     "name": "stdout",
     "output_type": "stream",
     "text": [
      "                                 OLS Regression Results                                \n",
      "=======================================================================================\n",
      "Dep. Variable:                  Price   R-squared (uncentered):                   0.551\n",
      "Model:                            OLS   Adj. R-squared (uncentered):              0.551\n",
      "Method:                 Least Squares   F-statistic:                              721.6\n",
      "Date:                Wed, 31 Jan 2024   Prob (F-statistic):                   2.91e-104\n",
      "Time:                        15:32:00   Log-Likelihood:                         -4751.8\n",
      "No. Observations:                 588   AIC:                                      9506.\n",
      "Df Residuals:                     587   BIC:                                      9510.\n",
      "Df Model:                           1                                                  \n",
      "Covariance Type:            nonrobust                                                  \n",
      "==============================================================================\n",
      "                 coef    std err          t      P>|t|      [0.025      0.975]\n",
      "------------------------------------------------------------------------------\n",
      "barcelona   1317.2902     49.040     26.862      0.000    1220.976    1413.605\n",
      "==============================================================================\n",
      "Omnibus:                       24.301   Durbin-Watson:                   0.543\n",
      "Prob(Omnibus):                  0.000   Jarque-Bera (JB):               52.646\n",
      "Skew:                           0.199   Prob(JB):                     3.70e-12\n",
      "Kurtosis:                       4.411   Cond. No.                         1.00\n",
      "==============================================================================\n",
      "\n",
      "Notes:\n",
      "[1] R² is computed without centering (uncentered) since the model does not contain a constant.\n",
      "[2] Standard Errors assume that the covariance matrix of the errors is correctly specified.\n"
     ]
    }
   ],
   "source": [
    "# Independent variables\n",
    "X = df[['barcelona']]\n",
    "\n",
    "# Dependent variable\n",
    "y = df['Price']\n",
    "\n",
    "# Fit the regression model\n",
    "model = sm.OLS(y, X).fit()\n",
    "\n",
    "# Print out the regression results\n",
    "print(model.summary())"
   ]
  },
  {
   "cell_type": "code",
   "execution_count": 55,
   "metadata": {},
   "outputs": [
    {
     "name": "stdout",
     "output_type": "stream",
     "text": [
      "                                 OLS Regression Results                                \n",
      "=======================================================================================\n",
      "Dep. Variable:                  Price   R-squared (uncentered):                   0.581\n",
      "Model:                            OLS   Adj. R-squared (uncentered):              0.581\n",
      "Method:                 Least Squares   F-statistic:                              815.1\n",
      "Date:                Wed, 31 Jan 2024   Prob (F-statistic):                   4.52e-113\n",
      "Time:                        15:32:00   Log-Likelihood:                         -4731.5\n",
      "No. Observations:                 588   AIC:                                      9465.\n",
      "Df Residuals:                     587   BIC:                                      9469.\n",
      "Df Model:                           1                                                  \n",
      "Covariance Type:            nonrobust                                                  \n",
      "==============================================================================\n",
      "                 coef    std err          t      P>|t|      [0.025      0.975]\n",
      "------------------------------------------------------------------------------\n",
      "event       1240.8020     43.462     28.549      0.000    1155.442    1326.162\n",
      "==============================================================================\n",
      "Omnibus:                       46.787   Durbin-Watson:                   0.573\n",
      "Prob(Omnibus):                  0.000   Jarque-Bera (JB):               99.608\n",
      "Skew:                           0.464   Prob(JB):                     2.35e-22\n",
      "Kurtosis:                       4.790   Cond. No.                         1.00\n",
      "==============================================================================\n",
      "\n",
      "Notes:\n",
      "[1] R² is computed without centering (uncentered) since the model does not contain a constant.\n",
      "[2] Standard Errors assume that the covariance matrix of the errors is correctly specified.\n"
     ]
    }
   ],
   "source": [
    "# Independent variables\n",
    "X = df[['event']]\n",
    "\n",
    "# Dependent variable\n",
    "y = df['Price']\n",
    "\n",
    "# Fit the regression model\n",
    "model = sm.OLS(y, X).fit()\n",
    "\n",
    "# Print out the regression results\n",
    "print(model.summary())"
   ]
  },
  {
   "cell_type": "code",
   "execution_count": 56,
   "metadata": {},
   "outputs": [
    {
     "name": "stdout",
     "output_type": "stream",
     "text": [
      "                                 OLS Regression Results                                \n",
      "=======================================================================================\n",
      "Dep. Variable:                  Price   R-squared (uncentered):                   0.784\n",
      "Model:                            OLS   Adj. R-squared (uncentered):              0.783\n",
      "Method:                 Least Squares   F-statistic:                              709.0\n",
      "Date:                Wed, 31 Jan 2024   Prob (F-statistic):                   2.49e-194\n",
      "Time:                        15:32:00   Log-Likelihood:                         -4536.6\n",
      "No. Observations:                 588   AIC:                                      9079.\n",
      "Df Residuals:                     585   BIC:                                      9092.\n",
      "Df Model:                           3                                                  \n",
      "Covariance Type:            nonrobust                                                  \n",
      "====================================================================================\n",
      "                       coef    std err          t      P>|t|      [0.025      0.975]\n",
      "------------------------------------------------------------------------------------\n",
      "barcelona          688.7581     48.851     14.099      0.000     592.814     784.702\n",
      "event              729.4186     41.478     17.586      0.000     647.955     810.882\n",
      "interaction_term   494.0600     79.785      6.192      0.000     337.360     650.760\n",
      "==============================================================================\n",
      "Omnibus:                       95.958   Durbin-Watson:                   1.115\n",
      "Prob(Omnibus):                  0.000   Jarque-Bera (JB):              327.411\n",
      "Skew:                           0.738   Prob(JB):                     8.01e-72\n",
      "Kurtosis:                       6.345   Cond. No.                         3.66\n",
      "==============================================================================\n",
      "\n",
      "Notes:\n",
      "[1] R² is computed without centering (uncentered) since the model does not contain a constant.\n",
      "[2] Standard Errors assume that the covariance matrix of the errors is correctly specified.\n"
     ]
    }
   ],
   "source": [
    "# Adding the interaction term\n",
    "df['interaction_term'] = df['barcelona'] * df['event']\n",
    "\n",
    "# Independent variables\n",
    "X = df[['barcelona', 'event', 'interaction_term']]\n",
    "\n",
    "# Dependent variable\n",
    "y = df['Price']\n",
    "\n",
    "# Fit the regression model\n",
    "model = sm.OLS(y, X).fit()\n",
    "\n",
    "# Print out the regression results\n",
    "print(model.summary())"
   ]
  },
  {
   "cell_type": "code",
   "execution_count": 64,
   "metadata": {},
   "outputs": [
    {
     "name": "stdout",
     "output_type": "stream",
     "text": [
      "                                 OLS Regression Results                                \n",
      "=======================================================================================\n",
      "Dep. Variable:                  Price   R-squared (uncentered):                   0.784\n",
      "Model:                            OLS   Adj. R-squared (uncentered):              0.783\n",
      "Method:                 Least Squares   F-statistic:                              709.0\n",
      "Date:                Wed, 31 Jan 2024   Prob (F-statistic):                   2.49e-194\n",
      "Time:                        15:45:28   Log-Likelihood:                         -4536.6\n",
      "No. Observations:                 588   AIC:                                      9079.\n",
      "Df Residuals:                     585   BIC:                                      9092.\n",
      "Df Model:                           3                                                  \n",
      "Covariance Type:            nonrobust                                                  \n",
      "====================================================================================\n",
      "                       coef    std err          t      P>|t|      [0.025      0.975]\n",
      "------------------------------------------------------------------------------------\n",
      "barcelona          688.7581     48.851     14.099      0.000     592.814     784.702\n",
      "event              729.4186     41.478     17.586      0.000     647.955     810.882\n",
      "interaction_term   494.0600     79.785      6.192      0.000     337.360     650.760\n",
      "==============================================================================\n",
      "Omnibus:                       95.958   Durbin-Watson:                   1.115\n",
      "Prob(Omnibus):                  0.000   Jarque-Bera (JB):              327.411\n",
      "Skew:                           0.738   Prob(JB):                     8.01e-72\n",
      "Kurtosis:                       6.345   Cond. No.                         3.66\n",
      "==============================================================================\n",
      "\n",
      "Notes:\n",
      "[1] R² is computed without centering (uncentered) since the model does not contain a constant.\n",
      "[2] Standard Errors assume that the covariance matrix of the errors is correctly specified.\n"
     ]
    }
   ],
   "source": [
    "# Adding the interaction term\n",
    "df['interaction_term'] = df['barcelona'] * df['event']\n",
    "\n",
    "# Independent variables\n",
    "X = df[['barcelona', 'event', 'interaction_term']]\n",
    "\n",
    "# Dependent variable\n",
    "y = df['Price']\n",
    "\n",
    "# Adding a constant term to the independent variables\n",
    "# X = sm.add_constant(X)\n",
    "\n",
    "# Fit the regression model without adding a constant term\n",
    "model = sm.OLS(y, X).fit()\n",
    "\n",
    "# Print out the regression results\n",
    "print(model.summary())"
   ]
  },
  {
   "cell_type": "code",
   "execution_count": 65,
   "metadata": {},
   "outputs": [
    {
     "name": "stdout",
     "output_type": "stream",
     "text": [
      "                                 OLS Regression Results                                \n",
      "=======================================================================================\n",
      "Dep. Variable:                  Price   R-squared (uncentered):                   0.843\n",
      "Model:                            OLS   Adj. R-squared (uncentered):              0.842\n",
      "Method:                 Least Squares   F-statistic:                              785.0\n",
      "Date:                Wed, 31 Jan 2024   Prob (F-statistic):                   2.79e-233\n",
      "Time:                        15:45:48   Log-Likelihood:                         -4442.8\n",
      "No. Observations:                 588   AIC:                                      8894.\n",
      "Df Residuals:                     584   BIC:                                      8911.\n",
      "Df Model:                           4                                                  \n",
      "Covariance Type:            nonrobust                                                  \n",
      "====================================================================================\n",
      "                       coef    std err          t      P>|t|      [0.025      0.975]\n",
      "------------------------------------------------------------------------------------\n",
      "barcelona          243.4828     51.395      4.737      0.000     142.540     344.425\n",
      "event              238.6939     48.482      4.923      0.000     143.474     333.913\n",
      "Star               137.6911      9.296     14.811      0.000     119.433     155.949\n",
      "interaction_term   999.1184     76.145     13.121      0.000     849.567    1148.670\n",
      "==============================================================================\n",
      "Omnibus:                      251.412   Durbin-Watson:                   1.660\n",
      "Prob(Omnibus):                  0.000   Jarque-Bera (JB):             2077.895\n",
      "Skew:                           1.679   Prob(JB):                         0.00\n",
      "Kurtosis:                      11.575   Cond. No.                         17.2\n",
      "==============================================================================\n",
      "\n",
      "Notes:\n",
      "[1] R² is computed without centering (uncentered) since the model does not contain a constant.\n",
      "[2] Standard Errors assume that the covariance matrix of the errors is correctly specified.\n"
     ]
    }
   ],
   "source": [
    "# Adding the interaction term\n",
    "df['interaction_term'] = df['barcelona'] * df['event']\n",
    "\n",
    "# Independent variables\n",
    "X = df[['barcelona', 'event', 'Star', 'interaction_term']]\n",
    "\n",
    "# Dependent variable\n",
    "y = df['Price']\n",
    "\n",
    "# Adding a constant term to the independent variables\n",
    "# X = sm.add_constant(X)\n",
    "\n",
    "# Fit the regression model\n",
    "model = sm.OLS(y, X).fit()\n",
    "\n",
    "# Print out the regression results\n",
    "print(model.summary())"
   ]
  },
  {
   "cell_type": "code",
   "execution_count": 59,
   "metadata": {},
   "outputs": [],
   "source": [
    "# Create a new column 'Top_star' based on the condition\n",
    "df['Top_star'] = (df['Star'].isin([4, 5])).astype(int)\n"
   ]
  },
  {
   "cell_type": "code",
   "execution_count": 60,
   "metadata": {},
   "outputs": [
    {
     "name": "stdout",
     "output_type": "stream",
     "text": [
      "Number of observations: 50\n"
     ]
    }
   ],
   "source": [
    "# Calculate the number of observations meeting the specified conditions\n",
    "num_observations = df[(df['barcelona'] == 1) & (df['Top_star'] == 1) & (df['event'] == 1)].shape[0]\n",
    "\n",
    "# Display the result\n",
    "print(\"Number of observations:\", num_observations)"
   ]
  },
  {
   "cell_type": "code",
   "execution_count": 66,
   "metadata": {},
   "outputs": [
    {
     "name": "stdout",
     "output_type": "stream",
     "text": [
      "                                 OLS Regression Results                                \n",
      "=======================================================================================\n",
      "Dep. Variable:                  Price   R-squared (uncentered):                   0.813\n",
      "Model:                            OLS   Adj. R-squared (uncentered):              0.811\n",
      "Method:                 Least Squares   F-statistic:                              633.5\n",
      "Date:                Wed, 31 Jan 2024   Prob (F-statistic):                   9.17e-211\n",
      "Time:                        15:46:14   Log-Likelihood:                         -4495.1\n",
      "No. Observations:                 588   AIC:                                      8998.\n",
      "Df Residuals:                     584   BIC:                                      9016.\n",
      "Df Model:                           4                                                  \n",
      "Covariance Type:            nonrobust                                                  \n",
      "====================================================================================\n",
      "                       coef    std err          t      P>|t|      [0.025      0.975]\n",
      "------------------------------------------------------------------------------------\n",
      "barcelona          529.5308     48.598     10.896      0.000     434.082     624.979\n",
      "event              526.6199     44.279     11.893      0.000     439.655     613.585\n",
      "Top_star           329.0697     34.962      9.412      0.000     260.403     397.736\n",
      "interaction_term   730.4869     78.534      9.302      0.000     576.243     884.731\n",
      "==============================================================================\n",
      "Omnibus:                      147.143   Durbin-Watson:                   1.467\n",
      "Prob(Omnibus):                  0.000   Jarque-Bera (JB):              752.073\n",
      "Skew:                           1.010   Prob(JB):                    4.89e-164\n",
      "Kurtosis:                       8.159   Cond. No.                         4.49\n",
      "==============================================================================\n",
      "\n",
      "Notes:\n",
      "[1] R² is computed without centering (uncentered) since the model does not contain a constant.\n",
      "[2] Standard Errors assume that the covariance matrix of the errors is correctly specified.\n"
     ]
    }
   ],
   "source": [
    "# Adding the interaction term\n",
    "df['interaction_term'] = df['barcelona'] * df['event']\n",
    "\n",
    "# Independent variables\n",
    "X = df[['barcelona', 'event', 'Top_star', 'interaction_term']]\n",
    "\n",
    "# Dependent variable\n",
    "y = df['Price']\n",
    "\n",
    "# Adding a constant term to the independent variables\n",
    "# X = sm.add_constant(X)\n",
    "\n",
    "# Fit the regression model\n",
    "model = sm.OLS(y, X).fit()\n",
    "\n",
    "# Print out the regression results\n",
    "print(model.summary())"
   ]
  },
  {
   "cell_type": "code",
   "execution_count": 67,
   "metadata": {},
   "outputs": [
    {
     "name": "stdout",
     "output_type": "stream",
     "text": [
      "                                 OLS Regression Results                                \n",
      "=======================================================================================\n",
      "Dep. Variable:                  Price   R-squared (uncentered):                   0.816\n",
      "Model:                            OLS   Adj. R-squared (uncentered):              0.815\n",
      "Method:                 Least Squares   F-statistic:                              517.6\n",
      "Date:                Wed, 31 Jan 2024   Prob (F-statistic):                   1.09e-211\n",
      "Time:                        15:46:26   Log-Likelihood:                         -4489.6\n",
      "No. Observations:                 588   AIC:                                      8989.\n",
      "Df Residuals:                     583   BIC:                                      9011.\n",
      "Df Model:                           5                                                  \n",
      "Covariance Type:            nonrobust                                                  \n",
      "========================================================================================\n",
      "                           coef    std err          t      P>|t|      [0.025      0.975]\n",
      "----------------------------------------------------------------------------------------\n",
      "barcelona              506.5083     48.690     10.403      0.000     410.880     602.137\n",
      "event                  497.2974     44.792     11.102      0.000     409.324     585.271\n",
      "Top_star               376.6496     37.533     10.035      0.000     302.933     450.366\n",
      "interaction_term       888.3549     91.331      9.727      0.000     708.976    1067.734\n",
      "interaction_term_all  -324.0501     97.950     -3.308      0.001    -516.429    -131.671\n",
      "==============================================================================\n",
      "Omnibus:                      147.978   Durbin-Watson:                   1.464\n",
      "Prob(Omnibus):                  0.000   Jarque-Bera (JB):              738.699\n",
      "Skew:                           1.024   Prob(JB):                    3.92e-161\n",
      "Kurtosis:                       8.095   Cond. No.                         6.17\n",
      "==============================================================================\n",
      "\n",
      "Notes:\n",
      "[1] R² is computed without centering (uncentered) since the model does not contain a constant.\n",
      "[2] Standard Errors assume that the covariance matrix of the errors is correctly specified.\n"
     ]
    }
   ],
   "source": [
    "# Adding interaction terms\n",
    "df['interaction_term'] = df['barcelona'] * df['event']\n",
    "df['interaction_term_all'] = df['barcelona'] * df['event'] * df['Top_star']\n",
    "\n",
    "# Independent variables\n",
    "X = df[['barcelona', 'event', 'Top_star', 'interaction_term', 'interaction_term_all']]\n",
    "\n",
    "# Dependent variable\n",
    "y = df['Price']\n",
    "\n",
    "# Adding a constant term to the independent variables\n",
    "# X = sm.add_constant(X)\n",
    "\n",
    "# Fit the regression model\n",
    "model = sm.OLS(y, X).fit()\n",
    "\n",
    "# Print out the regression results\n",
    "print(model.summary())"
   ]
  }
 ],
 "metadata": {
  "kernelspec": {
   "display_name": "basic_env",
   "language": "python",
   "name": "python3"
  },
  "language_info": {
   "codemirror_mode": {
    "name": "ipython",
    "version": 3
   },
   "file_extension": ".py",
   "mimetype": "text/x-python",
   "name": "python",
   "nbconvert_exporter": "python",
   "pygments_lexer": "ipython3",
   "version": "3.9.0"
  }
 },
 "nbformat": 4,
 "nbformat_minor": 2
}
