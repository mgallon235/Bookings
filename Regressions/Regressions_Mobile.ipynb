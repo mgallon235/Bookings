{
 "cells": [
  {
   "cell_type": "code",
   "execution_count": 1,
   "metadata": {},
   "outputs": [],
   "source": [
    "# !pip install statsmodels"
   ]
  },
  {
   "cell_type": "code",
   "execution_count": 2,
   "metadata": {},
   "outputs": [],
   "source": [
    "import pandas as pd\n",
    "import statsmodels.api as sm\n",
    "import matplotlib.pyplot as plt"
   ]
  },
  {
   "cell_type": "code",
   "execution_count": 3,
   "metadata": {},
   "outputs": [
    {
     "name": "stdout",
     "output_type": "stream",
     "text": [
      "(373, 10)\n"
     ]
    }
   ],
   "source": [
    "# Specify the path to the CSV file\n",
    "file_path = 'C:/Users/bakwe/Desktop/BSE/Text_mining/HW1/Scraped_data/Barcelona_25_01.csv'\n",
    "\n",
    "# Read the CSV file into a DataFrame\n",
    "df = pd.read_csv(file_path)\n",
    "\n",
    "# Adding 'barcelona' column with values equal to 1\n",
    "df['barcelona'] = 1\n",
    "\n",
    "# Adding the 'event' column with values equal to 1\n",
    "df['event'] = 1\n",
    "\n",
    "# Display the DataFrame\n",
    "print(df.shape)"
   ]
  },
  {
   "cell_type": "code",
   "execution_count": 4,
   "metadata": {},
   "outputs": [
    {
     "name": "stdout",
     "output_type": "stream",
     "text": [
      "\n",
      "Updated df after adding rows from V1:\n",
      "(770, 10)\n"
     ]
    }
   ],
   "source": [
    "# Specify the path to the CSV file\n",
    "file_path = 'C:/Users/bakwe/Desktop/BSE/Text_mining/HW1/Scraped_data/Valencia_25_01.csv'\n",
    "\n",
    "# Read the CSV file into a DataFrame\n",
    "V1 = pd.read_csv(file_path)\n",
    "\n",
    "# Adding rows from V1 to df with 'barcelona' values set to 0 and 'event' values set to 1\n",
    "df = pd.concat([df, V1.assign(barcelona=0, event=1)], ignore_index=True)\n",
    "\n",
    "# Displaying the updated df DataFrame\n",
    "print(\"\\nUpdated df after adding rows from V1:\")\n",
    "print(df.shape)\n"
   ]
  },
  {
   "cell_type": "code",
   "execution_count": 5,
   "metadata": {},
   "outputs": [
    {
     "name": "stdout",
     "output_type": "stream",
     "text": [
      "\n",
      "Updated df after adding rows from V1:\n",
      "(1167, 10)\n"
     ]
    }
   ],
   "source": [
    "# Specify the path to the CSV file\n",
    "file_path = 'C:/Users/bakwe/Desktop/BSE/Text_mining/HW1/Scraped_data/Valencia_19_24.csv'\n",
    "\n",
    "# Read the CSV file into a DataFrame\n",
    "V0 = pd.read_csv(file_path)\n",
    "\n",
    "# Adding rows from V1 to df with 'barcelona' values set to 0 and 'event' values set to 0\n",
    "df = pd.concat([df, V0.assign(barcelona=0, event=0)], ignore_index=True)\n",
    "\n",
    "# Displaying the updated df DataFrame\n",
    "print(\"\\nUpdated df after adding rows from V1:\")\n",
    "print(df.shape)"
   ]
  },
  {
   "cell_type": "code",
   "execution_count": 6,
   "metadata": {},
   "outputs": [
    {
     "name": "stdout",
     "output_type": "stream",
     "text": [
      "\n",
      "Updated df after adding rows from V1:\n",
      "(1605, 10)\n",
      "Index(['Hotels', 'Ratings', 'Distance', 'District', 'Price', 'Link', 'Star',\n",
      "       'Descriptions', 'barcelona', 'event'],\n",
      "      dtype='object')\n"
     ]
    }
   ],
   "source": [
    "# Specify the path to the CSV file\n",
    "file_path = 'C:/Users/bakwe/Desktop/BSE/Text_mining/HW1/Scraped_data/Barcelona_19_24.csv'\n",
    "\n",
    "# Read the CSV file into a DataFrame\n",
    "B0 = pd.read_csv(file_path)\n",
    "\n",
    "# Adding rows from B0 to df with 'barcelona' values set to 1 and 'event' values set to 0\n",
    "df = pd.concat([df, B0.assign(barcelona=1, event=0)], ignore_index=True)\n",
    "\n",
    "# Displaying the updated df DataFrame\n",
    "print(\"\\nUpdated df after adding rows from V1:\")\n",
    "print(df.shape)\n",
    "print(df.columns)"
   ]
  },
  {
   "cell_type": "code",
   "execution_count": 7,
   "metadata": {},
   "outputs": [],
   "source": [
    "# Create a DataFrame\n",
    "df = pd.DataFrame(df)"
   ]
  },
  {
   "cell_type": "code",
   "execution_count": 8,
   "metadata": {},
   "outputs": [
    {
     "name": "stdout",
     "output_type": "stream",
     "text": [
      "Oliveira Rooms                      2\n",
      "NH Barcelona Les Corts              2\n",
      "Hospes Palau de La Mar              2\n",
      "Alcam Baro SA                       2\n",
      "NH Barcelona Stadium                2\n",
      "                                   ..\n",
      "Allegro Barcelona                   2\n",
      "Best Western Premier Hotel Dante    2\n",
      "BYPILLOW House                      2\n",
      "The Moods Oasis                     2\n",
      "Hostal Rio De Castro                2\n",
      "Name: Hotels, Length: 294, dtype: int64\n"
     ]
    }
   ],
   "source": [
    "# First, count the occurrences of each value in the 'Hotels' column\n",
    "hotel_counts = df['Hotels'].value_counts()\n",
    "\n",
    "# Then, create a new DataFrame containing only rows with 'Hotels' values that appear twice\n",
    "filtered_df = df[df['Hotels'].isin(hotel_counts[hotel_counts == 2].index)]\n",
    "\n",
    "# Finally, print the count of 'Hotels' values\n",
    "print(hotel_counts[hotel_counts == 2])"
   ]
  },
  {
   "cell_type": "code",
   "execution_count": 9,
   "metadata": {},
   "outputs": [],
   "source": [
    "# # Find the 'Price' value when 'Hotels' is equal to 'Ohla Barcelona'\n",
    "# ohla_barcelona_price = df.loc[df['Hotels'] == 'Ohla Barcelona', 'Price'].values[0]\n",
    "\n",
    "# # Print the 'Price' value\n",
    "# print(\"Price for 'Hotels' == 'Ohla Barcelona':\", ohla_barcelona_price)"
   ]
  },
  {
   "cell_type": "code",
   "execution_count": 10,
   "metadata": {},
   "outputs": [
    {
     "name": "stdout",
     "output_type": "stream",
     "text": [
      "                                Hotels Ratings             Distance  District  \\\n",
      "0         apartment next to park guell     9,0  a 2,7 km del centro       NaN   \n",
      "1           Melia Barcelona Sky 4* Sup     8,2  a 3,3 km del centro       NaN   \n",
      "2                Nice room By Eixample     6,7  a 1,3 km del centro       NaN   \n",
      "3         Mercedes Heritage Apartments     8,5  a 1,5 km del centro       NaN   \n",
      "4  Gran Hotel La Florida G.L Monumento     8,7  a 5,9 km del centro       NaN   \n",
      "\n",
      "   Price                                               Link  Star  \\\n",
      "0   1608  https://www.booking.com/hotel/es/apartment-par...     4   \n",
      "1   3343  https://www.booking.com/hotel/es/melia-barcelo...     4   \n",
      "2    687  https://www.booking.com/hotel/es/nice-room-for...     5   \n",
      "3   3565  https://www.booking.com/hotel/es/provenza-mbs....     2   \n",
      "4   1963  https://www.booking.com/hotel/es/gran-la-flori...     4   \n",
      "\n",
      "                                        Descriptions  barcelona  event  \n",
      "0  Apartment next to park guell se encuentra en B...          1      1  \n",
      "1  Este hotel de diseño ocupa uno de los edificio...          1      1  \n",
      "2  Nice room By Eixample se encuentra en Barcelon...          1      1  \n",
      "3  El Mercedes Heritage Apartments, situado en l'...          1      1  \n",
      "4  El Gran Hotel La Florida G.L Monumento, de 5 e...          1      1  \n"
     ]
    }
   ],
   "source": [
    "# Extract only digits from the 'Price' column and convert to numeric\n",
    "df['Price'] = pd.to_numeric(df['Price'].str.replace('[^\\d]', '', regex=True), errors='coerce')\n",
    "\n",
    "# Extract the first digit and convert to numeric\n",
    "df['Star'] = pd.to_numeric(df['Star'].str.extract('(\\d)', expand=False), errors='coerce')\n",
    "\n",
    "# Display the updated DataFrame\n",
    "print(df.head())"
   ]
  },
  {
   "cell_type": "code",
   "execution_count": 11,
   "metadata": {},
   "outputs": [],
   "source": [
    "# # Find the 'Price' value when 'Hotels' is equal to 'Ohla Barcelona'\n",
    "# ohla_barcelona_price = df.loc[df['Hotels'] == 'Ohla Barcelona', 'Price'].values[0]\n",
    "\n",
    "# # Print the 'Price' value\n",
    "# print(\"Price for 'Hotels' == 'Ohla Barcelona':\", ohla_barcelona_price)"
   ]
  },
  {
   "cell_type": "code",
   "execution_count": 12,
   "metadata": {},
   "outputs": [
    {
     "name": "stdout",
     "output_type": "stream",
     "text": [
      "<class 'pandas.core.frame.DataFrame'>\n",
      "RangeIndex: 1605 entries, 0 to 1604\n",
      "Data columns (total 10 columns):\n",
      " #   Column        Non-Null Count  Dtype  \n",
      "---  ------        --------------  -----  \n",
      " 0   Hotels        1605 non-null   object \n",
      " 1   Ratings       1605 non-null   object \n",
      " 2   Distance      1605 non-null   object \n",
      " 3   District      0 non-null      float64\n",
      " 4   Price         1605 non-null   int64  \n",
      " 5   Link          1605 non-null   object \n",
      " 6   Star          1605 non-null   int64  \n",
      " 7   Descriptions  1605 non-null   object \n",
      " 8   barcelona     1605 non-null   int64  \n",
      " 9   event         1605 non-null   int64  \n",
      "dtypes: float64(1), int64(4), object(5)\n",
      "memory usage: 125.5+ KB\n",
      "None\n"
     ]
    }
   ],
   "source": [
    "# Display the count of NaN values in each column\n",
    "print(df.info())"
   ]
  },
  {
   "cell_type": "code",
   "execution_count": 13,
   "metadata": {},
   "outputs": [
    {
     "name": "stdout",
     "output_type": "stream",
     "text": [
      "   barcelona  event        Price\n",
      "0          0      0   543.413098\n",
      "1          0      1   722.267003\n",
      "2          1      0   742.762557\n",
      "3          1      1  1857.469169\n"
     ]
    }
   ],
   "source": [
    "# Group the DataFrame by 'barcelona' and 'event' columns and calculate the mean of 'Price'\n",
    "result = df.groupby(['barcelona', 'event'])['Price'].mean().reset_index()\n",
    "\n",
    "# Order the result DataFrame by the 'Star' column\n",
    "# result = result.sort_values(by=['Star'])\n",
    "\n",
    "# 'result' will now contain the average 'Price' for each combination of 'barcelona' and 'event'\n",
    "print(result)"
   ]
  },
  {
   "cell_type": "code",
   "execution_count": 14,
   "metadata": {},
   "outputs": [
    {
     "name": "stdout",
     "output_type": "stream",
     "text": [
      "4    846\n",
      "3    528\n",
      "2    139\n",
      "1     49\n",
      "5     43\n",
      "Name: Star, dtype: int64\n"
     ]
    }
   ],
   "source": [
    "# Count the occurrences of each unique value in the 'Star' column\n",
    "star_counts = df['Star'].value_counts()\n",
    "\n",
    "# Print the count of values for each unique 'Star'\n",
    "print(star_counts)"
   ]
  },
  {
   "cell_type": "code",
   "execution_count": 15,
   "metadata": {},
   "outputs": [
    {
     "data": {
      "image/png": "[encoded data removed]",
      "text/plain": [
       "<Figure size 640x480 with 1 Axes>"
      ]
     },
     "metadata": {},
     "output_type": "display_data"
    }
   ],
   "source": [
    "# Group the DataFrame by the 'Star' column and create boxplots for each group\n",
    "plt.boxplot([df['Price'][df['Star'] == star] for star in df['Star'].unique()], \n",
    "            labels=df['Star'].unique())\n",
    "plt.xlabel('Star')\n",
    "plt.ylabel('Price')\n",
    "plt.title('Boxplots of Price for Different Star Values')\n",
    "plt.show()"
   ]
  },
  {
   "cell_type": "code",
   "execution_count": 16,
   "metadata": {},
   "outputs": [
    {
     "name": "stdout",
     "output_type": "stream",
     "text": [
      "                                 OLS Regression Results                                \n",
      "=======================================================================================\n",
      "Dep. Variable:                  Price   R-squared (uncentered):                   0.575\n",
      "Model:                            OLS   Adj. R-squared (uncentered):              0.574\n",
      "Method:                 Least Squares   F-statistic:                              2167.\n",
      "Date:                Wed, 31 Jan 2024   Prob (F-statistic):                   4.50e-300\n",
      "Time:                        09:03:44   Log-Likelihood:                         -12940.\n",
      "No. Observations:                1605   AIC:                                  2.588e+04\n",
      "Df Residuals:                    1604   BIC:                                  2.589e+04\n",
      "Df Model:                           1                                                  \n",
      "Covariance Type:            nonrobust                                                  \n",
      "==============================================================================\n",
      "                 coef    std err          t      P>|t|      [0.025      0.975]\n",
      "------------------------------------------------------------------------------\n",
      "barcelona   1255.4451     26.968     46.554      0.000    1202.549    1308.341\n",
      "==============================================================================\n",
      "Omnibus:                      189.591   Durbin-Watson:                   0.632\n",
      "Prob(Omnibus):                  0.000   Jarque-Bera (JB):              497.789\n",
      "Skew:                           0.646   Prob(JB):                    8.06e-109\n",
      "Kurtosis:                       5.403   Cond. No.                         1.00\n",
      "==============================================================================\n",
      "\n",
      "Notes:\n",
      "[1] R² is computed without centering (uncentered) since the model does not contain a constant.\n",
      "[2] Standard Errors assume that the covariance matrix of the errors is correctly specified.\n"
     ]
    }
   ],
   "source": [
    "# Independent variables\n",
    "X = df[['barcelona']]\n",
    "\n",
    "# Dependent variable\n",
    "y = df['Price']\n",
    "\n",
    "# Fit the regression model\n",
    "model = sm.OLS(y, X).fit()\n",
    "\n",
    "# Print out the regression results\n",
    "print(model.summary())"
   ]
  },
  {
   "cell_type": "code",
   "execution_count": 17,
   "metadata": {},
   "outputs": [
    {
     "name": "stdout",
     "output_type": "stream",
     "text": [
      "                                 OLS Regression Results                                \n",
      "=======================================================================================\n",
      "Dep. Variable:                  Price   R-squared (uncentered):                   0.560\n",
      "Model:                            OLS   Adj. R-squared (uncentered):              0.560\n",
      "Method:                 Least Squares   F-statistic:                              2044.\n",
      "Date:                Wed, 31 Jan 2024   Prob (F-statistic):                   1.84e-288\n",
      "Time:                        09:03:44   Log-Likelihood:                         -12967.\n",
      "No. Observations:                1605   AIC:                                  2.594e+04\n",
      "Df Residuals:                    1604   BIC:                                  2.594e+04\n",
      "Df Model:                           1                                                  \n",
      "Covariance Type:            nonrobust                                                  \n",
      "==============================================================================\n",
      "                 coef    std err          t      P>|t|      [0.025      0.975]\n",
      "------------------------------------------------------------------------------\n",
      "event       1272.1766     28.141     45.207      0.000    1216.979    1327.374\n",
      "==============================================================================\n",
      "Omnibus:                      166.018   Durbin-Watson:                   0.613\n",
      "Prob(Omnibus):                  0.000   Jarque-Bera (JB):              493.228\n",
      "Skew:                           0.531   Prob(JB):                    7.89e-108\n",
      "Kurtosis:                       5.500   Cond. No.                         1.00\n",
      "==============================================================================\n",
      "\n",
      "Notes:\n",
      "[1] R² is computed without centering (uncentered) since the model does not contain a constant.\n",
      "[2] Standard Errors assume that the covariance matrix of the errors is correctly specified.\n"
     ]
    }
   ],
   "source": [
    "# Independent variables\n",
    "X = df[['event']]\n",
    "\n",
    "# Dependent variable\n",
    "y = df['Price']\n",
    "\n",
    "# Fit the regression model\n",
    "model = sm.OLS(y, X).fit()\n",
    "\n",
    "# Print out the regression results\n",
    "print(model.summary())"
   ]
  },
  {
   "cell_type": "code",
   "execution_count": 18,
   "metadata": {},
   "outputs": [
    {
     "name": "stdout",
     "output_type": "stream",
     "text": [
      "                                 OLS Regression Results                                \n",
      "=======================================================================================\n",
      "Dep. Variable:                  Price   R-squared (uncentered):                   0.780\n",
      "Model:                            OLS   Adj. R-squared (uncentered):              0.780\n",
      "Method:                 Least Squares   F-statistic:                              1897.\n",
      "Date:                Wed, 31 Jan 2024   Prob (F-statistic):                        0.00\n",
      "Time:                        09:03:44   Log-Likelihood:                         -12410.\n",
      "No. Observations:                1605   AIC:                                  2.483e+04\n",
      "Df Residuals:                    1602   BIC:                                  2.484e+04\n",
      "Df Model:                           3                                                  \n",
      "Covariance Type:            nonrobust                                                  \n",
      "====================================================================================\n",
      "                       coef    std err          t      P>|t|      [0.025      0.975]\n",
      "------------------------------------------------------------------------------------\n",
      "barcelona          742.7626     26.389     28.147      0.000     691.002     794.523\n",
      "event              722.2670     27.718     26.058      0.000     667.899     776.635\n",
      "interaction_term   392.4396     47.775      8.214      0.000     298.732     486.147\n",
      "==============================================================================\n",
      "Omnibus:                      415.459   Durbin-Watson:                   1.222\n",
      "Prob(Omnibus):                  0.000   Jarque-Bera (JB):             2408.605\n",
      "Skew:                           1.080   Prob(JB):                         0.00\n",
      "Kurtosis:                       8.599   Cond. No.                         3.62\n",
      "==============================================================================\n",
      "\n",
      "Notes:\n",
      "[1] R² is computed without centering (uncentered) since the model does not contain a constant.\n",
      "[2] Standard Errors assume that the covariance matrix of the errors is correctly specified.\n"
     ]
    }
   ],
   "source": [
    "# Adding the interaction term\n",
    "df['interaction_term'] = df['barcelona'] * df['event']\n",
    "\n",
    "# Independent variables\n",
    "X = df[['barcelona', 'event', 'interaction_term']]\n",
    "\n",
    "# Dependent variable\n",
    "y = df['Price']\n",
    "\n",
    "# Fit the regression model\n",
    "model = sm.OLS(y, X).fit()\n",
    "\n",
    "# Print out the regression results\n",
    "print(model.summary())"
   ]
  },
  {
   "cell_type": "code",
   "execution_count": 19,
   "metadata": {},
   "outputs": [
    {
     "name": "stdout",
     "output_type": "stream",
     "text": [
      "                            OLS Regression Results                            \n",
      "==============================================================================\n",
      "Dep. Variable:                  Price   R-squared:                       0.526\n",
      "Model:                            OLS   Adj. R-squared:                  0.525\n",
      "Method:                 Least Squares   F-statistic:                     592.3\n",
      "Date:                Wed, 31 Jan 2024   Prob (F-statistic):          6.42e-259\n",
      "Time:                        09:03:45   Log-Likelihood:                -12190.\n",
      "No. Observations:                1605   AIC:                         2.439e+04\n",
      "Df Residuals:                    1601   BIC:                         2.441e+04\n",
      "Df Model:                           3                                         \n",
      "Covariance Type:            nonrobust                                         \n",
      "====================================================================================\n",
      "                       coef    std err          t      P>|t|      [0.025      0.975]\n",
      "------------------------------------------------------------------------------------\n",
      "const              543.4131     24.173     22.480      0.000     495.999     590.827\n",
      "barcelona          199.3495     33.376      5.973      0.000     133.884     264.815\n",
      "event              178.8539     34.186      5.232      0.000     111.800     245.907\n",
      "interaction_term   935.8527     48.169     19.429      0.000     841.372    1030.333\n",
      "==============================================================================\n",
      "Omnibus:                      806.223   Durbin-Watson:                   1.604\n",
      "Prob(Omnibus):                  0.000   Jarque-Bera (JB):            10079.950\n",
      "Skew:                           2.039   Prob(JB):                         0.00\n",
      "Kurtosis:                      14.580   Cond. No.                         6.77\n",
      "==============================================================================\n",
      "\n",
      "Notes:\n",
      "[1] Standard Errors assume that the covariance matrix of the errors is correctly specified.\n"
     ]
    }
   ],
   "source": [
    "# Adding the interaction term\n",
    "df['interaction_term'] = df['barcelona'] * df['event']\n",
    "\n",
    "# Independent variables\n",
    "X = df[['barcelona', 'event', 'interaction_term']]\n",
    "\n",
    "# Dependent variable\n",
    "y = df['Price']\n",
    "\n",
    "# Adding a constant term to the independent variables\n",
    "X = sm.add_constant(X)\n",
    "\n",
    "# Fit the regression model without adding a constant term\n",
    "model = sm.OLS(y, X).fit()\n",
    "\n",
    "# Print out the regression results\n",
    "print(model.summary())"
   ]
  },
  {
   "cell_type": "code",
   "execution_count": 20,
   "metadata": {},
   "outputs": [
    {
     "name": "stdout",
     "output_type": "stream",
     "text": [
      "                            OLS Regression Results                            \n",
      "==============================================================================\n",
      "Dep. Variable:                  Price   R-squared:                       0.533\n",
      "Model:                            OLS   Adj. R-squared:                  0.532\n",
      "Method:                 Least Squares   F-statistic:                     456.2\n",
      "Date:                Wed, 31 Jan 2024   Prob (F-statistic):          1.67e-262\n",
      "Time:                        09:03:45   Log-Likelihood:                -12178.\n",
      "No. Observations:                1605   AIC:                         2.437e+04\n",
      "Df Residuals:                    1600   BIC:                         2.439e+04\n",
      "Df Model:                           4                                         \n",
      "Covariance Type:            nonrobust                                         \n",
      "====================================================================================\n",
      "                       coef    std err          t      P>|t|      [0.025      0.975]\n",
      "------------------------------------------------------------------------------------\n",
      "const              281.3679     59.408      4.736      0.000     164.841     397.895\n",
      "barcelona          218.2237     33.377      6.538      0.000     152.757     283.691\n",
      "event              178.1199     33.951      5.246      0.000     111.527     244.713\n",
      "Star                72.8515     15.108      4.822      0.000      43.219     102.484\n",
      "interaction_term   947.7267     47.901     19.785      0.000     853.772    1041.681\n",
      "==============================================================================\n",
      "Omnibus:                      803.877   Durbin-Watson:                   1.645\n",
      "Prob(Omnibus):                  0.000   Jarque-Bera (JB):             9909.594\n",
      "Skew:                           2.036   Prob(JB):                         0.00\n",
      "Kurtosis:                      14.472   Cond. No.                         21.2\n",
      "==============================================================================\n",
      "\n",
      "Notes:\n",
      "[1] Standard Errors assume that the covariance matrix of the errors is correctly specified.\n"
     ]
    }
   ],
   "source": [
    "# Adding the interaction term\n",
    "df['interaction_term'] = df['barcelona'] * df['event']\n",
    "\n",
    "# Independent variables\n",
    "X = df[['barcelona', 'event', 'Star', 'interaction_term']]\n",
    "\n",
    "# Dependent variable\n",
    "y = df['Price']\n",
    "\n",
    "# Adding a constant term to the independent variables\n",
    "X = sm.add_constant(X)\n",
    "\n",
    "# Fit the regression model\n",
    "model = sm.OLS(y, X).fit()\n",
    "\n",
    "# Print out the regression results\n",
    "print(model.summary())"
   ]
  },
  {
   "cell_type": "code",
   "execution_count": 21,
   "metadata": {},
   "outputs": [],
   "source": [
    "# Create a new column 'Top_star' based on the condition\n",
    "df['Top_star'] = (df['Star'].isin([4, 5])).astype(int)\n"
   ]
  },
  {
   "cell_type": "code",
   "execution_count": 22,
   "metadata": {},
   "outputs": [
    {
     "name": "stdout",
     "output_type": "stream",
     "text": [
      "Number of observations: 156\n"
     ]
    }
   ],
   "source": [
    "# Calculate the number of observations meeting the specified conditions\n",
    "num_observations = df[(df['barcelona'] == 1) & (df['Top_star'] == 1) & (df['event'] == 1)].shape[0]\n",
    "\n",
    "# Display the result\n",
    "print(\"Number of observations:\", num_observations)"
   ]
  },
  {
   "cell_type": "code",
   "execution_count": 23,
   "metadata": {},
   "outputs": [
    {
     "name": "stdout",
     "output_type": "stream",
     "text": [
      "                            OLS Regression Results                            \n",
      "==============================================================================\n",
      "Dep. Variable:                  Price   R-squared:                       0.531\n",
      "Model:                            OLS   Adj. R-squared:                  0.529\n",
      "Method:                 Least Squares   F-statistic:                     452.0\n",
      "Date:                Wed, 31 Jan 2024   Prob (F-statistic):          8.32e-261\n",
      "Time:                        09:03:45   Log-Likelihood:                -12182.\n",
      "No. Observations:                1605   AIC:                         2.437e+04\n",
      "Df Residuals:                    1600   BIC:                         2.440e+04\n",
      "Df Model:                           4                                         \n",
      "Covariance Type:            nonrobust                                         \n",
      "====================================================================================\n",
      "                       coef    std err          t      P>|t|      [0.025      0.975]\n",
      "------------------------------------------------------------------------------------\n",
      "const              482.1526     28.705     16.797      0.000     425.850     538.455\n",
      "barcelona          212.5459     33.398      6.364      0.000     147.037     278.055\n",
      "event              176.9168     34.037      5.198      0.000     110.154     243.679\n",
      "Top_star            96.1281     24.552      3.915      0.000      47.971     144.285\n",
      "interaction_term   945.6501     48.020     19.693      0.000     851.462    1039.839\n",
      "==============================================================================\n",
      "Omnibus:                      798.945   Durbin-Watson:                   1.632\n",
      "Prob(Omnibus):                  0.000   Jarque-Bera (JB):             9818.051\n",
      "Skew:                           2.020   Prob(JB):                         0.00\n",
      "Kurtosis:                      14.423   Cond. No.                         7.37\n",
      "==============================================================================\n",
      "\n",
      "Notes:\n",
      "[1] Standard Errors assume that the covariance matrix of the errors is correctly specified.\n"
     ]
    }
   ],
   "source": [
    "# Adding the interaction term\n",
    "df['interaction_term'] = df['barcelona'] * df['event']\n",
    "\n",
    "# Independent variables\n",
    "X = df[['barcelona', 'event', 'Top_star', 'interaction_term']]\n",
    "\n",
    "# Dependent variable\n",
    "y = df['Price']\n",
    "\n",
    "# Adding a constant term to the independent variables\n",
    "X = sm.add_constant(X)\n",
    "\n",
    "# Fit the regression model\n",
    "model = sm.OLS(y, X).fit()\n",
    "\n",
    "# Print out the regression results\n",
    "print(model.summary())"
   ]
  },
  {
   "cell_type": "code",
   "execution_count": 24,
   "metadata": {},
   "outputs": [
    {
     "name": "stdout",
     "output_type": "stream",
     "text": [
      "                            OLS Regression Results                            \n",
      "==============================================================================\n",
      "Dep. Variable:                  Price   R-squared:                       0.533\n",
      "Model:                            OLS   Adj. R-squared:                  0.532\n",
      "Method:                 Least Squares   F-statistic:                     365.3\n",
      "Date:                Wed, 31 Jan 2024   Prob (F-statistic):          2.01e-261\n",
      "Time:                        09:03:45   Log-Likelihood:                -12178.\n",
      "No. Observations:                1605   AIC:                         2.437e+04\n",
      "Df Residuals:                    1599   BIC:                         2.440e+04\n",
      "Df Model:                           5                                         \n",
      "Covariance Type:            nonrobust                                         \n",
      "========================================================================================\n",
      "                           coef    std err          t      P>|t|      [0.025      0.975]\n",
      "----------------------------------------------------------------------------------------\n",
      "const                  508.4954     29.931     16.989      0.000     449.788     567.203\n",
      "barcelona              206.8712     33.367      6.200      0.000     141.424     272.318\n",
      "event                  177.7498     33.952      5.235      0.000     111.154     244.346\n",
      "Top_star                54.7917     28.053      1.953      0.051      -0.233     109.817\n",
      "interaction_term       868.7775     54.239     16.018      0.000     762.391     975.164\n",
      "interaction_term_all   173.7309     57.512      3.021      0.003      60.925     286.537\n",
      "==============================================================================\n",
      "Omnibus:                      787.696   Durbin-Watson:                   1.655\n",
      "Prob(Omnibus):                  0.000   Jarque-Bera (JB):             9438.906\n",
      "Skew:                           1.992   Prob(JB):                         0.00\n",
      "Kurtosis:                      14.193   Cond. No.                         8.45\n",
      "==============================================================================\n",
      "\n",
      "Notes:\n",
      "[1] Standard Errors assume that the covariance matrix of the errors is correctly specified.\n"
     ]
    }
   ],
   "source": [
    "# Adding interaction terms\n",
    "df['interaction_term'] = df['barcelona'] * df['event']\n",
    "df['interaction_term_all'] = df['barcelona'] * df['event'] * df['Top_star']\n",
    "\n",
    "# Independent variables\n",
    "X = df[['barcelona', 'event', 'Top_star', 'interaction_term', 'interaction_term_all']]\n",
    "\n",
    "# Dependent variable\n",
    "y = df['Price']\n",
    "\n",
    "# Adding a constant term to the independent variables\n",
    "X = sm.add_constant(X)\n",
    "\n",
    "# Fit the regression model\n",
    "model = sm.OLS(y, X).fit()\n",
    "\n",
    "# Print out the regression results\n",
    "print(model.summary())"
   ]
  }
 ],
 "metadata": {
  "kernelspec": {
   "display_name": "basic_env",
   "language": "python",
   "name": "python3"
  },
  "language_info": {
   "codemirror_mode": {
    "name": "ipython",
    "version": 3
   },
   "file_extension": ".py",
   "mimetype": "text/x-python",
   "name": "python",
   "nbconvert_exporter": "python",
   "pygments_lexer": "ipython3",
   "version": "3.9.0"
  }
 },
 "nbformat": 4,
 "nbformat_minor": 2
}
