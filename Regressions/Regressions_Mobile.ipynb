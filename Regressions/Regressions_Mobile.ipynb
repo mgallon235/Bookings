{
 "cells": [
  {
   "cell_type": "code",
   "execution_count": 46,
   "metadata": {},
   "outputs": [],
   "source": [
    "# !pip install statsmodels"
   ]
  },
  {
   "cell_type": "code",
   "execution_count": 47,
   "metadata": {},
   "outputs": [],
   "source": [
    "import pandas as pd\n",
    "import statsmodels.api as sm\n",
    "import matplotlib.pyplot as plt"
   ]
  },
  {
   "cell_type": "code",
   "execution_count": 48,
   "metadata": {},
   "outputs": [
    {
     "name": "stdout",
     "output_type": "stream",
     "text": [
      "(373, 10)\n"
     ]
    }
   ],
   "source": [
    "# Specify the path to the CSV file\n",
    "file_path = 'C:/Users/bakwe/Desktop/BSE/Text_mining/HW1/Scraped_data/Barcelona_25_01.csv'\n",
    "\n",
    "# Read the CSV file into a DataFrame\n",
    "df = pd.read_csv(file_path)\n",
    "\n",
    "# Adding 'barcelona' column with values equal to 1\n",
    "df['barcelona'] = 1\n",
    "\n",
    "# Adding the 'event' column with values equal to 1\n",
    "df['event'] = 1\n",
    "\n",
    "# Display the DataFrame\n",
    "print(df.shape)"
   ]
  },
  {
   "cell_type": "code",
   "execution_count": 49,
   "metadata": {},
   "outputs": [
    {
     "name": "stdout",
     "output_type": "stream",
     "text": [
      "\n",
      "Updated df after adding rows from V1:\n",
      "(770, 10)\n"
     ]
    }
   ],
   "source": [
    "# Specify the path to the CSV file\n",
    "file_path = 'C:/Users/bakwe/Desktop/BSE/Text_mining/HW1/Scraped_data/Valencia_25_01.csv'\n",
    "\n",
    "# Read the CSV file into a DataFrame\n",
    "V1 = pd.read_csv(file_path)\n",
    "\n",
    "# Adding rows from V1 to df with 'barcelona' values set to 0 and 'event' values set to 1\n",
    "df = pd.concat([df, V1.assign(barcelona=0, event=1)], ignore_index=True)\n",
    "\n",
    "# Displaying the updated df DataFrame\n",
    "print(\"\\nUpdated df after adding rows from V1:\")\n",
    "print(df.shape)\n"
   ]
  },
  {
   "cell_type": "code",
   "execution_count": 50,
   "metadata": {},
   "outputs": [],
   "source": [
    "# # Specify the path to the CSV file\n",
    "# file_path = 'C:/Users/bakwe/Desktop/BSE/Text_mining/HW1/Scraped_data/Valencia_19_24.csv'\n",
    "\n",
    "# # Read the CSV file into a DataFrame\n",
    "# V0 = pd.read_csv(file_path)\n",
    "\n",
    "# # Adding rows from V1 to df with 'barcelona' values set to 0 and 'event' values set to 0\n",
    "# df = pd.concat([df, V0.assign(barcelona=0, event=0)], ignore_index=True)\n",
    "\n",
    "# # Displaying the updated df DataFrame\n",
    "# print(\"\\nUpdated df after adding rows from V1:\")\n",
    "# print(df.shape)"
   ]
  },
  {
   "cell_type": "code",
   "execution_count": 51,
   "metadata": {},
   "outputs": [
    {
     "name": "stdout",
     "output_type": "stream",
     "text": [
      "\n",
      "Updated df after adding rows from filtered V0:\n",
      "(923, 10)\n"
     ]
    }
   ],
   "source": [
    "# Specify the path to the CSV file\n",
    "file_path = 'C:/Users/bakwe/Desktop/BSE/Text_mining/HW1/Scraped_data/Valencia_05_24_05_28.csv'\n",
    "\n",
    "# Read the CSV file into a DataFrame (V0)\n",
    "V0 = pd.read_csv(file_path)\n",
    "\n",
    "# Filter the rows in V0 where 'Hotels' exists in the 'Hotels' column of V1\n",
    "filtered_V0 = V0[V0['Hotels'].isin(V1['Hotels'])]\n",
    "\n",
    "# Adding rows from filtered V0 to df with 'barcelona' values set to 0 and 'event' values set to 0\n",
    "df = pd.concat([df, filtered_V0.assign(barcelona=0, event=0)], ignore_index=True)\n",
    "\n",
    "# Displaying the updated df DataFrame\n",
    "print(\"\\nUpdated df after adding rows from filtered V0:\")\n",
    "print(df.shape)\n"
   ]
  },
  {
   "cell_type": "code",
   "execution_count": 52,
   "metadata": {},
   "outputs": [],
   "source": [
    "# # Specify the path to the CSV file\n",
    "# file_path = 'C:/Users/bakwe/Desktop/BSE/Text_mining/HW1/Scraped_data/Barcelona_19_24.csv'\n",
    "\n",
    "# # Read the CSV file into a DataFrame\n",
    "# B0 = pd.read_csv(file_path)\n",
    "\n",
    "# # Adding rows from B0 to df with 'barcelona' values set to 1 and 'event' values set to 0\n",
    "# df = pd.concat([df, B0.assign(barcelona=1, event=0)], ignore_index=True)\n",
    "\n",
    "# # Displaying the updated df DataFrame\n",
    "# print(\"\\nUpdated df after adding rows from V1:\")\n",
    "# print(df.shape)\n",
    "# print(df.columns)"
   ]
  },
  {
   "cell_type": "code",
   "execution_count": 53,
   "metadata": {},
   "outputs": [
    {
     "name": "stdout",
     "output_type": "stream",
     "text": [
      "\n",
      "Updated df after adding rows from filtered BO:\n",
      "(1022, 10)\n",
      "Index(['Hotels', 'Ratings', 'Distance', 'District', 'Price', 'Link', 'Star',\n",
      "       'Descriptions', 'barcelona', 'event'],\n",
      "      dtype='object')\n"
     ]
    }
   ],
   "source": [
    "import pandas as pd\n",
    "\n",
    "# Specify the path to the CSV file (BO)\n",
    "file_path_BO = 'C:/Users/bakwe/Desktop/BSE/Text_mining/HW1/Scraped_data/Barcelona_05_24_05_28.csv'\n",
    "\n",
    "# Read the CSV file into a DataFrame (BO)\n",
    "B0 = pd.read_csv(file_path_BO)\n",
    "\n",
    "# Filter the rows in BO where 'Hotels' exists in the 'Hotels' column of df\n",
    "filtered_B0 = B0[B0['Hotels'].isin(df['Hotels'])]\n",
    "\n",
    "# Adding rows from filtered BO to df with 'barcelona' values set to 1 and 'event' values set to 0\n",
    "df = pd.concat([df, filtered_B0.assign(barcelona=1, event=0)], ignore_index=True)\n",
    "\n",
    "# Displaying the updated df DataFrame\n",
    "print(\"\\nUpdated df after adding rows from filtered BO:\")\n",
    "print(df.shape)\n",
    "print(df.columns)\n"
   ]
  },
  {
   "cell_type": "code",
   "execution_count": 54,
   "metadata": {},
   "outputs": [],
   "source": [
    "# Create a DataFrame\n",
    "df = pd.DataFrame(df)"
   ]
  },
  {
   "cell_type": "code",
   "execution_count": 55,
   "metadata": {},
   "outputs": [],
   "source": [
    "# # Find the 'Price' value when 'Hotels' is equal to 'Ohla Barcelona'\n",
    "# ohla_barcelona_price = df.loc[df['Hotels'] == 'Ohla Barcelona', 'Price'].values[0]\n",
    "\n",
    "# # Print the 'Price' value\n",
    "# print(\"Price for 'Hotels' == 'Ohla Barcelona':\", ohla_barcelona_price)"
   ]
  },
  {
   "cell_type": "code",
   "execution_count": 56,
   "metadata": {},
   "outputs": [
    {
     "name": "stdout",
     "output_type": "stream",
     "text": [
      "                                Hotels Ratings             Distance  District  \\\n",
      "0         apartment next to park guell     9,0  a 2,7 km del centro       NaN   \n",
      "1           Melia Barcelona Sky 4* Sup     8,2  a 3,3 km del centro       NaN   \n",
      "2                Nice room By Eixample     6,7  a 1,3 km del centro       NaN   \n",
      "3         Mercedes Heritage Apartments     8,5  a 1,5 km del centro       NaN   \n",
      "4  Gran Hotel La Florida G.L Monumento     8,7  a 5,9 km del centro       NaN   \n",
      "\n",
      "   Price                                               Link  Star  \\\n",
      "0   1608  https://www.booking.com/hotel/es/apartment-par...     4   \n",
      "1   3343  https://www.booking.com/hotel/es/melia-barcelo...     4   \n",
      "2    687  https://www.booking.com/hotel/es/nice-room-for...     5   \n",
      "3   3565  https://www.booking.com/hotel/es/provenza-mbs....     2   \n",
      "4   1963  https://www.booking.com/hotel/es/gran-la-flori...     4   \n",
      "\n",
      "                                        Descriptions  barcelona  event  \n",
      "0  Apartment next to park guell se encuentra en B...          1      1  \n",
      "1  Este hotel de diseño ocupa uno de los edificio...          1      1  \n",
      "2  Nice room By Eixample se encuentra en Barcelon...          1      1  \n",
      "3  El Mercedes Heritage Apartments, situado en l'...          1      1  \n",
      "4  El Gran Hotel La Florida G.L Monumento, de 5 e...          1      1  \n"
     ]
    }
   ],
   "source": [
    "# Extract only digits from the 'Price' column and convert to numeric\n",
    "df['Price'] = pd.to_numeric(df['Price'].str.replace('[^\\d]', '', regex=True), errors='coerce')\n",
    "\n",
    "# Extract the first digit and convert to numeric\n",
    "df['Star'] = pd.to_numeric(df['Star'].str.extract('(\\d)', expand=False), errors='coerce')\n",
    "\n",
    "# Display the updated DataFrame\n",
    "print(df.head())"
   ]
  },
  {
   "cell_type": "code",
   "execution_count": 57,
   "metadata": {},
   "outputs": [],
   "source": [
    "# # Find the 'Price' value when 'Hotels' is equal to 'Ohla Barcelona'\n",
    "# ohla_barcelona_price = df.loc[df['Hotels'] == 'Ohla Barcelona', 'Price'].values[0]\n",
    "\n",
    "# # Print the 'Price' value\n",
    "# print(\"Price for 'Hotels' == 'Ohla Barcelona':\", ohla_barcelona_price)"
   ]
  },
  {
   "cell_type": "code",
   "execution_count": 58,
   "metadata": {},
   "outputs": [
    {
     "name": "stdout",
     "output_type": "stream",
     "text": [
      "<class 'pandas.core.frame.DataFrame'>\n",
      "RangeIndex: 1022 entries, 0 to 1021\n",
      "Data columns (total 10 columns):\n",
      " #   Column        Non-Null Count  Dtype  \n",
      "---  ------        --------------  -----  \n",
      " 0   Hotels        1022 non-null   object \n",
      " 1   Ratings       1022 non-null   object \n",
      " 2   Distance      1022 non-null   object \n",
      " 3   District      0 non-null      float64\n",
      " 4   Price         1022 non-null   int64  \n",
      " 5   Link          1022 non-null   object \n",
      " 6   Star          1022 non-null   int64  \n",
      " 7   Descriptions  1019 non-null   object \n",
      " 8   barcelona     1022 non-null   int64  \n",
      " 9   event         1022 non-null   int64  \n",
      "dtypes: float64(1), int64(4), object(5)\n",
      "memory usage: 80.0+ KB\n",
      "None\n"
     ]
    }
   ],
   "source": [
    "# Display the count of NaN values in each column\n",
    "print(df.info())"
   ]
  },
  {
   "cell_type": "code",
   "execution_count": 59,
   "metadata": {},
   "outputs": [
    {
     "name": "stdout",
     "output_type": "stream",
     "text": [
      "   barcelona  event        Price\n",
      "0          0      0   659.549020\n",
      "1          0      1   722.267003\n",
      "2          1      0   827.525253\n",
      "3          1      1  1857.469169\n"
     ]
    }
   ],
   "source": [
    "# Group the DataFrame by 'barcelona' and 'event' columns and calculate the mean of 'Price'\n",
    "result = df.groupby(['barcelona', 'event'])['Price'].mean().reset_index()\n",
    "\n",
    "# Order the result DataFrame by the 'Star' column\n",
    "# result = result.sort_values(by=['Star'])\n",
    "\n",
    "# 'result' will now contain the average 'Price' for each combination of 'barcelona' and 'event'\n",
    "print(result)"
   ]
  },
  {
   "cell_type": "code",
   "execution_count": 60,
   "metadata": {},
   "outputs": [
    {
     "name": "stdout",
     "output_type": "stream",
     "text": [
      "Star\n",
      "4    538\n",
      "3    342\n",
      "2     88\n",
      "1     36\n",
      "5     18\n",
      "Name: count, dtype: int64\n"
     ]
    }
   ],
   "source": [
    "# Count the occurrences of each unique value in the 'Star' column\n",
    "star_counts = df['Star'].value_counts()\n",
    "\n",
    "# Print the count of values for each unique 'Star'\n",
    "print(star_counts)"
   ]
  },
  {
   "cell_type": "code",
   "execution_count": 61,
   "metadata": {},
   "outputs": [
    {
     "data": {
      "image/png": "[encoded data removed]",
      "text/plain": [
       "<Figure size 640x480 with 1 Axes>"
      ]
     },
     "metadata": {},
     "output_type": "display_data"
    }
   ],
   "source": [
    "# Group the DataFrame by the 'Star' column and create boxplots for each group\n",
    "plt.boxplot([df['Price'][df['Star'] == star] for star in df['Star'].unique()], \n",
    "            labels=df['Star'].unique())\n",
    "plt.xlabel('Star')\n",
    "plt.ylabel('Price')\n",
    "plt.title('Boxplots of Price for Different Star Values')\n",
    "plt.show()"
   ]
  },
  {
   "cell_type": "code",
   "execution_count": 62,
   "metadata": {},
   "outputs": [
    {
     "name": "stdout",
     "output_type": "stream",
     "text": [
      "                                 OLS Regression Results                                \n",
      "=======================================================================================\n",
      "Dep. Variable:                  Price   R-squared (uncentered):                   0.647\n",
      "Model:                            OLS   Adj. R-squared (uncentered):              0.647\n",
      "Method:                 Least Squares   F-statistic:                              1872.\n",
      "Date:                Tue, 30 Jan 2024   Prob (F-statistic):                   3.57e-233\n",
      "Time:                        23:03:45   Log-Likelihood:                         -8311.7\n",
      "No. Observations:                1022   AIC:                                  1.663e+04\n",
      "Df Residuals:                    1021   BIC:                                  1.663e+04\n",
      "Df Model:                           1                                                  \n",
      "Covariance Type:            nonrobust                                                  \n",
      "==============================================================================\n",
      "                 coef    std err          t      P>|t|      [0.025      0.975]\n",
      "------------------------------------------------------------------------------\n",
      "barcelona   1641.4428     37.934     43.271      0.000    1567.005    1715.881\n",
      "==============================================================================\n",
      "Omnibus:                       44.418   Durbin-Watson:                   0.758\n",
      "Prob(Omnibus):                  0.000   Jarque-Bera (JB):              119.633\n",
      "Skew:                           0.148   Prob(JB):                     1.05e-26\n",
      "Kurtosis:                       4.650   Cond. No.                         1.00\n",
      "==============================================================================\n",
      "\n",
      "Notes:\n",
      "[1] R² is computed without centering (uncentered) since the model does not contain a constant.\n",
      "[2] Standard Errors assume that the covariance matrix of the errors is correctly specified.\n"
     ]
    }
   ],
   "source": [
    "# Independent variables\n",
    "X = df[['barcelona']]\n",
    "\n",
    "# Dependent variable\n",
    "y = df['Price']\n",
    "\n",
    "# Fit the regression model\n",
    "model = sm.OLS(y, X).fit()\n",
    "\n",
    "# Print out the regression results\n",
    "print(model.summary())"
   ]
  },
  {
   "cell_type": "code",
   "execution_count": 63,
   "metadata": {},
   "outputs": [
    {
     "name": "stdout",
     "output_type": "stream",
     "text": [
      "                                 OLS Regression Results                                \n",
      "=======================================================================================\n",
      "Dep. Variable:                  Price   R-squared (uncentered):                   0.634\n",
      "Model:                            OLS   Adj. R-squared (uncentered):              0.634\n",
      "Method:                 Least Squares   F-statistic:                              1770.\n",
      "Date:                Tue, 30 Jan 2024   Prob (F-statistic):                   3.74e-225\n",
      "Time:                        23:03:45   Log-Likelihood:                         -8330.2\n",
      "No. Observations:                1022   AIC:                                  1.666e+04\n",
      "Df Residuals:                    1021   BIC:                                  1.667e+04\n",
      "Df Model:                           1                                                  \n",
      "Covariance Type:            nonrobust                                                  \n",
      "==============================================================================\n",
      "                 coef    std err          t      P>|t|      [0.025      0.975]\n",
      "------------------------------------------------------------------------------\n",
      "event       1272.1766     30.242     42.067      0.000    1212.834    1331.520\n",
      "==============================================================================\n",
      "Omnibus:                      169.869   Durbin-Watson:                   0.730\n",
      "Prob(Omnibus):                  0.000   Jarque-Bera (JB):              330.888\n",
      "Skew:                           0.980   Prob(JB):                     1.41e-72\n",
      "Kurtosis:                       4.981   Cond. No.                         1.00\n",
      "==============================================================================\n",
      "\n",
      "Notes:\n",
      "[1] R² is computed without centering (uncentered) since the model does not contain a constant.\n",
      "[2] Standard Errors assume that the covariance matrix of the errors is correctly specified.\n"
     ]
    }
   ],
   "source": [
    "# Independent variables\n",
    "X = df[['event']]\n",
    "\n",
    "# Dependent variable\n",
    "y = df['Price']\n",
    "\n",
    "# Fit the regression model\n",
    "model = sm.OLS(y, X).fit()\n",
    "\n",
    "# Print out the regression results\n",
    "print(model.summary())"
   ]
  },
  {
   "cell_type": "code",
   "execution_count": 64,
   "metadata": {},
   "outputs": [
    {
     "name": "stdout",
     "output_type": "stream",
     "text": [
      "                                 OLS Regression Results                                \n",
      "=======================================================================================\n",
      "Dep. Variable:                  Price   R-squared (uncentered):                   0.795\n",
      "Model:                            OLS   Adj. R-squared (uncentered):              0.794\n",
      "Method:                 Least Squares   F-statistic:                              1315.\n",
      "Date:                Tue, 30 Jan 2024   Prob (F-statistic):                        0.00\n",
      "Time:                        23:03:45   Log-Likelihood:                         -8034.8\n",
      "No. Observations:                1022   AIC:                                  1.608e+04\n",
      "Df Residuals:                    1019   BIC:                                  1.609e+04\n",
      "Df Model:                           3                                                  \n",
      "Covariance Type:            nonrobust                                                  \n",
      "====================================================================================\n",
      "                       coef    std err          t      P>|t|      [0.025      0.975]\n",
      "------------------------------------------------------------------------------------\n",
      "barcelona          827.5253     63.234     13.087      0.000     703.441     951.609\n",
      "event              722.2670     31.577     22.873      0.000     660.303     784.231\n",
      "interaction_term   307.6769     77.826      3.953      0.000     154.959     460.395\n",
      "==============================================================================\n",
      "Omnibus:                      265.895   Durbin-Watson:                   1.297\n",
      "Prob(Omnibus):                  0.000   Jarque-Bera (JB):             1097.846\n",
      "Skew:                           1.172   Prob(JB):                    4.04e-239\n",
      "Kurtosis:                       7.504   Cond. No.                         5.53\n",
      "==============================================================================\n",
      "\n",
      "Notes:\n",
      "[1] R² is computed without centering (uncentered) since the model does not contain a constant.\n",
      "[2] Standard Errors assume that the covariance matrix of the errors is correctly specified.\n"
     ]
    }
   ],
   "source": [
    "# Adding the interaction term\n",
    "df['interaction_term'] = df['barcelona'] * df['event']\n",
    "\n",
    "# Independent variables\n",
    "X = df[['barcelona', 'event', 'interaction_term']]\n",
    "\n",
    "# Dependent variable\n",
    "y = df['Price']\n",
    "\n",
    "# Fit the regression model\n",
    "model = sm.OLS(y, X).fit()\n",
    "\n",
    "# Print out the regression results\n",
    "print(model.summary())"
   ]
  },
  {
   "cell_type": "code",
   "execution_count": 65,
   "metadata": {},
   "outputs": [
    {
     "name": "stdout",
     "output_type": "stream",
     "text": [
      "                            OLS Regression Results                            \n",
      "==============================================================================\n",
      "Dep. Variable:                  Price   R-squared:                       0.476\n",
      "Model:                            OLS   Adj. R-squared:                  0.475\n",
      "Method:                 Least Squares   F-statistic:                     308.5\n",
      "Date:                Tue, 30 Jan 2024   Prob (F-statistic):          1.93e-142\n",
      "Time:                        23:03:45   Log-Likelihood:                -7942.7\n",
      "No. Observations:                1022   AIC:                         1.589e+04\n",
      "Df Residuals:                    1018   BIC:                         1.591e+04\n",
      "Df Model:                           3                                         \n",
      "Covariance Type:            nonrobust                                         \n",
      "====================================================================================\n",
      "                       coef    std err          t      P>|t|      [0.025      0.975]\n",
      "------------------------------------------------------------------------------------\n",
      "const              659.5490     46.503     14.183      0.000     568.296     750.802\n",
      "barcelona          167.9762     74.193      2.264      0.024      22.388     313.565\n",
      "event               62.7180     54.735      1.146      0.252     -44.689     170.125\n",
      "interaction_term   967.2259     85.000     11.379      0.000     800.430    1134.022\n",
      "==============================================================================\n",
      "Omnibus:                      426.158   Durbin-Watson:                   1.551\n",
      "Prob(Omnibus):                  0.000   Jarque-Bera (JB):             3127.477\n",
      "Skew:                           1.742   Prob(JB):                         0.00\n",
      "Kurtosis:                      10.830   Cond. No.                         9.65\n",
      "==============================================================================\n",
      "\n",
      "Notes:\n",
      "[1] Standard Errors assume that the covariance matrix of the errors is correctly specified.\n"
     ]
    }
   ],
   "source": [
    "# Adding the interaction term\n",
    "df['interaction_term'] = df['barcelona'] * df['event']\n",
    "\n",
    "# Independent variables\n",
    "X = df[['barcelona', 'event', 'interaction_term']]\n",
    "\n",
    "# Dependent variable\n",
    "y = df['Price']\n",
    "\n",
    "# Adding a constant term to the independent variables\n",
    "X = sm.add_constant(X)\n",
    "\n",
    "# Fit the regression model without adding a constant term\n",
    "model = sm.OLS(y, X).fit()\n",
    "\n",
    "# Print out the regression results\n",
    "print(model.summary())"
   ]
  },
  {
   "cell_type": "code",
   "execution_count": 66,
   "metadata": {},
   "outputs": [
    {
     "name": "stdout",
     "output_type": "stream",
     "text": [
      "                            OLS Regression Results                            \n",
      "==============================================================================\n",
      "Dep. Variable:                  Price   R-squared:                       0.482\n",
      "Model:                            OLS   Adj. R-squared:                  0.480\n",
      "Method:                 Least Squares   F-statistic:                     237.0\n",
      "Date:                Tue, 30 Jan 2024   Prob (F-statistic):          8.63e-144\n",
      "Time:                        23:03:45   Log-Likelihood:                -7936.6\n",
      "No. Observations:                1022   AIC:                         1.588e+04\n",
      "Df Residuals:                    1017   BIC:                         1.591e+04\n",
      "Df Model:                           4                                         \n",
      "Covariance Type:            nonrobust                                         \n",
      "====================================================================================\n",
      "                       coef    std err          t      P>|t|      [0.025      0.975]\n",
      "------------------------------------------------------------------------------------\n",
      "const              377.5489     93.022      4.059      0.000     195.011     560.087\n",
      "barcelona          195.5483     74.209      2.635      0.009      49.929     341.168\n",
      "event               58.1067     54.452      1.067      0.286     -48.745     164.958\n",
      "Star                79.4586     22.742      3.494      0.000      34.833     124.085\n",
      "interaction_term   973.1906     84.553     11.510      0.000     807.271    1139.110\n",
      "==============================================================================\n",
      "Omnibus:                      424.861   Durbin-Watson:                   1.591\n",
      "Prob(Omnibus):                  0.000   Jarque-Bera (JB):             3054.133\n",
      "Skew:                           1.743   Prob(JB):                         0.00\n",
      "Kurtosis:                      10.718   Cond. No.                         26.0\n",
      "==============================================================================\n",
      "\n",
      "Notes:\n",
      "[1] Standard Errors assume that the covariance matrix of the errors is correctly specified.\n"
     ]
    }
   ],
   "source": [
    "# Adding the interaction term\n",
    "df['interaction_term'] = df['barcelona'] * df['event']\n",
    "\n",
    "# Independent variables\n",
    "X = df[['barcelona', 'event', 'Star', 'interaction_term']]\n",
    "\n",
    "# Dependent variable\n",
    "y = df['Price']\n",
    "\n",
    "# Adding a constant term to the independent variables\n",
    "X = sm.add_constant(X)\n",
    "\n",
    "# Fit the regression model\n",
    "model = sm.OLS(y, X).fit()\n",
    "\n",
    "# Print out the regression results\n",
    "print(model.summary())"
   ]
  },
  {
   "cell_type": "code",
   "execution_count": 67,
   "metadata": {},
   "outputs": [],
   "source": [
    "# Create a new column 'Top_star' based on the condition\n",
    "df['Top_star'] = (df['Star'].isin([4, 5])).astype(int)\n"
   ]
  },
  {
   "cell_type": "code",
   "execution_count": 74,
   "metadata": {},
   "outputs": [
    {
     "name": "stdout",
     "output_type": "stream",
     "text": [
      "Number of observations: 156\n"
     ]
    }
   ],
   "source": [
    "# Calculate the number of observations meeting the specified conditions\n",
    "num_observations = df[(df['barcelona'] == 1) & (df['Top_star'] == 1) & (df['event'] == 1)].shape[0]\n",
    "\n",
    "# Display the result\n",
    "print(\"Number of observations:\", num_observations)"
   ]
  },
  {
   "cell_type": "code",
   "execution_count": 75,
   "metadata": {},
   "outputs": [
    {
     "name": "stdout",
     "output_type": "stream",
     "text": [
      "                            OLS Regression Results                            \n",
      "==============================================================================\n",
      "Dep. Variable:                  Price   R-squared:                       0.481\n",
      "Model:                            OLS   Adj. R-squared:                  0.479\n",
      "Method:                 Least Squares   F-statistic:                     235.4\n",
      "Date:                Tue, 30 Jan 2024   Prob (F-statistic):          4.69e-143\n",
      "Time:                        23:05:35   Log-Likelihood:                -7938.3\n",
      "No. Observations:                1022   AIC:                         1.589e+04\n",
      "Df Residuals:                    1017   BIC:                         1.591e+04\n",
      "Df Model:                           4                                         \n",
      "Covariance Type:            nonrobust                                         \n",
      "====================================================================================\n",
      "                       coef    std err          t      P>|t|      [0.025      0.975]\n",
      "------------------------------------------------------------------------------------\n",
      "const              591.5807     51.694     11.444      0.000     490.143     693.019\n",
      "barcelona          187.2935     74.198      2.524      0.012      41.695     332.892\n",
      "event               58.7208     54.544      1.077      0.282     -48.311     165.752\n",
      "Top_star           109.4647     36.941      2.963      0.003      36.976     181.953\n",
      "interaction_term   974.0926     84.709     11.499      0.000     807.868    1140.317\n",
      "==============================================================================\n",
      "Omnibus:                      421.102   Durbin-Watson:                   1.578\n",
      "Prob(Omnibus):                  0.000   Jarque-Bera (JB):             3015.171\n",
      "Skew:                           1.725   Prob(JB):                         0.00\n",
      "Kurtosis:                      10.675   Cond. No.                         10.3\n",
      "==============================================================================\n",
      "\n",
      "Notes:\n",
      "[1] Standard Errors assume that the covariance matrix of the errors is correctly specified.\n"
     ]
    }
   ],
   "source": [
    "# Adding the interaction term\n",
    "df['interaction_term'] = df['barcelona'] * df['event']\n",
    "\n",
    "# Independent variables\n",
    "X = df[['barcelona', 'event', 'Top_star', 'interaction_term']]\n",
    "\n",
    "# Dependent variable\n",
    "y = df['Price']\n",
    "\n",
    "# Adding a constant term to the independent variables\n",
    "X = sm.add_constant(X)\n",
    "\n",
    "# Fit the regression model\n",
    "model = sm.OLS(y, X).fit()\n",
    "\n",
    "# Print out the regression results\n",
    "print(model.summary())"
   ]
  },
  {
   "cell_type": "code",
   "execution_count": 76,
   "metadata": {},
   "outputs": [
    {
     "name": "stdout",
     "output_type": "stream",
     "text": [
      "                            OLS Regression Results                            \n",
      "==============================================================================\n",
      "Dep. Variable:                  Price   R-squared:                       0.484\n",
      "Model:                            OLS   Adj. R-squared:                  0.481\n",
      "Method:                 Least Squares   F-statistic:                     190.5\n",
      "Date:                Tue, 30 Jan 2024   Prob (F-statistic):          3.31e-143\n",
      "Time:                        23:05:49   Log-Likelihood:                -7935.1\n",
      "No. Observations:                1022   AIC:                         1.588e+04\n",
      "Df Residuals:                    1016   BIC:                         1.591e+04\n",
      "Df Model:                           5                                         \n",
      "Covariance Type:            nonrobust                                         \n",
      "========================================================================================\n",
      "                           coef    std err          t      P>|t|      [0.025      0.975]\n",
      "----------------------------------------------------------------------------------------\n",
      "const                  636.3476     54.546     11.666      0.000     529.312     743.383\n",
      "barcelona              174.5703     74.177      2.353      0.019      29.012     320.129\n",
      "event                   61.3535     54.412      1.128      0.260     -45.419     168.126\n",
      "Top_star                37.3665     46.686      0.800      0.424     -54.245     128.978\n",
      "interaction_term       889.6226     90.921      9.785      0.000     711.208    1068.037\n",
      "interaction_term_all   191.1562     76.018      2.515      0.012      41.986     340.326\n",
      "==============================================================================\n",
      "Omnibus:                      414.331   Durbin-Watson:                   1.602\n",
      "Prob(Omnibus):                  0.000   Jarque-Bera (JB):             2903.296\n",
      "Skew:                           1.699   Prob(JB):                         0.00\n",
      "Kurtosis:                      10.525   Cond. No.                         10.6\n",
      "==============================================================================\n",
      "\n",
      "Notes:\n",
      "[1] Standard Errors assume that the covariance matrix of the errors is correctly specified.\n"
     ]
    }
   ],
   "source": [
    "# Adding interaction terms\n",
    "df['interaction_term'] = df['barcelona'] * df['event']\n",
    "df['interaction_term_all'] = df['barcelona'] * df['event'] * df['Top_star']\n",
    "\n",
    "# Independent variables\n",
    "X = df[['barcelona', 'event', 'Top_star', 'interaction_term', 'interaction_term_all']]\n",
    "\n",
    "# Dependent variable\n",
    "y = df['Price']\n",
    "\n",
    "# Adding a constant term to the independent variables\n",
    "X = sm.add_constant(X)\n",
    "\n",
    "# Fit the regression model\n",
    "model = sm.OLS(y, X).fit()\n",
    "\n",
    "# Print out the regression results\n",
    "print(model.summary())"
   ]
  }
 ],
 "metadata": {
  "kernelspec": {
   "display_name": "basic_env",
   "language": "python",
   "name": "python3"
  },
  "language_info": {
   "codemirror_mode": {
    "name": "ipython",
    "version": 3
   },
   "file_extension": ".py",
   "mimetype": "text/x-python",
   "name": "python",
   "nbconvert_exporter": "python",
   "pygments_lexer": "ipython3",
   "version": "3.8.18"
  }
 },
 "nbformat": 4,
 "nbformat_minor": 2
}
