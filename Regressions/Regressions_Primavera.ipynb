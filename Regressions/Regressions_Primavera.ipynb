{
 "cells": [
  {
   "cell_type": "code",
   "execution_count": 71,
   "metadata": {},
   "outputs": [],
   "source": [
    "# !pip install statsmodels"
   ]
  },
  {
   "cell_type": "code",
   "execution_count": 72,
   "metadata": {},
   "outputs": [],
   "source": [
    "import pandas as pd\n",
    "import statsmodels.api as sm\n",
    "import matplotlib.pyplot as plt"
   ]
  },
  {
   "cell_type": "code",
   "execution_count": 73,
   "metadata": {},
   "outputs": [
    {
     "name": "stdout",
     "output_type": "stream",
     "text": [
      "(431, 10)\n"
     ]
    }
   ],
   "source": [
    "# Specify the path to the CSV file\n",
    "file_path = 'C:/Users/bakwe/Desktop/BSE/Text_mining/HW1/Scraped_data/Barcelona_05_29_06_02.csv'\n",
    "\n",
    "# Read the CSV file into a DataFrame\n",
    "df = pd.read_csv(file_path)\n",
    "\n",
    "# Adding 'barcelona' column with values equal to 1\n",
    "df['barcelona'] = 1\n",
    "\n",
    "# Adding the 'event' column with values equal to 1\n",
    "df['event'] = 1\n",
    "\n",
    "# Display the DataFrame\n",
    "print(df.shape)"
   ]
  },
  {
   "cell_type": "code",
   "execution_count": 74,
   "metadata": {},
   "outputs": [
    {
     "name": "stdout",
     "output_type": "stream",
     "text": [
      "\n",
      "Updated df after adding rows from V1:\n",
      "(754, 10)\n"
     ]
    }
   ],
   "source": [
    "# Specify the path to the CSV file\n",
    "file_path = 'C:/Users/bakwe/Desktop/BSE/Text_mining/HW1/Scraped_data/Valencia_05_29_06_02.csv'\n",
    "\n",
    "# Read the CSV file into a DataFrame\n",
    "V1 = pd.read_csv(file_path)\n",
    "\n",
    "# Adding rows from V1 to df with 'barcelona' values set to 0 and 'event' values set to 1\n",
    "df = pd.concat([df, V1.assign(barcelona=0, event=1)], ignore_index=True)\n",
    "\n",
    "# Displaying the updated df DataFrame\n",
    "print(\"\\nUpdated df after adding rows from V1:\")\n",
    "print(df.shape)\n"
   ]
  },
  {
   "cell_type": "code",
   "execution_count": 75,
   "metadata": {},
   "outputs": [
    {
     "name": "stdout",
     "output_type": "stream",
     "text": [
      "\n",
      "Updated df after adding rows from V1:\n",
      "(1142, 10)\n"
     ]
    }
   ],
   "source": [
    "# Specify the path to the CSV file\n",
    "file_path = 'C:/Users/bakwe/Desktop/BSE/Text_mining/HW1/Scraped_data/Valencia_05_24_05_28.csv'\n",
    "\n",
    "# Read the CSV file into a DataFrame\n",
    "V0 = pd.read_csv(file_path)\n",
    "\n",
    "# Adding rows from V1 to df with 'barcelona' values set to 0 and 'event' values set to 0\n",
    "df = pd.concat([df, V0.assign(barcelona=0, event=0)], ignore_index=True)\n",
    "\n",
    "# Displaying the updated df DataFrame\n",
    "print(\"\\nUpdated df after adding rows from V1:\")\n",
    "print(df.shape)"
   ]
  },
  {
   "cell_type": "code",
   "execution_count": 76,
   "metadata": {},
   "outputs": [
    {
     "name": "stdout",
     "output_type": "stream",
     "text": [
      "\n",
      "Updated df after adding rows from V1:\n",
      "(1559, 10)\n",
      "Index(['Hotels', 'Ratings', 'Distance', 'District', 'Price', 'Link', 'Star',\n",
      "       'Descriptions', 'barcelona', 'event'],\n",
      "      dtype='object')\n"
     ]
    }
   ],
   "source": [
    "# Specify the path to the CSV file\n",
    "file_path = 'C:/Users/bakwe/Desktop/BSE/Text_mining/HW1/Scraped_data/Barcelona_05_24_05_28.csv'\n",
    "\n",
    "# Read the CSV file into a DataFrame\n",
    "B0 = pd.read_csv(file_path)\n",
    "\n",
    "# Adding rows from B0 to df with 'barcelona' values set to 1 and 'event' values set to 0\n",
    "df = pd.concat([df, B0.assign(barcelona=1, event=0)], ignore_index=True)\n",
    "\n",
    "# Displaying the updated df DataFrame\n",
    "print(\"\\nUpdated df after adding rows from V1:\")\n",
    "print(df.shape)\n",
    "print(df.columns)"
   ]
  },
  {
   "cell_type": "code",
   "execution_count": 77,
   "metadata": {},
   "outputs": [],
   "source": [
    "# Create a DataFrame\n",
    "df = pd.DataFrame(df)"
   ]
  },
  {
   "cell_type": "code",
   "execution_count": 78,
   "metadata": {},
   "outputs": [
    {
     "name": "stdout",
     "output_type": "stream",
     "text": [
      "SEALONA VILA OLIMPICA                                   2\n",
      "Sunotel Central                                         2\n",
      "Holiday Inn Express Barcelona City 22@, an IHG Hotel    2\n",
      "Hotel Glòries                                           2\n",
      "The 8 Boutique B&B                                      2\n",
      "                                                       ..\n",
      "You Stylish City Center Apartments                      2\n",
      "Vincci Bit                                              2\n",
      "BizFlats Eixample Apartments                            2\n",
      "Rooms Nuevo Roger                                       2\n",
      "Centrally Apartment in el Raval Neighbourhood           2\n",
      "Name: Hotels, Length: 272, dtype: int64\n"
     ]
    }
   ],
   "source": [
    "# First, count the occurrences of each value in the 'Hotels' column\n",
    "hotel_counts = df['Hotels'].value_counts()\n",
    "\n",
    "# Then, create a new DataFrame containing only rows with 'Hotels' values that appear twice\n",
    "df = df[df['Hotels'].isin(hotel_counts[hotel_counts == 2].index)]\n",
    "\n",
    "# Finally, print the count of 'Hotels' values\n",
    "print(df['Hotels'].value_counts())"
   ]
  },
  {
   "cell_type": "code",
   "execution_count": 79,
   "metadata": {},
   "outputs": [
    {
     "name": "stdout",
     "output_type": "stream",
     "text": [
      "Price for 'Hotels' == 'Ohla Barcelona': € 1.903\n"
     ]
    }
   ],
   "source": [
    "# Find the 'Price' value when 'Hotels' is equal to 'Ohla Barcelona'\n",
    "ohla_barcelona_price = df.loc[df['Hotels'] == 'Ohla Barcelona', 'Price'].values[0]\n",
    "\n",
    "# Print the 'Price' value\n",
    "print(\"Price for 'Hotels' == 'Ohla Barcelona':\", ohla_barcelona_price)"
   ]
  },
  {
   "cell_type": "code",
   "execution_count": 80,
   "metadata": {},
   "outputs": [
    {
     "name": "stdout",
     "output_type": "stream",
     "text": [
      "                              Hotels Ratings             Distance  District  \\\n",
      "2              SEALONA VILA OLIMPICA     8,4  a 1,8 km del centro       NaN   \n",
      "3             Habitaciones Viladomat     8,0  a 1,7 km del centro       NaN   \n",
      "4  Nice apartment BCN two rooms wifi     8,4    a 2 km del centro       NaN   \n",
      "6          Habitación triple/Ramblas     7,4   a 450 m del centro       NaN   \n",
      "8            Catalonia Eixample 1864     8,7  a 0,7 km del centro       NaN   \n",
      "\n",
      "   Price                                               Link  Star  \\\n",
      "2    360  https://www.booking.com/hotel/es/sealona-vila-...     4   \n",
      "3    374  https://www.booking.com/hotel/es/habitaciones-...     4   \n",
      "4    398  https://www.booking.com/hotel/es/nice-apartmen...     4   \n",
      "6    427  https://www.booking.com/hotel/es/habitacion-tr...     2   \n",
      "8    949  https://www.booking.com/hotel/es/catalonia-eix...     4   \n",
      "\n",
      "                                        Descriptions  barcelona  event  \n",
      "2  SEALONA VILA OLIMPICA está en Barcelona, a sol...          1      1  \n",
      "3  Habitaciones Viladomat se encuentra en Barcelo...          1      1  \n",
      "4  Nice apartment BCN two rooms wifi está en el b...          1      1  \n",
      "6  Habitación triple/Ramblas se encuentra a 2,9 k...          1      1  \n",
      "8  Este hotel ocupa un edificio del siglo XIX sit...          1      1  \n"
     ]
    }
   ],
   "source": [
    "# Extract only digits from the 'Price' column and convert to numeric\n",
    "df['Price'] = pd.to_numeric(df['Price'].str.replace('[^\\d]', '', regex=True), errors='coerce')\n",
    "\n",
    "# Extract the first digit and convert to numeric\n",
    "df['Star'] = pd.to_numeric(df['Star'].str.extract('(\\d)', expand=False), errors='coerce')\n",
    "\n",
    "# Display the updated DataFrame\n",
    "print(df.head())"
   ]
  },
  {
   "cell_type": "code",
   "execution_count": 81,
   "metadata": {},
   "outputs": [
    {
     "name": "stdout",
     "output_type": "stream",
     "text": [
      "Price for 'Hotels' == 'Ohla Barcelona': 1903\n"
     ]
    }
   ],
   "source": [
    "# Find the 'Price' value when 'Hotels' is equal to 'Ohla Barcelona'\n",
    "ohla_barcelona_price = df.loc[df['Hotels'] == 'Ohla Barcelona', 'Price'].values[0]\n",
    "\n",
    "# Print the 'Price' value\n",
    "print(\"Price for 'Hotels' == 'Ohla Barcelona':\", ohla_barcelona_price)"
   ]
  },
  {
   "cell_type": "code",
   "execution_count": 82,
   "metadata": {},
   "outputs": [
    {
     "name": "stdout",
     "output_type": "stream",
     "text": [
      "<class 'pandas.core.frame.DataFrame'>\n",
      "Int64Index: 544 entries, 2 to 1558\n",
      "Data columns (total 10 columns):\n",
      " #   Column        Non-Null Count  Dtype  \n",
      "---  ------        --------------  -----  \n",
      " 0   Hotels        544 non-null    object \n",
      " 1   Ratings       544 non-null    object \n",
      " 2   Distance      544 non-null    object \n",
      " 3   District      0 non-null      float64\n",
      " 4   Price         544 non-null    int64  \n",
      " 5   Link          544 non-null    object \n",
      " 6   Star          544 non-null    int64  \n",
      " 7   Descriptions  543 non-null    object \n",
      " 8   barcelona     544 non-null    int64  \n",
      " 9   event         544 non-null    int64  \n",
      "dtypes: float64(1), int64(4), object(5)\n",
      "memory usage: 46.8+ KB\n",
      "None\n"
     ]
    }
   ],
   "source": [
    "# Display the count of NaN values in each column\n",
    "print(df.info())"
   ]
  },
  {
   "cell_type": "code",
   "execution_count": 83,
   "metadata": {},
   "outputs": [
    {
     "name": "stdout",
     "output_type": "stream",
     "text": [
      "   barcelona  event        Price\n",
      "0          0      0   447.705882\n",
      "1          0      1   438.500000\n",
      "2          1      0   963.604000\n",
      "3          1      1  1321.254753\n"
     ]
    }
   ],
   "source": [
    "# Group the DataFrame by 'barcelona' and 'event' columns and calculate the mean of 'Price'\n",
    "result = df.groupby(['barcelona', 'event'])['Price'].mean().reset_index()\n",
    "\n",
    "# Order the result DataFrame by the 'Star' column\n",
    "# result = result.sort_values(by=['Star'])\n",
    "\n",
    "# 'result' will now contain the average 'Price' for each combination of 'barcelona' and 'event'\n",
    "print(result)"
   ]
  },
  {
   "cell_type": "code",
   "execution_count": 84,
   "metadata": {},
   "outputs": [
    {
     "name": "stdout",
     "output_type": "stream",
     "text": [
      "4    238\n",
      "3    190\n",
      "2     60\n",
      "5     37\n",
      "1     19\n",
      "Name: Star, dtype: int64\n"
     ]
    }
   ],
   "source": [
    "# Count the occurrences of each unique value in the 'Star' column\n",
    "star_counts = df['Star'].value_counts()\n",
    "\n",
    "# Print the count of values for each unique 'Star'\n",
    "print(star_counts)"
   ]
  },
  {
   "cell_type": "code",
   "execution_count": 85,
   "metadata": {},
   "outputs": [
    {
     "data": {
      "image/png": "[encoded data removed]",
      "text/plain": [
       "<Figure size 640x480 with 1 Axes>"
      ]
     },
     "metadata": {},
     "output_type": "display_data"
    }
   ],
   "source": [
    "# Group the DataFrame by the 'Star' column and create boxplots for each group\n",
    "plt.boxplot([df['Price'][df['Star'] == star] for star in df['Star'].unique()], \n",
    "            labels=df['Star'].unique())\n",
    "plt.xlabel('Star')\n",
    "plt.ylabel('Price')\n",
    "plt.title('Boxplots of Price for Different Star Values')\n",
    "plt.show()"
   ]
  },
  {
   "cell_type": "code",
   "execution_count": 86,
   "metadata": {},
   "outputs": [
    {
     "name": "stdout",
     "output_type": "stream",
     "text": [
      "                                 OLS Regression Results                                \n",
      "=======================================================================================\n",
      "Dep. Variable:                  Price   R-squared (uncentered):                   0.727\n",
      "Model:                            OLS   Adj. R-squared (uncentered):              0.726\n",
      "Method:                 Least Squares   F-statistic:                              1445.\n",
      "Date:                Wed, 31 Jan 2024   Prob (F-statistic):                   3.99e-155\n",
      "Time:                        09:21:51   Log-Likelihood:                         -4322.2\n",
      "No. Observations:                 544   AIC:                                      8646.\n",
      "Df Residuals:                     543   BIC:                                      8651.\n",
      "Df Model:                           1                                                  \n",
      "Covariance Type:            nonrobust                                                  \n",
      "==============================================================================\n",
      "                 coef    std err          t      P>|t|      [0.025      0.975]\n",
      "------------------------------------------------------------------------------\n",
      "barcelona   1146.9610     30.176     38.009      0.000    1087.685    1206.237\n",
      "==============================================================================\n",
      "Omnibus:                      547.320   Durbin-Watson:                   0.947\n",
      "Prob(Omnibus):                  0.000   Jarque-Bera (JB):            24071.639\n",
      "Skew:                           4.514   Prob(JB):                         0.00\n",
      "Kurtosis:                      34.313   Cond. No.                         1.00\n",
      "==============================================================================\n",
      "\n",
      "Notes:\n",
      "[1] R² is computed without centering (uncentered) since the model does not contain a constant.\n",
      "[2] Standard Errors assume that the covariance matrix of the errors is correctly specified.\n"
     ]
    }
   ],
   "source": [
    "# Independent variables\n",
    "X = df[['barcelona']]\n",
    "\n",
    "# Dependent variable\n",
    "y = df['Price']\n",
    "\n",
    "# Fit the regression model\n",
    "model = sm.OLS(y, X).fit()\n",
    "\n",
    "# Print out the regression results\n",
    "print(model.summary())"
   ]
  },
  {
   "cell_type": "code",
   "execution_count": 87,
   "metadata": {},
   "outputs": [
    {
     "name": "stdout",
     "output_type": "stream",
     "text": [
      "                                 OLS Regression Results                                \n",
      "=======================================================================================\n",
      "Dep. Variable:                  Price   R-squared (uncentered):                   0.486\n",
      "Model:                            OLS   Adj. R-squared (uncentered):              0.485\n",
      "Method:                 Least Squares   F-statistic:                              513.9\n",
      "Date:                Wed, 31 Jan 2024   Prob (F-statistic):                    1.47e-80\n",
      "Time:                        09:21:51   Log-Likelihood:                         -4494.0\n",
      "No. Observations:                 544   AIC:                                      8990.\n",
      "Df Residuals:                     543   BIC:                                      8994.\n",
      "Df Model:                           1                                                  \n",
      "Covariance Type:            nonrobust                                                  \n",
      "==============================================================================\n",
      "                 coef    std err          t      P>|t|      [0.025      0.975]\n",
      "------------------------------------------------------------------------------\n",
      "event       1276.6390     56.318     22.668      0.000    1166.011    1387.267\n",
      "==============================================================================\n",
      "Omnibus:                      237.415   Durbin-Watson:                   0.510\n",
      "Prob(Omnibus):                  0.000   Jarque-Bera (JB):             1978.571\n",
      "Skew:                           1.706   Prob(JB):                         0.00\n",
      "Kurtosis:                      11.698   Cond. No.                         1.00\n",
      "==============================================================================\n",
      "\n",
      "Notes:\n",
      "[1] R² is computed without centering (uncentered) since the model does not contain a constant.\n",
      "[2] Standard Errors assume that the covariance matrix of the errors is correctly specified.\n"
     ]
    }
   ],
   "source": [
    "# Independent variables\n",
    "X = df[['event']]\n",
    "\n",
    "# Dependent variable\n",
    "y = df['Price']\n",
    "\n",
    "# Fit the regression model\n",
    "model = sm.OLS(y, X).fit()\n",
    "\n",
    "# Print out the regression results\n",
    "print(model.summary())"
   ]
  },
  {
   "cell_type": "code",
   "execution_count": 88,
   "metadata": {},
   "outputs": [
    {
     "name": "stdout",
     "output_type": "stream",
     "text": [
      "                                 OLS Regression Results                                \n",
      "=======================================================================================\n",
      "Dep. Variable:                  Price   R-squared (uncentered):                   0.747\n",
      "Model:                            OLS   Adj. R-squared (uncentered):              0.746\n",
      "Method:                 Least Squares   F-statistic:                              533.5\n",
      "Date:                Wed, 31 Jan 2024   Prob (F-statistic):                   3.78e-161\n",
      "Time:                        09:21:51   Log-Likelihood:                         -4300.9\n",
      "No. Observations:                 544   AIC:                                      8608.\n",
      "Df Residuals:                     541   BIC:                                      8621.\n",
      "Df Model:                           3                                                  \n",
      "Covariance Type:            nonrobust                                                  \n",
      "====================================================================================\n",
      "                       coef    std err          t      P>|t|      [0.025      0.975]\n",
      "------------------------------------------------------------------------------------\n",
      "barcelona          963.6040     41.645     23.138      0.000     881.798    1045.410\n",
      "event              438.5000    175.984      2.492      0.013      92.805     784.195\n",
      "interaction_term   -80.8492    185.346     -0.436      0.663    -444.935     283.237\n",
      "==============================================================================\n",
      "Omnibus:                      553.913   Durbin-Watson:                   1.025\n",
      "Prob(Omnibus):                  0.000   Jarque-Bera (JB):            25705.497\n",
      "Skew:                           4.581   Prob(JB):                         0.00\n",
      "Kurtosis:                      35.405   Cond. No.                         11.5\n",
      "==============================================================================\n",
      "\n",
      "Notes:\n",
      "[1] R² is computed without centering (uncentered) since the model does not contain a constant.\n",
      "[2] Standard Errors assume that the covariance matrix of the errors is correctly specified.\n"
     ]
    }
   ],
   "source": [
    "# Adding the interaction term\n",
    "df['interaction_term'] = df['barcelona'] * df['event']\n",
    "\n",
    "# Independent variables\n",
    "X = df[['barcelona', 'event', 'interaction_term']]\n",
    "\n",
    "# Dependent variable\n",
    "y = df['Price']\n",
    "\n",
    "# Fit the regression model\n",
    "model = sm.OLS(y, X).fit()\n",
    "\n",
    "# Print out the regression results\n",
    "print(model.summary())"
   ]
  },
  {
   "cell_type": "code",
   "execution_count": 89,
   "metadata": {},
   "outputs": [
    {
     "name": "stdout",
     "output_type": "stream",
     "text": [
      "                            OLS Regression Results                            \n",
      "==============================================================================\n",
      "Dep. Variable:                  Price   R-squared:                       0.118\n",
      "Model:                            OLS   Adj. R-squared:                  0.113\n",
      "Method:                 Least Squares   F-statistic:                     24.03\n",
      "Date:                Wed, 31 Jan 2024   Prob (F-statistic):           1.31e-14\n",
      "Time:                        09:21:51   Log-Likelihood:                -4296.9\n",
      "No. Observations:                 544   AIC:                             8602.\n",
      "Df Residuals:                     540   BIC:                             8619.\n",
      "Df Model:                           3                                         \n",
      "Covariance Type:            nonrobust                                         \n",
      "====================================================================================\n",
      "                       coef    std err          t      P>|t|      [0.025      0.975]\n",
      "------------------------------------------------------------------------------------\n",
      "const              447.7059    158.685      2.821      0.005     135.990     759.421\n",
      "barcelona          515.8981    163.992      3.146      0.002     193.758     838.038\n",
      "event               -9.2059    236.131     -0.039      0.969    -473.054     454.642\n",
      "interaction_term   366.8566    243.100      1.509      0.132    -110.682     844.395\n",
      "==============================================================================\n",
      "Omnibus:                      566.404   Durbin-Watson:                   1.038\n",
      "Prob(Omnibus):                  0.000   Jarque-Bera (JB):            27950.628\n",
      "Skew:                           4.732   Prob(JB):                         0.00\n",
      "Kurtosis:                      36.817   Cond. No.                         21.4\n",
      "==============================================================================\n",
      "\n",
      "Notes:\n",
      "[1] Standard Errors assume that the covariance matrix of the errors is correctly specified.\n"
     ]
    }
   ],
   "source": [
    "# Adding the interaction term\n",
    "df['interaction_term'] = df['barcelona'] * df['event']\n",
    "\n",
    "# Independent variables\n",
    "X = df[['barcelona', 'event', 'interaction_term']]\n",
    "\n",
    "# Dependent variable\n",
    "y = df['Price']\n",
    "\n",
    "# Adding a constant term to the independent variables\n",
    "X = sm.add_constant(X)\n",
    "\n",
    "# Fit the regression model without adding a constant term\n",
    "model = sm.OLS(y, X).fit()\n",
    "\n",
    "# Print out the regression results\n",
    "print(model.summary())"
   ]
  },
  {
   "cell_type": "code",
   "execution_count": 90,
   "metadata": {},
   "outputs": [
    {
     "name": "stdout",
     "output_type": "stream",
     "text": [
      "                            OLS Regression Results                            \n",
      "==============================================================================\n",
      "Dep. Variable:                  Price   R-squared:                       0.140\n",
      "Model:                            OLS   Adj. R-squared:                  0.134\n",
      "Method:                 Least Squares   F-statistic:                     21.99\n",
      "Date:                Wed, 31 Jan 2024   Prob (F-statistic):           7.93e-17\n",
      "Time:                        09:21:51   Log-Likelihood:                -4289.9\n",
      "No. Observations:                 544   AIC:                             8590.\n",
      "Df Residuals:                     539   BIC:                             8611.\n",
      "Df Model:                           4                                         \n",
      "Covariance Type:            nonrobust                                         \n",
      "====================================================================================\n",
      "                       coef    std err          t      P>|t|      [0.025      0.975]\n",
      "------------------------------------------------------------------------------------\n",
      "const               43.3843    190.201      0.228      0.820    -330.241     417.010\n",
      "barcelona          531.5776    162.091      3.279      0.001     213.169     849.986\n",
      "event               37.2960    233.646      0.160      0.873    -421.672     496.264\n",
      "Star               116.4994     31.022      3.755      0.000      55.560     177.439\n",
      "interaction_term   305.9000    240.751      1.271      0.204    -167.026     778.826\n",
      "==============================================================================\n",
      "Omnibus:                      577.209   Durbin-Watson:                   1.047\n",
      "Prob(Omnibus):                  0.000   Jarque-Bera (JB):            30012.356\n",
      "Skew:                           4.864   Prob(JB):                         0.00\n",
      "Kurtosis:                      38.063   Cond. No.                         52.0\n",
      "==============================================================================\n",
      "\n",
      "Notes:\n",
      "[1] Standard Errors assume that the covariance matrix of the errors is correctly specified.\n"
     ]
    }
   ],
   "source": [
    "# Adding the interaction term\n",
    "df['interaction_term'] = df['barcelona'] * df['event']\n",
    "\n",
    "# Independent variables\n",
    "X = df[['barcelona', 'event', 'Star', 'interaction_term']]\n",
    "\n",
    "# Dependent variable\n",
    "y = df['Price']\n",
    "\n",
    "# Adding a constant term to the independent variables\n",
    "X = sm.add_constant(X)\n",
    "\n",
    "# Fit the regression model\n",
    "model = sm.OLS(y, X).fit()\n",
    "\n",
    "# Print out the regression results\n",
    "print(model.summary())"
   ]
  },
  {
   "cell_type": "code",
   "execution_count": 91,
   "metadata": {},
   "outputs": [],
   "source": [
    "# Create a new column 'Top_star' based on the condition\n",
    "df['Top_star'] = (df['Star'].isin([4, 5])).astype(int)\n"
   ]
  },
  {
   "cell_type": "code",
   "execution_count": 92,
   "metadata": {},
   "outputs": [
    {
     "name": "stdout",
     "output_type": "stream",
     "text": [
      "Number of observations: 137\n"
     ]
    }
   ],
   "source": [
    "# Calculate the number of observations meeting the specified conditions\n",
    "num_observations = df[(df['barcelona'] == 1) & (df['Top_star'] == 1) & (df['event'] == 1)].shape[0]\n",
    "\n",
    "# Display the result\n",
    "print(\"Number of observations:\", num_observations)"
   ]
  },
  {
   "cell_type": "code",
   "execution_count": 93,
   "metadata": {},
   "outputs": [
    {
     "name": "stdout",
     "output_type": "stream",
     "text": [
      "                            OLS Regression Results                            \n",
      "==============================================================================\n",
      "Dep. Variable:                  Price   R-squared:                       0.126\n",
      "Model:                            OLS   Adj. R-squared:                  0.120\n",
      "Method:                 Least Squares   F-statistic:                     19.46\n",
      "Date:                Wed, 31 Jan 2024   Prob (F-statistic):           5.69e-15\n",
      "Time:                        09:21:51   Log-Likelihood:                -4294.3\n",
      "No. Observations:                 544   AIC:                             8599.\n",
      "Df Residuals:                     539   BIC:                             8620.\n",
      "Df Model:                           4                                         \n",
      "Covariance Type:            nonrobust                                         \n",
      "====================================================================================\n",
      "                       coef    std err          t      P>|t|      [0.025      0.975]\n",
      "------------------------------------------------------------------------------------\n",
      "const              380.1753    160.826      2.364      0.018      64.253     696.098\n",
      "barcelona          520.1600    163.369      3.184      0.002     199.242     841.078\n",
      "event               12.7684    235.417      0.054      0.957    -449.679     475.215\n",
      "Top_star           127.5577     55.973      2.279      0.023      17.605     237.511\n",
      "interaction_term   341.7046    242.413      1.410      0.159    -134.486     817.895\n",
      "==============================================================================\n",
      "Omnibus:                      569.121   Durbin-Watson:                   1.036\n",
      "Prob(Omnibus):                  0.000   Jarque-Bera (JB):            28264.132\n",
      "Skew:                           4.768   Prob(JB):                         0.00\n",
      "Kurtosis:                      37.000   Cond. No.                         22.5\n",
      "==============================================================================\n",
      "\n",
      "Notes:\n",
      "[1] Standard Errors assume that the covariance matrix of the errors is correctly specified.\n"
     ]
    }
   ],
   "source": [
    "# Adding the interaction term\n",
    "df['interaction_term'] = df['barcelona'] * df['event']\n",
    "\n",
    "# Independent variables\n",
    "X = df[['barcelona', 'event', 'Top_star', 'interaction_term']]\n",
    "\n",
    "# Dependent variable\n",
    "y = df['Price']\n",
    "\n",
    "# Adding a constant term to the independent variables\n",
    "X = sm.add_constant(X)\n",
    "\n",
    "# Fit the regression model\n",
    "model = sm.OLS(y, X).fit()\n",
    "\n",
    "# Print out the regression results\n",
    "print(model.summary())"
   ]
  }
 ],
 "metadata": {
  "kernelspec": {
   "display_name": "basic_env",
   "language": "python",
   "name": "python3"
  },
  "language_info": {
   "codemirror_mode": {
    "name": "ipython",
    "version": 3
   },
   "file_extension": ".py",
   "mimetype": "text/x-python",
   "name": "python",
   "nbconvert_exporter": "python",
   "pygments_lexer": "ipython3",
   "version": "3.9.0"
  }
 },
 "nbformat": 4,
 "nbformat_minor": 2
}
