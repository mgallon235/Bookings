{
 "cells": [
  {
   "cell_type": "code",
   "execution_count": 1,
   "metadata": {},
   "outputs": [],
   "source": [
    "# !pip install statsmodels"
   ]
  },
  {
   "cell_type": "code",
   "execution_count": 2,
   "metadata": {},
   "outputs": [],
   "source": [
    "import pandas as pd\n",
    "import statsmodels.api as sm\n",
    "import matplotlib.pyplot as plt"
   ]
  },
  {
   "cell_type": "code",
   "execution_count": 3,
   "metadata": {},
   "outputs": [
    {
     "name": "stdout",
     "output_type": "stream",
     "text": [
      "(431, 10)\n"
     ]
    }
   ],
   "source": [
    "# Specify the path to the CSV file\n",
    "file_path = 'C:/Users/bakwe/Desktop/BSE/Text_mining/HW1/Scraped_data/Barcelona_05_29_06_02.csv'\n",
    "\n",
    "# Read the CSV file into a DataFrame\n",
    "df = pd.read_csv(file_path)\n",
    "\n",
    "# Adding 'barcelona' column with values equal to 1\n",
    "df['barcelona'] = 1\n",
    "\n",
    "# Adding the 'event' column with values equal to 1\n",
    "df['event'] = 1\n",
    "\n",
    "# Display the DataFrame\n",
    "print(df.shape)"
   ]
  },
  {
   "cell_type": "code",
   "execution_count": 4,
   "metadata": {},
   "outputs": [
    {
     "name": "stdout",
     "output_type": "stream",
     "text": [
      "\n",
      "Updated df after adding rows from V1:\n",
      "(754, 10)\n"
     ]
    }
   ],
   "source": [
    "# Specify the path to the CSV file\n",
    "file_path = 'C:/Users/bakwe/Desktop/BSE/Text_mining/HW1/Scraped_data/Valencia_05_29_06_02.csv'\n",
    "\n",
    "# Read the CSV file into a DataFrame\n",
    "V1 = pd.read_csv(file_path)\n",
    "\n",
    "# Adding rows from V1 to df with 'barcelona' values set to 0 and 'event' values set to 1\n",
    "df = pd.concat([df, V1.assign(barcelona=0, event=1)], ignore_index=True)\n",
    "\n",
    "# Displaying the updated df DataFrame\n",
    "print(\"\\nUpdated df after adding rows from V1:\")\n",
    "print(df.shape)\n"
   ]
  },
  {
   "cell_type": "code",
   "execution_count": 5,
   "metadata": {},
   "outputs": [],
   "source": [
    "# # Specify the path to the CSV file\n",
    "# file_path = 'C:/Users/bakwe/Desktop/BSE/Text_mining/HW1/Scraped_data/Valencia_05_24_05_28.csv'\n",
    "\n",
    "# # Read the CSV file into a DataFrame\n",
    "# V0 = pd.read_csv(file_path)\n",
    "\n",
    "# # Adding rows from V1 to df with 'barcelona' values set to 0 and 'event' values set to 0\n",
    "# df = pd.concat([df, V0.assign(barcelona=0, event=0)], ignore_index=True)\n",
    "\n",
    "# # Displaying the updated df DataFrame\n",
    "# print(\"\\nUpdated df after adding rows from V1:\")\n",
    "# print(df.shape)"
   ]
  },
  {
   "cell_type": "code",
   "execution_count": 6,
   "metadata": {},
   "outputs": [
    {
     "name": "stdout",
     "output_type": "stream",
     "text": [
      "\n",
      "Updated df after adding rows from filtered V0:\n",
      "(781, 10)\n"
     ]
    }
   ],
   "source": [
    "# Specify the path to the CSV file\n",
    "file_path = 'C:/Users/bakwe/Desktop/BSE/Text_mining/HW1/Scraped_data/Valencia_05_24_05_28.csv'\n",
    "\n",
    "# Read the CSV file into a DataFrame (V0)\n",
    "V0 = pd.read_csv(file_path)\n",
    "\n",
    "# Filter the rows in V0 where 'Hotels' exists in the 'Hotels' column of V1\n",
    "filtered_V0 = V0[V0['Hotels'].isin(V1['Hotels'])]\n",
    "\n",
    "# Adding rows from filtered V0 to df with 'barcelona' values set to 0 and 'event' values set to 0\n",
    "df = pd.concat([df, filtered_V0.assign(barcelona=0, event=0)], ignore_index=True)\n",
    "\n",
    "# Displaying the updated df DataFrame\n",
    "print(\"\\nUpdated df after adding rows from filtered V0:\")\n",
    "print(df.shape)\n"
   ]
  },
  {
   "cell_type": "code",
   "execution_count": 7,
   "metadata": {},
   "outputs": [],
   "source": [
    "# # Specify the path to the CSV file\n",
    "# file_path = 'C:/Users/bakwe/Desktop/BSE/Text_mining/HW1/Scraped_data/Barcelona_05_24_05_28.csv'\n",
    "\n",
    "# # Read the CSV file into a DataFrame\n",
    "# B0 = pd.read_csv(file_path)\n",
    "\n",
    "# # Adding rows from B0 to df with 'barcelona' values set to 1 and 'event' values set to 0\n",
    "# df = pd.concat([df, B0.assign(barcelona=1, event=0)], ignore_index=True)\n",
    "\n",
    "# # Displaying the updated df DataFrame\n",
    "# print(\"\\nUpdated df after adding rows from V1:\")\n",
    "# print(df.shape)\n",
    "# print(df.columns)"
   ]
  },
  {
   "cell_type": "code",
   "execution_count": 8,
   "metadata": {},
   "outputs": [
    {
     "name": "stdout",
     "output_type": "stream",
     "text": [
      "\n",
      "Updated df after adding rows from filtered BO:\n",
      "(1042, 10)\n",
      "Index(['Hotels', 'Ratings', 'Distance', 'District', 'Price', 'Link', 'Star',\n",
      "       'Descriptions', 'barcelona', 'event'],\n",
      "      dtype='object')\n"
     ]
    }
   ],
   "source": [
    "import pandas as pd\n",
    "\n",
    "# Specify the path to the CSV file (BO)\n",
    "file_path_BO = 'C:/Users/bakwe/Desktop/BSE/Text_mining/HW1/Scraped_data/Barcelona_05_24_05_28.csv'\n",
    "\n",
    "# Read the CSV file into a DataFrame (BO)\n",
    "B0 = pd.read_csv(file_path_BO)\n",
    "\n",
    "# Filter the rows in BO where 'Hotels' exists in the 'Hotels' column of df\n",
    "filtered_B0 = B0[B0['Hotels'].isin(df['Hotels'])]\n",
    "\n",
    "# Adding rows from filtered BO to df with 'barcelona' values set to 1 and 'event' values set to 0\n",
    "df = pd.concat([df, filtered_B0.assign(barcelona=1, event=0)], ignore_index=True)\n",
    "\n",
    "# Displaying the updated df DataFrame\n",
    "print(\"\\nUpdated df after adding rows from filtered BO:\")\n",
    "print(df.shape)\n",
    "print(df.columns)\n"
   ]
  },
  {
   "cell_type": "code",
   "execution_count": 9,
   "metadata": {},
   "outputs": [],
   "source": [
    "# Create a DataFrame\n",
    "df = pd.DataFrame(df)"
   ]
  },
  {
   "cell_type": "code",
   "execution_count": 10,
   "metadata": {},
   "outputs": [
    {
     "name": "stdout",
     "output_type": "stream",
     "text": [
      "Price for 'Hotels' == 'Ohla Barcelona': € 1.903\n"
     ]
    }
   ],
   "source": [
    "# Find the 'Price' value when 'Hotels' is equal to 'Ohla Barcelona'\n",
    "ohla_barcelona_price = df.loc[df['Hotels'] == 'Ohla Barcelona', 'Price'].values[0]\n",
    "\n",
    "# Print the 'Price' value\n",
    "print(\"Price for 'Hotels' == 'Ohla Barcelona':\", ohla_barcelona_price)"
   ]
  },
  {
   "cell_type": "code",
   "execution_count": 11,
   "metadata": {},
   "outputs": [
    {
     "name": "stdout",
     "output_type": "stream",
     "text": [
      "                                   Hotels Ratings             Distance  \\\n",
      "0  Ciudad Condal Hostal - Paseo de Gracia     7,2    a 1 km del centro   \n",
      "1        DO Plaça Reial powered by Sonder     8,4  a 0,9 km del centro   \n",
      "2                   SEALONA VILA OLIMPICA     8,4  a 1,8 km del centro   \n",
      "3                  Habitaciones Viladomat     8,0  a 1,7 km del centro   \n",
      "4       Nice apartment BCN two rooms wifi     8,4    a 2 km del centro   \n",
      "\n",
      "   District  Price                                               Link  Star  \\\n",
      "0       NaN    720  https://www.booking.com/hotel/es/ciudad-condal...     3   \n",
      "1       NaN   1920  https://www.booking.com/hotel/es/do.es.html?la...     5   \n",
      "2       NaN    360  https://www.booking.com/hotel/es/sealona-vila-...     4   \n",
      "3       NaN    374  https://www.booking.com/hotel/es/habitaciones-...     4   \n",
      "4       NaN    398  https://www.booking.com/hotel/es/nice-apartmen...     4   \n",
      "\n",
      "                                        Descriptions  barcelona  event  \n",
      "0  El Hostal Ciudad Condal - Paseo de Gracia ofre...          1      1  \n",
      "1  Set on Plaza Reial and just off Las Ramblas, D...          1      1  \n",
      "2  SEALONA VILA OLIMPICA está en Barcelona, a sol...          1      1  \n",
      "3  Habitaciones Viladomat se encuentra en Barcelo...          1      1  \n",
      "4  Nice apartment BCN two rooms wifi está en el b...          1      1  \n"
     ]
    }
   ],
   "source": [
    "# Extract only digits from the 'Price' column and convert to numeric\n",
    "df['Price'] = pd.to_numeric(df['Price'].str.replace('[^\\d]', '', regex=True), errors='coerce')\n",
    "\n",
    "# Extract the first digit and convert to numeric\n",
    "df['Star'] = pd.to_numeric(df['Star'].str.extract('(\\d)', expand=False), errors='coerce')\n",
    "\n",
    "# Display the updated DataFrame\n",
    "print(df.head())"
   ]
  },
  {
   "cell_type": "code",
   "execution_count": 12,
   "metadata": {},
   "outputs": [
    {
     "name": "stdout",
     "output_type": "stream",
     "text": [
      "Price for 'Hotels' == 'Ohla Barcelona': 1903\n"
     ]
    }
   ],
   "source": [
    "# Find the 'Price' value when 'Hotels' is equal to 'Ohla Barcelona'\n",
    "ohla_barcelona_price = df.loc[df['Hotels'] == 'Ohla Barcelona', 'Price'].values[0]\n",
    "\n",
    "# Print the 'Price' value\n",
    "print(\"Price for 'Hotels' == 'Ohla Barcelona':\", ohla_barcelona_price)"
   ]
  },
  {
   "cell_type": "code",
   "execution_count": 13,
   "metadata": {},
   "outputs": [
    {
     "name": "stdout",
     "output_type": "stream",
     "text": [
      "<class 'pandas.core.frame.DataFrame'>\n",
      "RangeIndex: 1042 entries, 0 to 1041\n",
      "Data columns (total 10 columns):\n",
      " #   Column        Non-Null Count  Dtype  \n",
      "---  ------        --------------  -----  \n",
      " 0   Hotels        1042 non-null   object \n",
      " 1   Ratings       1042 non-null   object \n",
      " 2   Distance      1042 non-null   object \n",
      " 3   District      0 non-null      float64\n",
      " 4   Price         1042 non-null   int64  \n",
      " 5   Link          1042 non-null   object \n",
      " 6   Star          1042 non-null   int64  \n",
      " 7   Descriptions  1011 non-null   object \n",
      " 8   barcelona     1042 non-null   int64  \n",
      " 9   event         1042 non-null   int64  \n",
      "dtypes: float64(1), int64(4), object(5)\n",
      "memory usage: 81.5+ KB\n",
      "None\n"
     ]
    }
   ],
   "source": [
    "# Display the count of NaN values in each column\n",
    "print(df.info())"
   ]
  },
  {
   "cell_type": "code",
   "execution_count": 15,
   "metadata": {},
   "outputs": [
    {
     "name": "stdout",
     "output_type": "stream",
     "text": [
      "   barcelona  event        Price\n",
      "0          0      0   455.777778\n",
      "1          0      1   568.436533\n",
      "2          1      0   950.452107\n",
      "3          1      1  1479.805104\n"
     ]
    }
   ],
   "source": [
    "# Group the DataFrame by 'barcelona' and 'event' columns and calculate the mean of 'Price'\n",
    "result = df.groupby(['barcelona', 'event'])['Price'].mean().reset_index()\n",
    "\n",
    "# Order the result DataFrame by the 'Star' column\n",
    "# result = result.sort_values(by=['Star'])\n",
    "\n",
    "# 'result' will now contain the average 'Price' for each combination of 'barcelona' and 'event'\n",
    "print(result)"
   ]
  },
  {
   "cell_type": "code",
   "execution_count": 16,
   "metadata": {},
   "outputs": [
    {
     "name": "stdout",
     "output_type": "stream",
     "text": [
      "Star\n",
      "4    467\n",
      "3    420\n",
      "2     79\n",
      "5     49\n",
      "1     27\n",
      "Name: count, dtype: int64\n"
     ]
    }
   ],
   "source": [
    "# Count the occurrences of each unique value in the 'Star' column\n",
    "star_counts = df['Star'].value_counts()\n",
    "\n",
    "# Print the count of values for each unique 'Star'\n",
    "print(star_counts)"
   ]
  },
  {
   "cell_type": "code",
   "execution_count": 17,
   "metadata": {},
   "outputs": [
    {
     "data": {
      "image/png": "[encoded data removed]",
      "text/plain": [
       "<Figure size 640x480 with 1 Axes>"
      ]
     },
     "metadata": {},
     "output_type": "display_data"
    }
   ],
   "source": [
    "# Group the DataFrame by the 'Star' column and create boxplots for each group\n",
    "plt.boxplot([df['Price'][df['Star'] == star] for star in df['Star'].unique()], \n",
    "            labels=df['Star'].unique())\n",
    "plt.xlabel('Star')\n",
    "plt.ylabel('Price')\n",
    "plt.title('Boxplots of Price for Different Star Values')\n",
    "plt.show()"
   ]
  },
  {
   "cell_type": "code",
   "execution_count": 18,
   "metadata": {},
   "outputs": [
    {
     "name": "stdout",
     "output_type": "stream",
     "text": [
      "                                 OLS Regression Results                                \n",
      "=======================================================================================\n",
      "Dep. Variable:                  Price   R-squared (uncentered):                   0.603\n",
      "Model:                            OLS   Adj. R-squared (uncentered):              0.603\n",
      "Method:                 Least Squares   F-statistic:                              1582.\n",
      "Date:                Tue, 30 Jan 2024   Prob (F-statistic):                   4.09e-211\n",
      "Time:                        23:11:14   Log-Likelihood:                         -8502.5\n",
      "No. Observations:                1042   AIC:                                  1.701e+04\n",
      "Df Residuals:                    1041   BIC:                                  1.701e+04\n",
      "Df Model:                           1                                                  \n",
      "Covariance Type:            nonrobust                                                  \n",
      "==============================================================================\n",
      "                 coef    std err          t      P>|t|      [0.025      0.975]\n",
      "------------------------------------------------------------------------------\n",
      "barcelona   1280.1503     32.187     39.773      0.000    1216.992    1343.308\n",
      "==============================================================================\n",
      "Omnibus:                     1044.389   Durbin-Watson:                   0.969\n",
      "Prob(Omnibus):                  0.000   Jarque-Bera (JB):            72419.739\n",
      "Skew:                           4.570   Prob(JB):                         0.00\n",
      "Kurtosis:                      42.805   Cond. No.                         1.00\n",
      "==============================================================================\n",
      "\n",
      "Notes:\n",
      "[1] R² is computed without centering (uncentered) since the model does not contain a constant.\n",
      "[2] Standard Errors assume that the covariance matrix of the errors is correctly specified.\n"
     ]
    }
   ],
   "source": [
    "# Independent variables\n",
    "X = df[['barcelona']]\n",
    "\n",
    "# Dependent variable\n",
    "y = df['Price']\n",
    "\n",
    "# Fit the regression model\n",
    "model = sm.OLS(y, X).fit()\n",
    "\n",
    "# Print out the regression results\n",
    "print(model.summary())"
   ]
  },
  {
   "cell_type": "code",
   "execution_count": 19,
   "metadata": {},
   "outputs": [
    {
     "name": "stdout",
     "output_type": "stream",
     "text": [
      "                                 OLS Regression Results                                \n",
      "=======================================================================================\n",
      "Dep. Variable:                  Price   R-squared (uncentered):                   0.476\n",
      "Model:                            OLS   Adj. R-squared (uncentered):              0.475\n",
      "Method:                 Least Squares   F-statistic:                              945.2\n",
      "Date:                Tue, 30 Jan 2024   Prob (F-statistic):                   3.26e-148\n",
      "Time:                        23:11:14   Log-Likelihood:                         -8647.4\n",
      "No. Observations:                1042   AIC:                                  1.730e+04\n",
      "Df Residuals:                    1041   BIC:                                  1.730e+04\n",
      "Df Model:                           1                                                  \n",
      "Covariance Type:            nonrobust                                                  \n",
      "==============================================================================\n",
      "                 coef    std err          t      P>|t|      [0.025      0.975]\n",
      "------------------------------------------------------------------------------\n",
      "event       1089.3912     35.434     30.744      0.000    1019.862    1158.921\n",
      "==============================================================================\n",
      "Omnibus:                      834.908   Durbin-Watson:                   0.732\n",
      "Prob(Omnibus):                  0.000   Jarque-Bera (JB):            28351.894\n",
      "Skew:                           3.399   Prob(JB):                         0.00\n",
      "Kurtosis:                      27.634   Cond. No.                         1.00\n",
      "==============================================================================\n",
      "\n",
      "Notes:\n",
      "[1] R² is computed without centering (uncentered) since the model does not contain a constant.\n",
      "[2] Standard Errors assume that the covariance matrix of the errors is correctly specified.\n"
     ]
    }
   ],
   "source": [
    "# Independent variables\n",
    "X = df[['event']]\n",
    "\n",
    "# Dependent variable\n",
    "y = df['Price']\n",
    "\n",
    "# Fit the regression model\n",
    "model = sm.OLS(y, X).fit()\n",
    "\n",
    "# Print out the regression results\n",
    "print(model.summary())"
   ]
  },
  {
   "cell_type": "code",
   "execution_count": 20,
   "metadata": {},
   "outputs": [
    {
     "name": "stdout",
     "output_type": "stream",
     "text": [
      "                                 OLS Regression Results                                \n",
      "=======================================================================================\n",
      "Dep. Variable:                  Price   R-squared (uncentered):                   0.683\n",
      "Model:                            OLS   Adj. R-squared (uncentered):              0.682\n",
      "Method:                 Least Squares   F-statistic:                              745.6\n",
      "Date:                Tue, 30 Jan 2024   Prob (F-statistic):                   1.75e-258\n",
      "Time:                        23:11:14   Log-Likelihood:                         -8385.7\n",
      "No. Observations:                1042   AIC:                                  1.678e+04\n",
      "Df Residuals:                    1039   BIC:                                  1.679e+04\n",
      "Df Model:                           3                                                  \n",
      "Covariance Type:            nonrobust                                                  \n",
      "====================================================================================\n",
      "                       coef    std err          t      P>|t|      [0.025      0.975]\n",
      "------------------------------------------------------------------------------------\n",
      "barcelona          950.4521     46.895     20.268      0.000     858.432    1042.472\n",
      "event              568.4365     42.155     13.484      0.000     485.718     651.155\n",
      "interaction_term   -39.0835     72.856     -0.536      0.592    -182.045     103.878\n",
      "==============================================================================\n",
      "Omnibus:                     1243.417   Durbin-Watson:                   1.210\n",
      "Prob(Omnibus):                  0.000   Jarque-Bera (JB):           145932.231\n",
      "Skew:                           5.986   Prob(JB):                         0.00\n",
      "Kurtosis:                      59.726   Cond. No.                         4.26\n",
      "==============================================================================\n",
      "\n",
      "Notes:\n",
      "[1] R² is computed without centering (uncentered) since the model does not contain a constant.\n",
      "[2] Standard Errors assume that the covariance matrix of the errors is correctly specified.\n"
     ]
    }
   ],
   "source": [
    "# Adding the interaction term\n",
    "df['interaction_term'] = df['barcelona'] * df['event']\n",
    "\n",
    "# Independent variables\n",
    "X = df[['barcelona', 'event', 'interaction_term']]\n",
    "\n",
    "# Dependent variable\n",
    "y = df['Price']\n",
    "\n",
    "# Fit the regression model\n",
    "model = sm.OLS(y, X).fit()\n",
    "\n",
    "# Print out the regression results\n",
    "print(model.summary())"
   ]
  },
  {
   "cell_type": "code",
   "execution_count": 21,
   "metadata": {},
   "outputs": [
    {
     "name": "stdout",
     "output_type": "stream",
     "text": [
      "                            OLS Regression Results                            \n",
      "==============================================================================\n",
      "Dep. Variable:                  Price   R-squared:                       0.220\n",
      "Model:                            OLS   Adj. R-squared:                  0.218\n",
      "Method:                 Least Squares   F-statistic:                     97.52\n",
      "Date:                Tue, 30 Jan 2024   Prob (F-statistic):           1.31e-55\n",
      "Time:                        23:11:14   Log-Likelihood:                -8380.8\n",
      "No. Observations:                1042   AIC:                         1.677e+04\n",
      "Df Residuals:                    1038   BIC:                         1.679e+04\n",
      "Df Model:                           3                                         \n",
      "Covariance Type:            nonrobust                                         \n",
      "====================================================================================\n",
      "                       coef    std err          t      P>|t|      [0.025      0.975]\n",
      "------------------------------------------------------------------------------------\n",
      "const              455.7778    145.186      3.139      0.002     170.886     740.669\n",
      "barcelona          494.6743    152.511      3.244      0.001     195.410     793.939\n",
      "event              112.6588    151.132      0.745      0.456    -183.901     409.219\n",
      "interaction_term   416.6942    162.302      2.567      0.010      98.216     735.173\n",
      "==============================================================================\n",
      "Omnibus:                     1259.037   Durbin-Watson:                   1.221\n",
      "Prob(Omnibus):                  0.000   Jarque-Bera (JB):           153611.505\n",
      "Skew:                           6.110   Prob(JB):                         0.00\n",
      "Kurtosis:                      61.213   Cond. No.                         19.3\n",
      "==============================================================================\n",
      "\n",
      "Notes:\n",
      "[1] Standard Errors assume that the covariance matrix of the errors is correctly specified.\n"
     ]
    }
   ],
   "source": [
    "# Adding the interaction term\n",
    "df['interaction_term'] = df['barcelona'] * df['event']\n",
    "\n",
    "# Independent variables\n",
    "X = df[['barcelona', 'event', 'interaction_term']]\n",
    "\n",
    "# Dependent variable\n",
    "y = df['Price']\n",
    "\n",
    "# Adding a constant term to the independent variables\n",
    "X = sm.add_constant(X)\n",
    "\n",
    "# Fit the regression model without adding a constant term\n",
    "model = sm.OLS(y, X).fit()\n",
    "\n",
    "# Print out the regression results\n",
    "print(model.summary())"
   ]
  },
  {
   "cell_type": "code",
   "execution_count": 22,
   "metadata": {},
   "outputs": [
    {
     "name": "stdout",
     "output_type": "stream",
     "text": [
      "                            OLS Regression Results                            \n",
      "==============================================================================\n",
      "Dep. Variable:                  Price   R-squared:                       0.237\n",
      "Model:                            OLS   Adj. R-squared:                  0.234\n",
      "Method:                 Least Squares   F-statistic:                     80.50\n",
      "Date:                Tue, 30 Jan 2024   Prob (F-statistic):           1.59e-59\n",
      "Time:                        23:11:14   Log-Likelihood:                -8369.2\n",
      "No. Observations:                1042   AIC:                         1.675e+04\n",
      "Df Residuals:                    1037   BIC:                         1.677e+04\n",
      "Df Model:                           4                                         \n",
      "Covariance Type:            nonrobust                                         \n",
      "====================================================================================\n",
      "                       coef    std err          t      P>|t|      [0.025      0.975]\n",
      "------------------------------------------------------------------------------------\n",
      "const              -23.6803    174.782     -0.135      0.892    -366.646     319.286\n",
      "barcelona          512.2740    150.950      3.394      0.001     216.071     808.477\n",
      "event              107.7267    149.546      0.720      0.471    -185.720     401.173\n",
      "Star               139.1975     28.903      4.816      0.000      82.483     195.912\n",
      "interaction_term   407.1127    160.607      2.535      0.011      91.961     722.264\n",
      "==============================================================================\n",
      "Omnibus:                     1268.334   Durbin-Watson:                   1.224\n",
      "Prob(Omnibus):                  0.000   Jarque-Bera (JB):           156134.163\n",
      "Skew:                           6.191   Prob(JB):                         0.00\n",
      "Kurtosis:                      61.676   Cond. No.                         49.1\n",
      "==============================================================================\n",
      "\n",
      "Notes:\n",
      "[1] Standard Errors assume that the covariance matrix of the errors is correctly specified.\n"
     ]
    }
   ],
   "source": [
    "# Adding the interaction term\n",
    "df['interaction_term'] = df['barcelona'] * df['event']\n",
    "\n",
    "# Independent variables\n",
    "X = df[['barcelona', 'event', 'Star', 'interaction_term']]\n",
    "\n",
    "# Dependent variable\n",
    "y = df['Price']\n",
    "\n",
    "# Adding a constant term to the independent variables\n",
    "X = sm.add_constant(X)\n",
    "\n",
    "# Fit the regression model\n",
    "model = sm.OLS(y, X).fit()\n",
    "\n",
    "# Print out the regression results\n",
    "print(model.summary())"
   ]
  },
  {
   "cell_type": "code",
   "execution_count": 23,
   "metadata": {},
   "outputs": [],
   "source": [
    "# Create a new column 'Top_star' based on the condition\n",
    "df['Top_star'] = (df['Star'].isin([4, 5])).astype(int)\n"
   ]
  },
  {
   "cell_type": "code",
   "execution_count": 24,
   "metadata": {},
   "outputs": [
    {
     "name": "stdout",
     "output_type": "stream",
     "text": [
      "Number of observations: 220\n"
     ]
    }
   ],
   "source": [
    "# Calculate the number of observations meeting the specified conditions\n",
    "num_observations = df[(df['barcelona'] == 1) & (df['Top_star'] == 1) & (df['event'] == 1)].shape[0]\n",
    "\n",
    "# Display the result\n",
    "print(\"Number of observations:\", num_observations)"
   ]
  },
  {
   "cell_type": "code",
   "execution_count": 25,
   "metadata": {},
   "outputs": [
    {
     "name": "stdout",
     "output_type": "stream",
     "text": [
      "                            OLS Regression Results                            \n",
      "==============================================================================\n",
      "Dep. Variable:                  Price   R-squared:                       0.230\n",
      "Model:                            OLS   Adj. R-squared:                  0.227\n",
      "Method:                 Least Squares   F-statistic:                     77.60\n",
      "Date:                Tue, 30 Jan 2024   Prob (F-statistic):           1.32e-57\n",
      "Time:                        23:11:14   Log-Likelihood:                -8373.7\n",
      "No. Observations:                1042   AIC:                         1.676e+04\n",
      "Df Residuals:                    1037   BIC:                         1.678e+04\n",
      "Df Model:                           4                                         \n",
      "Covariance Type:            nonrobust                                         \n",
      "====================================================================================\n",
      "                       coef    std err          t      P>|t|      [0.025      0.975]\n",
      "------------------------------------------------------------------------------------\n",
      "const              371.6696    146.001      2.546      0.011      85.179     658.161\n",
      "barcelona          495.7898    151.556      3.271      0.001     198.399     793.180\n",
      "event              110.7759    150.186      0.738      0.461    -183.928     405.480\n",
      "Top_star           174.6863     46.470      3.759      0.000      83.501     265.872\n",
      "interaction_term   412.4028    161.290      2.557      0.011      95.912     728.894\n",
      "==============================================================================\n",
      "Omnibus:                     1261.946   Durbin-Watson:                   1.214\n",
      "Prob(Omnibus):                  0.000   Jarque-Bera (JB):           153699.622\n",
      "Skew:                           6.137   Prob(JB):                         0.00\n",
      "Kurtosis:                      61.219   Cond. No.                         20.4\n",
      "==============================================================================\n",
      "\n",
      "Notes:\n",
      "[1] Standard Errors assume that the covariance matrix of the errors is correctly specified.\n"
     ]
    }
   ],
   "source": [
    "# Adding the interaction term\n",
    "df['interaction_term'] = df['barcelona'] * df['event']\n",
    "\n",
    "# Independent variables\n",
    "X = df[['barcelona', 'event', 'Top_star', 'interaction_term']]\n",
    "\n",
    "# Dependent variable\n",
    "y = df['Price']\n",
    "\n",
    "# Adding a constant term to the independent variables\n",
    "X = sm.add_constant(X)\n",
    "\n",
    "# Fit the regression model\n",
    "model = sm.OLS(y, X).fit()\n",
    "\n",
    "# Print out the regression results\n",
    "print(model.summary())"
   ]
  }
 ],
 "metadata": {
  "kernelspec": {
   "display_name": "basic_env",
   "language": "python",
   "name": "python3"
  },
  "language_info": {
   "codemirror_mode": {
    "name": "ipython",
    "version": 3
   },
   "file_extension": ".py",
   "mimetype": "text/x-python",
   "name": "python",
   "nbconvert_exporter": "python",
   "pygments_lexer": "ipython3",
   "version": "3.8.18"
  }
 },
 "nbformat": 4,
 "nbformat_minor": 2
}
