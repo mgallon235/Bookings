{
 "cells": [
  {
   "cell_type": "code",
   "execution_count": 1,
   "metadata": {},
   "outputs": [],
   "source": [
    "# !pip install statsmodels"
   ]
  },
  {
   "cell_type": "code",
   "execution_count": 2,
   "metadata": {},
   "outputs": [],
   "source": [
    "import pandas as pd\n",
    "import statsmodels.api as sm\n",
    "import matplotlib.pyplot as plt"
   ]
  },
  {
   "cell_type": "code",
   "execution_count": 3,
   "metadata": {},
   "outputs": [
    {
     "name": "stdout",
     "output_type": "stream",
     "text": [
      "(431, 10)\n"
     ]
    }
   ],
   "source": [
    "# Specify the path to the CSV file\n",
    "file_path = 'C:/Users/bakwe/Desktop/BSE/Text_mining/HW1/Scraped_data/Barcelona_05_29_06_02.csv'\n",
    "\n",
    "# Read the CSV file into a DataFrame\n",
    "df = pd.read_csv(file_path)\n",
    "\n",
    "# Adding 'barcelona' column with values equal to 1\n",
    "df['barcelona'] = 1\n",
    "\n",
    "# Adding the 'event' column with values equal to 1\n",
    "df['event'] = 1\n",
    "\n",
    "# Display the DataFrame\n",
    "print(df.shape)"
   ]
  },
  {
   "cell_type": "code",
   "execution_count": 4,
   "metadata": {},
   "outputs": [
    {
     "name": "stdout",
     "output_type": "stream",
     "text": [
      "\n",
      "Updated df after adding rows from V1:\n",
      "(754, 10)\n"
     ]
    }
   ],
   "source": [
    "# Specify the path to the CSV file\n",
    "file_path = 'C:/Users/bakwe/Desktop/BSE/Text_mining/HW1/Scraped_data/Valencia_05_29_06_02.csv'\n",
    "\n",
    "# Read the CSV file into a DataFrame\n",
    "V1 = pd.read_csv(file_path)\n",
    "\n",
    "# Adding rows from V1 to df with 'barcelona' values set to 0 and 'event' values set to 1\n",
    "df = pd.concat([df, V1.assign(barcelona=0, event=1)], ignore_index=True)\n",
    "\n",
    "# Displaying the updated df DataFrame\n",
    "print(\"\\nUpdated df after adding rows from V1:\")\n",
    "print(df.shape)\n"
   ]
  },
  {
   "cell_type": "code",
   "execution_count": 5,
   "metadata": {},
   "outputs": [
    {
     "name": "stdout",
     "output_type": "stream",
     "text": [
      "\n",
      "Updated df after adding rows from V1:\n",
      "(1142, 10)\n"
     ]
    }
   ],
   "source": [
    "# Specify the path to the CSV file\n",
    "file_path = 'C:/Users/bakwe/Desktop/BSE/Text_mining/HW1/Scraped_data/Valencia_05_24_05_28.csv'\n",
    "\n",
    "# Read the CSV file into a DataFrame\n",
    "V0 = pd.read_csv(file_path)\n",
    "\n",
    "# Adding rows from V1 to df with 'barcelona' values set to 0 and 'event' values set to 0\n",
    "df = pd.concat([df, V0.assign(barcelona=0, event=0)], ignore_index=True)\n",
    "\n",
    "# Displaying the updated df DataFrame\n",
    "print(\"\\nUpdated df after adding rows from V1:\")\n",
    "print(df.shape)"
   ]
  },
  {
   "cell_type": "code",
   "execution_count": 6,
   "metadata": {},
   "outputs": [
    {
     "name": "stdout",
     "output_type": "stream",
     "text": [
      "\n",
      "Updated df after adding rows from V1:\n",
      "(1559, 10)\n",
      "Index(['Hotels', 'Ratings', 'Distance', 'District', 'Price', 'Link', 'Star',\n",
      "       'Descriptions', 'barcelona', 'event'],\n",
      "      dtype='object')\n"
     ]
    }
   ],
   "source": [
    "# Specify the path to the CSV file\n",
    "file_path = 'C:/Users/bakwe/Desktop/BSE/Text_mining/HW1/Scraped_data/Barcelona_05_24_05_28.csv'\n",
    "\n",
    "# Read the CSV file into a DataFrame\n",
    "B0 = pd.read_csv(file_path)\n",
    "\n",
    "# Adding rows from B0 to df with 'barcelona' values set to 1 and 'event' values set to 0\n",
    "df = pd.concat([df, B0.assign(barcelona=1, event=0)], ignore_index=True)\n",
    "\n",
    "# Displaying the updated df DataFrame\n",
    "print(\"\\nUpdated df after adding rows from V1:\")\n",
    "print(df.shape)\n",
    "print(df.columns)"
   ]
  },
  {
   "cell_type": "code",
   "execution_count": 7,
   "metadata": {},
   "outputs": [],
   "source": [
    "# Create a DataFrame\n",
    "df = pd.DataFrame(df)"
   ]
  },
  {
   "cell_type": "code",
   "execution_count": 8,
   "metadata": {},
   "outputs": [
    {
     "name": "stdout",
     "output_type": "stream",
     "text": [
      "Residencia Universitaria Campus del Mar                     2\n",
      "Hotel Casa Fuster G.L Monumento                             2\n",
      "Via Sants Hotel Barcelona, Tapestry Collection By Hilton    2\n",
      "NH Barcelona Diagonal Center                                2\n",
      "INNSiDE by Meliá Barcelona Apolo                            2\n",
      "                                                           ..\n",
      "Gaudi Hotel                                                 2\n",
      "Suite Place Barcelona Diputació                             2\n",
      "MH Apartments Gracia                                        2\n",
      "Aparthotel Allada 3*                                        2\n",
      "Barcelona Apartment Val                                     2\n",
      "Name: Hotels, Length: 272, dtype: int64\n"
     ]
    }
   ],
   "source": [
    "# First, count the occurrences of each value in the 'Hotels' column\n",
    "hotel_counts = df['Hotels'].value_counts()\n",
    "\n",
    "# Then, create a new DataFrame containing only rows with 'Hotels' values that appear twice\n",
    "filtered_df = df[df['Hotels'].isin(hotel_counts[hotel_counts == 2].index)]\n",
    "\n",
    "# Finally, print the count of 'Hotels' values\n",
    "print(hotel_counts[hotel_counts == 2])"
   ]
  },
  {
   "cell_type": "code",
   "execution_count": 9,
   "metadata": {},
   "outputs": [
    {
     "name": "stdout",
     "output_type": "stream",
     "text": [
      "Price for 'Hotels' == 'Ohla Barcelona': € 1.903\n"
     ]
    }
   ],
   "source": [
    "# Find the 'Price' value when 'Hotels' is equal to 'Ohla Barcelona'\n",
    "ohla_barcelona_price = df.loc[df['Hotels'] == 'Ohla Barcelona', 'Price'].values[0]\n",
    "\n",
    "# Print the 'Price' value\n",
    "print(\"Price for 'Hotels' == 'Ohla Barcelona':\", ohla_barcelona_price)"
   ]
  },
  {
   "cell_type": "code",
   "execution_count": 10,
   "metadata": {},
   "outputs": [
    {
     "name": "stdout",
     "output_type": "stream",
     "text": [
      "                                   Hotels Ratings             Distance  \\\n",
      "0  Ciudad Condal Hostal - Paseo de Gracia     7,2    a 1 km del centro   \n",
      "1        DO Plaça Reial powered by Sonder     8,4  a 0,9 km del centro   \n",
      "2                   SEALONA VILA OLIMPICA     8,4  a 1,8 km del centro   \n",
      "3                  Habitaciones Viladomat     8,0  a 1,7 km del centro   \n",
      "4       Nice apartment BCN two rooms wifi     8,4    a 2 km del centro   \n",
      "\n",
      "   District  Price                                               Link  Star  \\\n",
      "0       NaN    720  https://www.booking.com/hotel/es/ciudad-condal...     3   \n",
      "1       NaN   1920  https://www.booking.com/hotel/es/do.es.html?la...     5   \n",
      "2       NaN    360  https://www.booking.com/hotel/es/sealona-vila-...     4   \n",
      "3       NaN    374  https://www.booking.com/hotel/es/habitaciones-...     4   \n",
      "4       NaN    398  https://www.booking.com/hotel/es/nice-apartmen...     4   \n",
      "\n",
      "                                        Descriptions  barcelona  event  \n",
      "0  El Hostal Ciudad Condal - Paseo de Gracia ofre...          1      1  \n",
      "1  Set on Plaza Reial and just off Las Ramblas, D...          1      1  \n",
      "2  SEALONA VILA OLIMPICA está en Barcelona, a sol...          1      1  \n",
      "3  Habitaciones Viladomat se encuentra en Barcelo...          1      1  \n",
      "4  Nice apartment BCN two rooms wifi está en el b...          1      1  \n"
     ]
    }
   ],
   "source": [
    "# Extract only digits from the 'Price' column and convert to numeric\n",
    "df['Price'] = pd.to_numeric(df['Price'].str.replace('[^\\d]', '', regex=True), errors='coerce')\n",
    "\n",
    "# Extract the first digit and convert to numeric\n",
    "df['Star'] = pd.to_numeric(df['Star'].str.extract('(\\d)', expand=False), errors='coerce')\n",
    "\n",
    "# Display the updated DataFrame\n",
    "print(df.head())"
   ]
  },
  {
   "cell_type": "code",
   "execution_count": 11,
   "metadata": {},
   "outputs": [
    {
     "name": "stdout",
     "output_type": "stream",
     "text": [
      "Price for 'Hotels' == 'Ohla Barcelona': 1903\n"
     ]
    }
   ],
   "source": [
    "# Find the 'Price' value when 'Hotels' is equal to 'Ohla Barcelona'\n",
    "ohla_barcelona_price = df.loc[df['Hotels'] == 'Ohla Barcelona', 'Price'].values[0]\n",
    "\n",
    "# Print the 'Price' value\n",
    "print(\"Price for 'Hotels' == 'Ohla Barcelona':\", ohla_barcelona_price)"
   ]
  },
  {
   "cell_type": "code",
   "execution_count": 12,
   "metadata": {},
   "outputs": [
    {
     "name": "stdout",
     "output_type": "stream",
     "text": [
      "<class 'pandas.core.frame.DataFrame'>\n",
      "RangeIndex: 1559 entries, 0 to 1558\n",
      "Data columns (total 10 columns):\n",
      " #   Column        Non-Null Count  Dtype  \n",
      "---  ------        --------------  -----  \n",
      " 0   Hotels        1559 non-null   object \n",
      " 1   Ratings       1559 non-null   object \n",
      " 2   Distance      1559 non-null   object \n",
      " 3   District      0 non-null      float64\n",
      " 4   Price         1559 non-null   int64  \n",
      " 5   Link          1559 non-null   object \n",
      " 6   Star          1559 non-null   int64  \n",
      " 7   Descriptions  1523 non-null   object \n",
      " 8   barcelona     1559 non-null   int64  \n",
      " 9   event         1559 non-null   int64  \n",
      "dtypes: float64(1), int64(4), object(5)\n",
      "memory usage: 121.9+ KB\n",
      "None\n"
     ]
    }
   ],
   "source": [
    "# Display the count of NaN values in each column\n",
    "print(df.info())"
   ]
  },
  {
   "cell_type": "code",
   "execution_count": 13,
   "metadata": {},
   "outputs": [
    {
     "name": "stdout",
     "output_type": "stream",
     "text": [
      "   barcelona  event        Price\n",
      "0          0      0   624.930412\n",
      "1          0      1   568.436533\n",
      "2          1      0   916.901679\n",
      "3          1      1  1479.805104\n"
     ]
    }
   ],
   "source": [
    "# Group the DataFrame by 'barcelona' and 'event' columns and calculate the mean of 'Price'\n",
    "result = df.groupby(['barcelona', 'event'])['Price'].mean().reset_index()\n",
    "\n",
    "# Order the result DataFrame by the 'Star' column\n",
    "# result = result.sort_values(by=['Star'])\n",
    "\n",
    "# 'result' will now contain the average 'Price' for each combination of 'barcelona' and 'event'\n",
    "print(result)"
   ]
  },
  {
   "cell_type": "code",
   "execution_count": 14,
   "metadata": {},
   "outputs": [
    {
     "name": "stdout",
     "output_type": "stream",
     "text": [
      "4    754\n",
      "3    595\n",
      "2    109\n",
      "5     61\n",
      "1     40\n",
      "Name: Star, dtype: int64\n"
     ]
    }
   ],
   "source": [
    "# Count the occurrences of each unique value in the 'Star' column\n",
    "star_counts = df['Star'].value_counts()\n",
    "\n",
    "# Print the count of values for each unique 'Star'\n",
    "print(star_counts)"
   ]
  },
  {
   "cell_type": "code",
   "execution_count": 15,
   "metadata": {},
   "outputs": [
    {
     "data": {
      "image/png": "[encoded data removed]",
      "text/plain": [
       "<Figure size 640x480 with 1 Axes>"
      ]
     },
     "metadata": {},
     "output_type": "display_data"
    }
   ],
   "source": [
    "# Group the DataFrame by the 'Star' column and create boxplots for each group\n",
    "plt.boxplot([df['Price'][df['Star'] == star] for star in df['Star'].unique()], \n",
    "            labels=df['Star'].unique())\n",
    "plt.xlabel('Star')\n",
    "plt.ylabel('Price')\n",
    "plt.title('Boxplots of Price for Different Star Values')\n",
    "plt.show()"
   ]
  },
  {
   "cell_type": "code",
   "execution_count": 16,
   "metadata": {},
   "outputs": [
    {
     "name": "stdout",
     "output_type": "stream",
     "text": [
      "                                 OLS Regression Results                                \n",
      "=======================================================================================\n",
      "Dep. Variable:                  Price   R-squared (uncentered):                   0.561\n",
      "Model:                            OLS   Adj. R-squared (uncentered):              0.561\n",
      "Method:                 Least Squares   F-statistic:                              1991.\n",
      "Date:                Wed, 31 Jan 2024   Prob (F-statistic):                   8.49e-281\n",
      "Time:                        09:05:22   Log-Likelihood:                         -12604.\n",
      "No. Observations:                1559   AIC:                                  2.521e+04\n",
      "Df Residuals:                    1558   BIC:                                  2.521e+04\n",
      "Df Model:                           1                                                  \n",
      "Covariance Type:            nonrobust                                                  \n",
      "==============================================================================\n",
      "                 coef    std err          t      P>|t|      [0.025      0.975]\n",
      "------------------------------------------------------------------------------\n",
      "barcelona   1203.0000     26.962     44.618      0.000    1150.114    1255.886\n",
      "==============================================================================\n",
      "Omnibus:                     1493.887   Durbin-Watson:                   0.840\n",
      "Prob(Omnibus):                  0.000   Jarque-Bera (JB):           120967.583\n",
      "Skew:                           4.267   Prob(JB):                         0.00\n",
      "Kurtosis:                      45.301   Cond. No.                         1.00\n",
      "==============================================================================\n",
      "\n",
      "Notes:\n",
      "[1] R² is computed without centering (uncentered) since the model does not contain a constant.\n",
      "[2] Standard Errors assume that the covariance matrix of the errors is correctly specified.\n"
     ]
    }
   ],
   "source": [
    "# Independent variables\n",
    "X = df[['barcelona']]\n",
    "\n",
    "# Dependent variable\n",
    "y = df['Price']\n",
    "\n",
    "# Fit the regression model\n",
    "model = sm.OLS(y, X).fit()\n",
    "\n",
    "# Print out the regression results\n",
    "print(model.summary())"
   ]
  },
  {
   "cell_type": "code",
   "execution_count": 17,
   "metadata": {},
   "outputs": [
    {
     "name": "stdout",
     "output_type": "stream",
     "text": [
      "                                 OLS Regression Results                                \n",
      "=======================================================================================\n",
      "Dep. Variable:                  Price   R-squared (uncentered):                   0.409\n",
      "Model:                            OLS   Adj. R-squared (uncentered):              0.409\n",
      "Method:                 Least Squares   F-statistic:                              1078.\n",
      "Date:                Wed, 31 Jan 2024   Prob (F-statistic):                   3.53e-180\n",
      "Time:                        09:05:22   Log-Likelihood:                         -12835.\n",
      "No. Observations:                1559   AIC:                                  2.567e+04\n",
      "Df Residuals:                    1558   BIC:                                  2.568e+04\n",
      "Df Model:                           1                                                  \n",
      "Covariance Type:            nonrobust                                                  \n",
      "==============================================================================\n",
      "                 coef    std err          t      P>|t|      [0.025      0.975]\n",
      "------------------------------------------------------------------------------\n",
      "event       1089.3912     33.174     32.838      0.000    1024.320    1154.463\n",
      "==============================================================================\n",
      "Omnibus:                     1172.798   Durbin-Watson:                   0.621\n",
      "Prob(Omnibus):                  0.000   Jarque-Bera (JB):            49885.576\n",
      "Skew:                           3.062   Prob(JB):                         0.00\n",
      "Kurtosis:                      30.027   Cond. No.                         1.00\n",
      "==============================================================================\n",
      "\n",
      "Notes:\n",
      "[1] R² is computed without centering (uncentered) since the model does not contain a constant.\n",
      "[2] Standard Errors assume that the covariance matrix of the errors is correctly specified.\n"
     ]
    }
   ],
   "source": [
    "# Independent variables\n",
    "X = df[['event']]\n",
    "\n",
    "# Dependent variable\n",
    "y = df['Price']\n",
    "\n",
    "# Fit the regression model\n",
    "model = sm.OLS(y, X).fit()\n",
    "\n",
    "# Print out the regression results\n",
    "print(model.summary())"
   ]
  },
  {
   "cell_type": "code",
   "execution_count": 18,
   "metadata": {},
   "outputs": [
    {
     "name": "stdout",
     "output_type": "stream",
     "text": [
      "                                 OLS Regression Results                                \n",
      "=======================================================================================\n",
      "Dep. Variable:                  Price   R-squared (uncentered):                   0.639\n",
      "Model:                            OLS   Adj. R-squared (uncentered):              0.639\n",
      "Method:                 Least Squares   F-statistic:                              919.6\n",
      "Date:                Wed, 31 Jan 2024   Prob (F-statistic):                        0.00\n",
      "Time:                        09:05:22   Log-Likelihood:                         -12450.\n",
      "No. Observations:                1559   AIC:                                  2.491e+04\n",
      "Df Residuals:                    1556   BIC:                                  2.492e+04\n",
      "Df Model:                           3                                                  \n",
      "Covariance Type:            nonrobust                                                  \n",
      "====================================================================================\n",
      "                       coef    std err          t      P>|t|      [0.025      0.975]\n",
      "------------------------------------------------------------------------------------\n",
      "barcelona          916.9017     34.869     26.295      0.000     848.506     985.297\n",
      "event              568.4365     39.620     14.347      0.000     490.723     646.150\n",
      "interaction_term    -5.5331     62.944     -0.088      0.930    -128.997     117.931\n",
      "==============================================================================\n",
      "Omnibus:                     1627.820   Durbin-Watson:                   1.020\n",
      "Prob(Omnibus):                  0.000   Jarque-Bera (JB):           165476.194\n",
      "Skew:                           4.864   Prob(JB):                         0.00\n",
      "Kurtosis:                      52.526   Cond. No.                         3.95\n",
      "==============================================================================\n",
      "\n",
      "Notes:\n",
      "[1] R² is computed without centering (uncentered) since the model does not contain a constant.\n",
      "[2] Standard Errors assume that the covariance matrix of the errors is correctly specified.\n"
     ]
    }
   ],
   "source": [
    "# Adding the interaction term\n",
    "df['interaction_term'] = df['barcelona'] * df['event']\n",
    "\n",
    "# Independent variables\n",
    "X = df[['barcelona', 'event', 'interaction_term']]\n",
    "\n",
    "# Dependent variable\n",
    "y = df['Price']\n",
    "\n",
    "# Fit the regression model\n",
    "model = sm.OLS(y, X).fit()\n",
    "\n",
    "# Print out the regression results\n",
    "print(model.summary())"
   ]
  },
  {
   "cell_type": "code",
   "execution_count": 19,
   "metadata": {},
   "outputs": [
    {
     "name": "stdout",
     "output_type": "stream",
     "text": [
      "                            OLS Regression Results                            \n",
      "==============================================================================\n",
      "Dep. Variable:                  Price   R-squared:                       0.247\n",
      "Model:                            OLS   Adj. R-squared:                  0.245\n",
      "Method:                 Least Squares   F-statistic:                     169.7\n",
      "Date:                Wed, 31 Jan 2024   Prob (F-statistic):           3.63e-95\n",
      "Time:                        09:05:22   Log-Likelihood:                -12284.\n",
      "No. Observations:                1559   AIC:                         2.458e+04\n",
      "Df Residuals:                    1555   BIC:                         2.460e+04\n",
      "Df Model:                           3                                         \n",
      "Covariance Type:            nonrobust                                         \n",
      "====================================================================================\n",
      "                       coef    std err          t      P>|t|      [0.025      0.975]\n",
      "------------------------------------------------------------------------------------\n",
      "const              624.9304     32.503     19.227      0.000     561.176     688.684\n",
      "barcelona          291.9713     45.160      6.465      0.000     203.391     380.552\n",
      "event              -56.4939     48.223     -1.172      0.242    -151.083      38.095\n",
      "interaction_term   619.3973     65.265      9.491      0.000     491.382     747.413\n",
      "==============================================================================\n",
      "Omnibus:                     1990.260   Durbin-Watson:                   1.261\n",
      "Prob(Omnibus):                  0.000   Jarque-Bera (JB):           385181.065\n",
      "Skew:                           6.735   Prob(JB):                         0.00\n",
      "Kurtosis:                      78.817   Cond. No.                         7.06\n",
      "==============================================================================\n",
      "\n",
      "Notes:\n",
      "[1] Standard Errors assume that the covariance matrix of the errors is correctly specified.\n"
     ]
    }
   ],
   "source": [
    "# Adding the interaction term\n",
    "df['interaction_term'] = df['barcelona'] * df['event']\n",
    "\n",
    "# Independent variables\n",
    "X = df[['barcelona', 'event', 'interaction_term']]\n",
    "\n",
    "# Dependent variable\n",
    "y = df['Price']\n",
    "\n",
    "# Adding a constant term to the independent variables\n",
    "X = sm.add_constant(X)\n",
    "\n",
    "# Fit the regression model without adding a constant term\n",
    "model = sm.OLS(y, X).fit()\n",
    "\n",
    "# Print out the regression results\n",
    "print(model.summary())"
   ]
  },
  {
   "cell_type": "code",
   "execution_count": 20,
   "metadata": {},
   "outputs": [
    {
     "name": "stdout",
     "output_type": "stream",
     "text": [
      "                            OLS Regression Results                            \n",
      "==============================================================================\n",
      "Dep. Variable:                  Price   R-squared:                       0.261\n",
      "Model:                            OLS   Adj. R-squared:                  0.259\n",
      "Method:                 Least Squares   F-statistic:                     137.5\n",
      "Date:                Wed, 31 Jan 2024   Prob (F-statistic):          1.23e-100\n",
      "Time:                        09:05:22   Log-Likelihood:                -12269.\n",
      "No. Observations:                1559   AIC:                         2.455e+04\n",
      "Df Residuals:                    1554   BIC:                         2.457e+04\n",
      "Df Model:                           4                                         \n",
      "Covariance Type:            nonrobust                                         \n",
      "====================================================================================\n",
      "                       coef    std err          t      P>|t|      [0.025      0.975]\n",
      "------------------------------------------------------------------------------------\n",
      "const              215.4028     80.394      2.679      0.007      57.711     373.095\n",
      "barcelona          323.4714     45.089      7.174      0.000     235.030     411.913\n",
      "event              -45.3387     47.808     -0.948      0.343    -139.114      48.436\n",
      "Star               114.4789     20.593      5.559      0.000      74.087     154.871\n",
      "interaction_term   594.4914     64.801      9.174      0.000     467.385     721.598\n",
      "==============================================================================\n",
      "Omnibus:                     2004.378   Durbin-Watson:                   1.268\n",
      "Prob(Omnibus):                  0.000   Jarque-Bera (JB):           392433.395\n",
      "Skew:                           6.823   Prob(JB):                         0.00\n",
      "Kurtosis:                      79.519   Cond. No.                         22.2\n",
      "==============================================================================\n",
      "\n",
      "Notes:\n",
      "[1] Standard Errors assume that the covariance matrix of the errors is correctly specified.\n"
     ]
    }
   ],
   "source": [
    "# Adding the interaction term\n",
    "df['interaction_term'] = df['barcelona'] * df['event']\n",
    "\n",
    "# Independent variables\n",
    "X = df[['barcelona', 'event', 'Star', 'interaction_term']]\n",
    "\n",
    "# Dependent variable\n",
    "y = df['Price']\n",
    "\n",
    "# Adding a constant term to the independent variables\n",
    "X = sm.add_constant(X)\n",
    "\n",
    "# Fit the regression model\n",
    "model = sm.OLS(y, X).fit()\n",
    "\n",
    "# Print out the regression results\n",
    "print(model.summary())"
   ]
  },
  {
   "cell_type": "code",
   "execution_count": 21,
   "metadata": {},
   "outputs": [],
   "source": [
    "# Create a new column 'Top_star' based on the condition\n",
    "df['Top_star'] = (df['Star'].isin([4, 5])).astype(int)\n"
   ]
  },
  {
   "cell_type": "code",
   "execution_count": 22,
   "metadata": {},
   "outputs": [
    {
     "name": "stdout",
     "output_type": "stream",
     "text": [
      "Number of observations: 220\n"
     ]
    }
   ],
   "source": [
    "# Calculate the number of observations meeting the specified conditions\n",
    "num_observations = df[(df['barcelona'] == 1) & (df['Top_star'] == 1) & (df['event'] == 1)].shape[0]\n",
    "\n",
    "# Display the result\n",
    "print(\"Number of observations:\", num_observations)"
   ]
  },
  {
   "cell_type": "code",
   "execution_count": 23,
   "metadata": {},
   "outputs": [
    {
     "name": "stdout",
     "output_type": "stream",
     "text": [
      "                            OLS Regression Results                            \n",
      "==============================================================================\n",
      "Dep. Variable:                  Price   R-squared:                       0.256\n",
      "Model:                            OLS   Adj. R-squared:                  0.254\n",
      "Method:                 Least Squares   F-statistic:                     133.4\n",
      "Date:                Wed, 31 Jan 2024   Prob (F-statistic):           4.69e-98\n",
      "Time:                        09:05:22   Log-Likelihood:                -12275.\n",
      "No. Observations:                1559   AIC:                         2.456e+04\n",
      "Df Residuals:                    1554   BIC:                         2.459e+04\n",
      "Df Model:                           4                                         \n",
      "Covariance Type:            nonrobust                                         \n",
      "====================================================================================\n",
      "                       coef    std err          t      P>|t|      [0.025      0.975]\n",
      "------------------------------------------------------------------------------------\n",
      "const              536.2118     38.254     14.017      0.000     461.176     611.247\n",
      "barcelona          315.7335     45.237      6.980      0.000     227.002     404.465\n",
      "event              -37.2219     48.155     -0.773      0.440    -131.678      57.234\n",
      "Top_star           141.0771     32.546      4.335      0.000      77.238     204.916\n",
      "interaction_term   593.0702     65.178      9.099      0.000     465.224     720.916\n",
      "==============================================================================\n",
      "Omnibus:                     1995.954   Durbin-Watson:                   1.256\n",
      "Prob(Omnibus):                  0.000   Jarque-Bera (JB):           387037.366\n",
      "Skew:                           6.771   Prob(JB):                         0.00\n",
      "Kurtosis:                      78.992   Cond. No.                         7.71\n",
      "==============================================================================\n",
      "\n",
      "Notes:\n",
      "[1] Standard Errors assume that the covariance matrix of the errors is correctly specified.\n"
     ]
    }
   ],
   "source": [
    "# Adding the interaction term\n",
    "df['interaction_term'] = df['barcelona'] * df['event']\n",
    "\n",
    "# Independent variables\n",
    "X = df[['barcelona', 'event', 'Top_star', 'interaction_term']]\n",
    "\n",
    "# Dependent variable\n",
    "y = df['Price']\n",
    "\n",
    "# Adding a constant term to the independent variables\n",
    "X = sm.add_constant(X)\n",
    "\n",
    "# Fit the regression model\n",
    "model = sm.OLS(y, X).fit()\n",
    "\n",
    "# Print out the regression results\n",
    "print(model.summary())"
   ]
  }
 ],
 "metadata": {
  "kernelspec": {
   "display_name": "basic_env",
   "language": "python",
   "name": "python3"
  },
  "language_info": {
   "codemirror_mode": {
    "name": "ipython",
    "version": 3
   },
   "file_extension": ".py",
   "mimetype": "text/x-python",
   "name": "python",
   "nbconvert_exporter": "python",
   "pygments_lexer": "ipython3",
   "version": "3.9.0"
  }
 },
 "nbformat": 4,
 "nbformat_minor": 2
}
