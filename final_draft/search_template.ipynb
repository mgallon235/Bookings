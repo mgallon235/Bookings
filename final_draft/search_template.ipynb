{
 "cells": [
  {
   "cell_type": "code",
   "execution_count": 1,
   "id": "379b8b32-e77e-4e30-bc6e-98c43d4b315d",
   "metadata": {},
   "outputs": [],
   "source": [
    "import json\n",
    "import pandas as pd\n",
    "from selenium.webdriver.common.by import By\n",
    "from selenium.common.exceptions import NoSuchElementException, ElementClickInterceptedException, StaleElementReferenceException\n",
    "from selenium import webdriver\n",
    "import os\n",
    "from bs4 import BeautifulSoup\n",
    "import time\n",
    "from selenium import webdriver\n",
    "from selenium.webdriver.firefox.service import Service\n",
    "from selenium.webdriver.firefox.options import Options\n",
    "import requests\n",
    "from datetime import datetime, timedelta\n",
    "import classes_func\n",
    "from classes_func import *\n",
    "\n",
    "from selenium import webdriver\n",
    "from selenium.webdriver.common.by import By\n",
    "from selenium.webdriver.support.ui import WebDriverWait\n",
    "from selenium.webdriver.support import expected_conditions as EC"
   ]
  },
  {
   "cell_type": "code",
   "execution_count": 2,
   "id": "0c372125-8fa3-4395-b5f5-41569dca1585",
   "metadata": {},
   "outputs": [],
   "source": [
    "#Creating a search instance with Search('City',start_day,end_day)\n",
    "Barcelona = Search('Barcelona','2024-02-09','2024-02-13')"
   ]
  },
  {
   "cell_type": "code",
   "execution_count": 3,
   "id": "b0f0a70c-e0d7-4c62-bf0d-efafbf28a525",
   "metadata": {},
   "outputs": [],
   "source": [
    "#Remove Cookies\n",
    "#Find destination button\n",
    "Barcelona.browser.find_element(by='xpath',value= '//button[@id=\"onetrust-reject-all-handler\"]').click()"
   ]
  },
  {
   "cell_type": "code",
   "execution_count": 4,
   "id": "d2ef9070-ea30-4566-a4b9-eebd9658c800",
   "metadata": {},
   "outputs": [],
   "source": [
    "#Remove Google Sign in\n",
    "# Define your wait timeout (adjust as needed)\n",
    "wait_timeout = 10\n",
    "wait = WebDriverWait(Barcelona.browser, wait_timeout)\n",
    "\n",
    "try:\n",
    "    # Switch to the iframe by index (if needed, adjust the index)\n",
    "    Barcelona.browser.switch_to.frame(0)  # You may need to adjust the index based on your HTML structure\n",
    "\n",
    "    # Now you can interact with elements within the iframe\n",
    "    # Wait for the \"Not Now\" button to be clickable and click it\n",
    "    not_now_button = wait.until(EC.element_to_be_clickable((By.XPATH, \"//div[@class='TvD9Pc-Bz112c ZYIfFd-aGxpHf-FnSee' and @aria-label='Cerrar']\")))\n",
    "    not_now_button.click()\n",
    "\n",
    "except Exception as e:\n",
    "    print(f\"An error occurred while handling the Google Sign-In pop-up: {e}\")\n",
    "\n",
    "finally:\n",
    "    # Switch back to the default content\n",
    "    Barcelona.browser.switch_to.default_content()\n"
   ]
  },
  {
   "cell_type": "code",
   "execution_count": 5,
   "id": "c5031f1a-e487-44f0-b7ee-9e6706b4322f",
   "metadata": {},
   "outputs": [],
   "source": [
    "#Inputing city\n",
    "Barcelona.input_city()"
   ]
  },
  {
   "cell_type": "code",
   "execution_count": 6,
   "id": "93eb5d97-6f96-491c-890b-25e1ec843a70",
   "metadata": {},
   "outputs": [],
   "source": [
    "Barcelona.open_date_box()"
   ]
  },
  {
   "cell_type": "code",
   "execution_count": 7,
   "id": "2c142ea3-60c4-4f6e-ac6e-19526b809384",
   "metadata": {},
   "outputs": [],
   "source": [
    "#Select Date_start\n",
    "Barcelona.date_selector(Barcelona.start_day)"
   ]
  },
  {
   "cell_type": "code",
   "execution_count": 8,
   "id": "aea0a760-667b-4c29-8ed4-ce6387b9bfaf",
   "metadata": {},
   "outputs": [],
   "source": [
    "#Select Date_end\n",
    "Barcelona.date_selector(Barcelona.end_day)"
   ]
  },
  {
   "cell_type": "code",
   "execution_count": 9,
   "id": "e056f801-2c34-4315-9dd6-3cc51e84add4",
   "metadata": {},
   "outputs": [],
   "source": [
    "#Search for Results\n",
    "Barcelona.search_results()"
   ]
  },
  {
   "cell_type": "code",
   "execution_count": 10,
   "id": "8240bcb2-cadd-4758-bd43-41ab43fe3464",
   "metadata": {},
   "outputs": [
    {
     "name": "stdout",
     "output_type": "stream",
     "text": [
      "Message: Element <div class=\"efdb2b543b e4b7a69a57\"> is not clickable at point (779,247) because another element <div class=\"f7c2c6294c\"> obscures it\n",
      "Stacktrace:\n",
      "RemoteError@chrome://remote/content/shared/RemoteError.sys.mjs:8:8\n",
      "WebDriverError@chrome://remote/content/shared/webdriver/Errors.sys.mjs:189:5\n",
      "ElementClickInterceptedError@chrome://remote/content/shared/webdriver/Errors.sys.mjs:333:5\n",
      "webdriverClickElement@chrome://remote/content/marionette/interaction.sys.mjs:176:11\n",
      "interaction.clickElement@chrome://remote/content/marionette/interaction.sys.mjs:135:11\n",
      "clickElement@chrome://remote/content/marionette/actors/MarionetteCommandsChild.sys.mjs:204:29\n",
      "receiveMessage@chrome://remote/content/marionette/actors/MarionetteCommandsChild.sys.mjs:84:31\n",
      "\n"
     ]
    }
   ],
   "source": [
    "time.sleep(5)\n",
    "# Removing the Genius pop-up only requires a clicking outside the pop-up\n",
    "obscured = check_obscures(Barcelona.browser,'//div[@class=\"efdb2b543b e4b7a69a57\"]',\"xpath\")\n",
    "try:\n",
    "    if not obscured:\n",
    "        Barcelona.browser.find_element(by='xpath',value= '//div[@class = \"abcc616ec7 cc1b961f14 c180176d40 f11eccb5e8 ff74db973c\"]//button[@class=\"a83ed08757 c21c56c305 f38b6daa18 d691166b09 ab98298258 deab83296e f4552b6561\"]').click()\n",
    "    else:\n",
    "        print('no element blocking the path')\n",
    "except Exception as e:\n",
    "    print(f\"An error occurred: {e}\")\n",
    "#html.b_firefox.b_firefox_121.supports_inline-block.supports_flexbox_unprefixed.supports_fontface.supports_hyphens.hasJS body#b2searchresultsPage.bookings2.b2.searchresults.es.lang_is_ltr.header_reshuffle.no_bg_img.nobg.user_center.app_user_center.sb_gradient_border.b-sprite-3.ds-traveller-header.lx_cwv_font_swap.bigblue_std_sm.bigblue_std_lg.system-font.iq-x-bar.iq-x-bar-new div.b9720ed41e.cdf0a9297c div.eb33ef7c47 div.f0c216ee26.c676dd76fe.b5018b639f div.c0528ecc22 div.dd5dccd82f div.ffd93a9ecb.dc19f70f85.eb67815534 div.abcc616ec7.cc1b961f14.c180176d40.f11eccb5e8.ff74db973c button.a83ed08757.c21c56c305.f38b6daa18.d691166b09.ab98298258.deab83296e.f4552b6561"
   ]
  },
  {
   "cell_type": "code",
   "execution_count": 11,
   "id": "0b18b657-4c25-4bb5-b8d0-a2f4655f138a",
   "metadata": {},
   "outputs": [
    {
     "data": {
      "text/plain": [
       "31"
      ]
     },
     "execution_count": 11,
     "metadata": {},
     "output_type": "execute_result"
    }
   ],
   "source": [
    "#Total number of Result pages\n",
    "pages = Barcelona.result_pages()\n",
    "pages"
   ]
  },
  {
   "cell_type": "code",
   "execution_count": 12,
   "id": "521cd3f5-dab6-4c8f-bbb8-027214ca6035",
   "metadata": {
    "scrolled": true
   },
   "outputs": [
    {
     "name": "stdout",
     "output_type": "stream",
     "text": [
      "page 1\n",
      "page 2\n",
      "page 3\n",
      "page 4\n",
      "page 5\n",
      "page 6\n",
      "page 7\n",
      "page 8\n",
      "page 9\n",
      "page 10\n",
      "page 11\n",
      "page 12\n",
      "page 13\n",
      "page 14\n",
      "page 15\n",
      "page 16\n",
      "page 17\n",
      "page 18\n",
      "page 19\n",
      "page 20\n",
      "page 21\n",
      "page 22\n",
      "page 23\n",
      "page 24\n",
      "page 25\n",
      "page 26\n",
      "page 27\n",
      "page 28\n",
      "page 29\n",
      "page 30\n"
     ]
    }
   ],
   "source": [
    "#Barcelona.scrape_results(pages)\n",
    "# Also if it's going to slow, adjust the waiting times in the class_function\n",
    "Barcelona.scrape_results(pages)#Add the number of pages you'll like to scrape"
   ]
  },
  {
   "cell_type": "code",
   "execution_count": 13,
   "id": "21e897e5-c3ec-4c00-9c82-19c1421d8f0f",
   "metadata": {},
   "outputs": [
    {
     "data": {
      "text/plain": [
       "(603, 8)"
      ]
     },
     "execution_count": 13,
     "metadata": {},
     "output_type": "execute_result"
    }
   ],
   "source": [
    "Barcelona.df.shape"
   ]
  },
  {
   "cell_type": "code",
   "execution_count": 14,
   "id": "7e043c66-d2e8-4014-8bba-9d95bee6b1e0",
   "metadata": {},
   "outputs": [
    {
     "name": "stderr",
     "output_type": "stream",
     "text": [
      "Processing Links: 100%|████████████████████████████████████████████████████████████████████████████████████████████| 603/603 [05:18<00:00,  1.89it/s]\n"
     ]
    }
   ],
   "source": [
    "import concurrent.futures\n",
    "from tqdm import tqdm\n",
    "\n",
    "descriptions = []\n",
    "linkey = Barcelona.df['Link']\n",
    "\n",
    "def scrape_description(link):\n",
    "    URL = f'{link}'\n",
    "    headers = {'User-Agent': 'Mozilla/5.0 (Macintosh; Intel Mac OS X 10.15; rv:121.0) Gecko/20100101 Firefox/121.0'}\n",
    "    response = requests.get(URL, headers=headers)\n",
    "    soup = BeautifulSoup(response.text, 'html.parser')\n",
    "    \n",
    "    # Getting Data\n",
    "    div2 = soup.find('div', {'id': 'hp_hotel_name'})\n",
    "    div = soup.find('div', {'id': 'property_description_content'})\n",
    "    \n",
    "    # Find all p elements with a specific class within the div\n",
    "    #specific_class_h_elements = div2.find_all('h2', class_='d2fee87262 pp-header__title')\n",
    "    specific_class_p_elements = div.find_all('p', class_='a53cbfa6de b3efd73f69')\n",
    "    if div2 is not None:\n",
    "        # Find all h2 elements with a specific class within div2\n",
    "        specific_class_h_elements = div2.find_all('h2', class_='d2fee87262 pp-header__title')\n",
    "    else:\n",
    "        specific_class_h_elements = []\n",
    "    \n",
    "    descriptions = []\n",
    "    for h, p in zip(specific_class_h_elements, specific_class_p_elements):\n",
    "        descriptions.append((h.get_text(strip=True), p.get_text(strip=True)))\n",
    "    \n",
    "    return descriptions\n",
    "\n",
    "threads = os.cpu_count()\n",
    "with concurrent.futures.ThreadPoolExecutor(max_workers=threads-2) as executor:\n",
    "    results = list(tqdm(executor.map(scrape_description, linkey), total=len(linkey), desc=\"Processing Links\"))\n",
    "\n",
    "# Flatten the results list\n",
    "description_result = [item for sublist in results for item in sublist]\n",
    "description_df = pd.DataFrame(description_result, columns=['Hotels', 'Descriptions'])\n"
   ]
  },
  {
   "cell_type": "code",
   "execution_count": 15,
   "id": "60cff4d1-243e-4496-b8e1-8f4332592ffc",
   "metadata": {},
   "outputs": [
    {
     "data": {
      "text/plain": [
       "(603, 2)"
      ]
     },
     "execution_count": 15,
     "metadata": {},
     "output_type": "execute_result"
    }
   ],
   "source": [
    "description_df.shape"
   ]
  },
  {
   "cell_type": "code",
   "execution_count": 16,
   "id": "1b7f8934-281f-46d1-b16e-1a53d5f731b0",
   "metadata": {},
   "outputs": [],
   "source": [
    "# Apply left join between main df and desscriptions\n",
    "Barcelona.df = pd.merge(Barcelona.df, description_df, how='left', on='Hotels')"
   ]
  },
  {
   "cell_type": "code",
   "execution_count": 20,
   "id": "bca2747c-1bba-4053-8948-1a4f95684d4e",
   "metadata": {},
   "outputs": [
    {
     "data": {
      "text/html": [
       "<div>\n",
       "<style scoped>\n",
       "    .dataframe tbody tr th:only-of-type {\n",
       "        vertical-align: middle;\n",
       "    }\n",
       "\n",
       "    .dataframe tbody tr th {\n",
       "        vertical-align: top;\n",
       "    }\n",
       "\n",
       "    .dataframe thead th {\n",
       "        text-align: right;\n",
       "    }\n",
       "</style>\n",
       "<table border=\"1\" class=\"dataframe\">\n",
       "  <thead>\n",
       "    <tr style=\"text-align: right;\">\n",
       "      <th></th>\n",
       "      <th>Hotels</th>\n",
       "      <th>Distance</th>\n",
       "      <th>District</th>\n",
       "      <th>Price</th>\n",
       "      <th>Rating</th>\n",
       "      <th>Stars</th>\n",
       "      <th>Comments</th>\n",
       "      <th>Link</th>\n",
       "      <th>Descriptions</th>\n",
       "    </tr>\n",
       "  </thead>\n",
       "  <tbody>\n",
       "    <tr>\n",
       "      <th>0</th>\n",
       "      <td>Feelathome Poblenou Beach Apartments</td>\n",
       "      <td>a 3,4 km del centro</td>\n",
       "      <td>Sant Martí, Barcelona</td>\n",
       "      <td>€ 628</td>\n",
       "      <td>8,3</td>\n",
       "      <td>4 de 5</td>\n",
       "      <td>881 comentarios</td>\n",
       "      <td>https://www.booking.com/hotel/es/feelathome-po...</td>\n",
       "      <td>Estos apartamentos son modernos y se encuentra...</td>\n",
       "    </tr>\n",
       "    <tr>\n",
       "      <th>2</th>\n",
       "      <td>Melia Barcelona Sky 4* Sup</td>\n",
       "      <td>a 3,3 km del centro</td>\n",
       "      <td>Sant Martí, Barcelona</td>\n",
       "      <td>€ 130.893.890</td>\n",
       "      <td>8,2</td>\n",
       "      <td>4 de 5</td>\n",
       "      <td>1.294 comentarios</td>\n",
       "      <td>https://www.booking.com/hotel/es/melia-barcelo...</td>\n",
       "      <td>Este hotel de diseño ocupa uno de los edificio...</td>\n",
       "    </tr>\n",
       "    <tr>\n",
       "      <th>4</th>\n",
       "      <td>Wilson Boutique Hotel</td>\n",
       "      <td>a 1,8 km del centro</td>\n",
       "      <td>Sarrià-Sant Gervasi, Barcelona</td>\n",
       "      <td>€ 417</td>\n",
       "      <td>8,5</td>\n",
       "      <td>4 de 5</td>\n",
       "      <td>2.127 comentarios</td>\n",
       "      <td>https://www.booking.com/hotel/es/wilson.es.htm...</td>\n",
       "      <td>El Wilson Boutique Hotel está situado en la av...</td>\n",
       "    </tr>\n",
       "    <tr>\n",
       "      <th>5</th>\n",
       "      <td>Hotel Granados 83, a Member of Design Hotels</td>\n",
       "      <td>a 1,2 km del centro</td>\n",
       "      <td>Eixample, Barcelona</td>\n",
       "      <td>€ 592</td>\n",
       "      <td>8,5</td>\n",
       "      <td>4 de 5</td>\n",
       "      <td>1.575 comentarios</td>\n",
       "      <td>https://www.booking.com/hotel/es/granados-83.e...</td>\n",
       "      <td>El Granados 83, situado a 250 metros de la est...</td>\n",
       "    </tr>\n",
       "    <tr>\n",
       "      <th>6</th>\n",
       "      <td>Hotel Paxton Barcelona</td>\n",
       "      <td>a 2,9 km del centro</td>\n",
       "      <td>Sant Martí, Barcelona</td>\n",
       "      <td>€ 612</td>\n",
       "      <td>8,7</td>\n",
       "      <td>4 de 5</td>\n",
       "      <td>5.235 comentarios</td>\n",
       "      <td>https://www.booking.com/hotel/es/paxton-barcel...</td>\n",
       "      <td>Hotel Paxton Barcelona se encuentra en Barcelo...</td>\n",
       "    </tr>\n",
       "    <tr>\n",
       "      <th>...</th>\n",
       "      <td>...</td>\n",
       "      <td>...</td>\n",
       "      <td>...</td>\n",
       "      <td>...</td>\n",
       "      <td>...</td>\n",
       "      <td>...</td>\n",
       "      <td>...</td>\n",
       "      <td>...</td>\n",
       "      <td>...</td>\n",
       "    </tr>\n",
       "    <tr>\n",
       "      <th>602</th>\n",
       "      <td>Motor Yacht Dandy</td>\n",
       "      <td>a 5,7 km del centro</td>\n",
       "      <td>Gracia, Barcelona</td>\n",
       "      <td>€ 4.133</td>\n",
       "      <td>10</td>\n",
       "      <td>3 de 5</td>\n",
       "      <td>3 comentarios</td>\n",
       "      <td>https://www.booking.com/hotel/es/beyond-the-se...</td>\n",
       "      <td>El Motor Yacht Dandy está amarrado en el Port ...</td>\n",
       "    </tr>\n",
       "    <tr>\n",
       "      <th>603</th>\n",
       "      <td>Casa ARENYS</td>\n",
       "      <td>a 38,4 km del centro</td>\n",
       "      <td>Eixample, Barcelona</td>\n",
       "      <td>€ 1.924</td>\n",
       "      <td>7,3</td>\n",
       "      <td>4 de 5</td>\n",
       "      <td>NaN</td>\n",
       "      <td>https://www.booking.com/hotel/es/casa-arenys.e...</td>\n",
       "      <td>Casa ARENYS está en Barcelona y ofrece alojami...</td>\n",
       "    </tr>\n",
       "    <tr>\n",
       "      <th>604</th>\n",
       "      <td>Can Caldeta - Naturaleza y privacidad en el Mo...</td>\n",
       "      <td>a 47,7 km del centro</td>\n",
       "      <td>Sants-Montjuïc, Barcelona</td>\n",
       "      <td>€ 1.248</td>\n",
       "      <td>7,1</td>\n",
       "      <td>4 de 5</td>\n",
       "      <td>3 comentarios</td>\n",
       "      <td>https://www.booking.com/hotel/es/naturaleza-y-...</td>\n",
       "      <td>Can Caldeta - Naturaleza y privacidad en el Mo...</td>\n",
       "    </tr>\n",
       "    <tr>\n",
       "      <th>605</th>\n",
       "      <td>Casa vacacional en las montañas de BCN</td>\n",
       "      <td>a 17,5 km del centro</td>\n",
       "      <td>Eixample, Barcelona</td>\n",
       "      <td>€ 1.254</td>\n",
       "      <td>8,0</td>\n",
       "      <td>1 de 5</td>\n",
       "      <td>7 comentarios</td>\n",
       "      <td>https://www.booking.com/hotel/es/casa-vacacion...</td>\n",
       "      <td>Casa vacacional en las montañas de BCN, que ti...</td>\n",
       "    </tr>\n",
       "    <tr>\n",
       "      <th>606</th>\n",
       "      <td>Contempory exclusive Sitges area</td>\n",
       "      <td>a 35,7 km del centro</td>\n",
       "      <td>Eixample, Barcelona</td>\n",
       "      <td>€ 1.744</td>\n",
       "      <td>10</td>\n",
       "      <td>4 de 5</td>\n",
       "      <td>6 comentarios</td>\n",
       "      <td>https://www.booking.com/hotel/es/contempory-ex...</td>\n",
       "      <td>Contempory exclusive Sitges area, que cuenta c...</td>\n",
       "    </tr>\n",
       "  </tbody>\n",
       "</table>\n",
       "<p>603 rows × 9 columns</p>\n",
       "</div>"
      ],
      "text/plain": [
       "                                                Hotels              Distance  \\\n",
       "0                 Feelathome Poblenou Beach Apartments   a 3,4 km del centro   \n",
       "2                           Melia Barcelona Sky 4* Sup   a 3,3 km del centro   \n",
       "4                                Wilson Boutique Hotel   a 1,8 km del centro   \n",
       "5         Hotel Granados 83, a Member of Design Hotels   a 1,2 km del centro   \n",
       "6                               Hotel Paxton Barcelona   a 2,9 km del centro   \n",
       "..                                                 ...                   ...   \n",
       "602                                  Motor Yacht Dandy   a 5,7 km del centro   \n",
       "603                                        Casa ARENYS  a 38,4 km del centro   \n",
       "604  Can Caldeta - Naturaleza y privacidad en el Mo...  a 47,7 km del centro   \n",
       "605             Casa vacacional en las montañas de BCN  a 17,5 km del centro   \n",
       "606                   Contempory exclusive Sitges area  a 35,7 km del centro   \n",
       "\n",
       "                           District          Price Rating   Stars  \\\n",
       "0             Sant Martí, Barcelona          € 628    8,3  4 de 5   \n",
       "2             Sant Martí, Barcelona  € 130.893.890    8,2  4 de 5   \n",
       "4    Sarrià-Sant Gervasi, Barcelona          € 417    8,5  4 de 5   \n",
       "5               Eixample, Barcelona          € 592    8,5  4 de 5   \n",
       "6             Sant Martí, Barcelona          € 612    8,7  4 de 5   \n",
       "..                              ...            ...    ...     ...   \n",
       "602               Gracia, Barcelona        € 4.133     10  3 de 5   \n",
       "603             Eixample, Barcelona        € 1.924    7,3  4 de 5   \n",
       "604       Sants-Montjuïc, Barcelona        € 1.248    7,1  4 de 5   \n",
       "605             Eixample, Barcelona        € 1.254    8,0  1 de 5   \n",
       "606             Eixample, Barcelona        € 1.744     10  4 de 5   \n",
       "\n",
       "              Comments                                               Link  \\\n",
       "0      881 comentarios  https://www.booking.com/hotel/es/feelathome-po...   \n",
       "2    1.294 comentarios  https://www.booking.com/hotel/es/melia-barcelo...   \n",
       "4    2.127 comentarios  https://www.booking.com/hotel/es/wilson.es.htm...   \n",
       "5    1.575 comentarios  https://www.booking.com/hotel/es/granados-83.e...   \n",
       "6    5.235 comentarios  https://www.booking.com/hotel/es/paxton-barcel...   \n",
       "..                 ...                                                ...   \n",
       "602      3 comentarios  https://www.booking.com/hotel/es/beyond-the-se...   \n",
       "603                NaN  https://www.booking.com/hotel/es/casa-arenys.e...   \n",
       "604      3 comentarios  https://www.booking.com/hotel/es/naturaleza-y-...   \n",
       "605      7 comentarios  https://www.booking.com/hotel/es/casa-vacacion...   \n",
       "606      6 comentarios  https://www.booking.com/hotel/es/contempory-ex...   \n",
       "\n",
       "                                          Descriptions  \n",
       "0    Estos apartamentos son modernos y se encuentra...  \n",
       "2    Este hotel de diseño ocupa uno de los edificio...  \n",
       "4    El Wilson Boutique Hotel está situado en la av...  \n",
       "5    El Granados 83, situado a 250 metros de la est...  \n",
       "6    Hotel Paxton Barcelona se encuentra en Barcelo...  \n",
       "..                                                 ...  \n",
       "602  El Motor Yacht Dandy está amarrado en el Port ...  \n",
       "603  Casa ARENYS está en Barcelona y ofrece alojami...  \n",
       "604  Can Caldeta - Naturaleza y privacidad en el Mo...  \n",
       "605  Casa vacacional en las montañas de BCN, que ti...  \n",
       "606  Contempory exclusive Sitges area, que cuenta c...  \n",
       "\n",
       "[603 rows x 9 columns]"
      ]
     },
     "execution_count": 20,
     "metadata": {},
     "output_type": "execute_result"
    }
   ],
   "source": [
    "Barcelona.df = Barcelona.df.drop_duplicates()\n",
    "Barcelona.df"
   ]
  },
  {
   "cell_type": "code",
   "execution_count": 21,
   "id": "0d2fbf7a-1215-4045-a245-0198e0e08573",
   "metadata": {},
   "outputs": [],
   "source": [
    "#define downloads path\n",
    "downloads_path = \"./downloads/\"\n",
    "barcelona_file_set1 = Barcelona.df\n",
    "\n",
    "barcelona_file_set1.to_csv(os.path.join(downloads_path, \"barcelona_file_set1.csv\"), index=False)"
   ]
  },
  {
   "cell_type": "code",
   "execution_count": 19,
   "id": "7c55a465-d4f3-43e1-809a-8d82b47f7912",
   "metadata": {},
   "outputs": [],
   "source": [
    "Barcelona.browser.quit()"
   ]
  }
 ],
 "metadata": {
  "kernelspec": {
   "display_name": "Python 3 (ipykernel)",
   "language": "python",
   "name": "python3"
  },
  "language_info": {
   "codemirror_mode": {
    "name": "ipython",
    "version": 3
   },
   "file_extension": ".py",
   "mimetype": "text/x-python",
   "name": "python",
   "nbconvert_exporter": "python",
   "pygments_lexer": "ipython3",
   "version": "3.12.1"
  }
 },
 "nbformat": 4,
 "nbformat_minor": 5
}
