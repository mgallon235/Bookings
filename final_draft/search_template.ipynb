{
 "cells": [
  {
   "cell_type": "code",
   "execution_count": 1,
   "id": "379b8b32-e77e-4e30-bc6e-98c43d4b315d",
   "metadata": {},
   "outputs": [],
   "source": [
    "import json\n",
    "import pandas as pd\n",
    "from selenium.webdriver.common.by import By\n",
    "from selenium.common.exceptions import NoSuchElementException, ElementClickInterceptedException, StaleElementReferenceException\n",
    "from selenium import webdriver\n",
    "import os\n",
    "from bs4 import BeautifulSoup\n",
    "import time\n",
    "from selenium import webdriver\n",
    "from selenium.webdriver.firefox.service import Service\n",
    "from selenium.webdriver.firefox.options import Options\n",
    "import requests\n",
    "from datetime import datetime, timedelta\n",
    "import classes_func\n",
    "from classes_func import *\n",
    "\n",
    "from selenium import webdriver\n",
    "from selenium.webdriver.common.by import By\n",
    "from selenium.webdriver.support.ui import WebDriverWait\n",
    "from selenium.webdriver.support import expected_conditions as EC"
   ]
  },
  {
   "cell_type": "code",
   "execution_count": 2,
   "id": "0c372125-8fa3-4395-b5f5-41569dca1585",
   "metadata": {},
   "outputs": [],
   "source": [
    "#Creating a search instance with Search('City',start_day,end_day)\n",
    "Barcelona = Search('Barcelona','2024-02-09','2024-02-13')"
   ]
  },
  {
   "cell_type": "code",
   "execution_count": 3,
   "id": "b0f0a70c-e0d7-4c62-bf0d-efafbf28a525",
   "metadata": {},
   "outputs": [],
   "source": [
    "#Remove Cookies\n",
    "#Find destination button\n",
    "Barcelona.browser.find_element(by='xpath',value= '//button[@id=\"onetrust-reject-all-handler\"]').click()"
   ]
  },
  {
   "cell_type": "code",
   "execution_count": 4,
   "id": "d2ef9070-ea30-4566-a4b9-eebd9658c800",
   "metadata": {},
   "outputs": [],
   "source": [
    "#Remove Google Sign in\n",
    "# Define your wait timeout (adjust as needed)\n",
    "wait_timeout = 10\n",
    "wait = WebDriverWait(Barcelona.browser, wait_timeout)\n",
    "\n",
    "try:\n",
    "    # Switch to the iframe by index (if needed, adjust the index)\n",
    "    Barcelona.browser.switch_to.frame(0)  # You may need to adjust the index based on your HTML structure\n",
    "\n",
    "    # Now you can interact with elements within the iframe\n",
    "    # Wait for the \"Not Now\" button to be clickable and click it\n",
    "    not_now_button = wait.until(EC.element_to_be_clickable((By.XPATH, \"//div[@class='TvD9Pc-Bz112c ZYIfFd-aGxpHf-FnSee' and @aria-label='Cerrar']\")))\n",
    "    not_now_button.click()\n",
    "\n",
    "except Exception as e:\n",
    "    print(f\"An error occurred while handling the Google Sign-In pop-up: {e}\")\n",
    "\n",
    "finally:\n",
    "    # Switch back to the default content\n",
    "    Barcelona.browser.switch_to.default_content()\n"
   ]
  },
  {
   "cell_type": "code",
   "execution_count": 5,
   "id": "c5031f1a-e487-44f0-b7ee-9e6706b4322f",
   "metadata": {},
   "outputs": [],
   "source": [
    "#Inputing city\n",
    "Barcelona.input_city()"
   ]
  },
  {
   "cell_type": "code",
   "execution_count": 6,
   "id": "93eb5d97-6f96-491c-890b-25e1ec843a70",
   "metadata": {},
   "outputs": [],
   "source": [
    "Barcelona.open_date_box()"
   ]
  },
  {
   "cell_type": "code",
   "execution_count": 7,
   "id": "2c142ea3-60c4-4f6e-ac6e-19526b809384",
   "metadata": {},
   "outputs": [],
   "source": [
    "#Select Date_start\n",
    "Barcelona.date_selector(Barcelona.start_day)"
   ]
  },
  {
   "cell_type": "code",
   "execution_count": 8,
   "id": "aea0a760-667b-4c29-8ed4-ce6387b9bfaf",
   "metadata": {},
   "outputs": [],
   "source": [
    "#Select Date_end\n",
    "Barcelona.date_selector(Barcelona.end_day)"
   ]
  },
  {
   "cell_type": "code",
   "execution_count": 9,
   "id": "e056f801-2c34-4315-9dd6-3cc51e84add4",
   "metadata": {},
   "outputs": [],
   "source": [
    "#Search for Results\n",
    "Barcelona.search_results()"
   ]
  },
  {
   "cell_type": "code",
   "execution_count": 10,
   "id": "8240bcb2-cadd-4758-bd43-41ab43fe3464",
   "metadata": {},
   "outputs": [
    {
     "name": "stdout",
     "output_type": "stream",
     "text": [
      "Message: Element <div class=\"efdb2b543b e4b7a69a57\"> is not clickable at point (779,247) because another element <div class=\"f7c2c6294c\"> obscures it\n",
      "Stacktrace:\n",
      "RemoteError@chrome://remote/content/shared/RemoteError.sys.mjs:8:8\n",
      "WebDriverError@chrome://remote/content/shared/webdriver/Errors.sys.mjs:189:5\n",
      "ElementClickInterceptedError@chrome://remote/content/shared/webdriver/Errors.sys.mjs:333:5\n",
      "webdriverClickElement@chrome://remote/content/marionette/interaction.sys.mjs:176:11\n",
      "interaction.clickElement@chrome://remote/content/marionette/interaction.sys.mjs:135:11\n",
      "clickElement@chrome://remote/content/marionette/actors/MarionetteCommandsChild.sys.mjs:204:29\n",
      "receiveMessage@chrome://remote/content/marionette/actors/MarionetteCommandsChild.sys.mjs:84:31\n",
      "\n"
     ]
    }
   ],
   "source": [
    "time.sleep(5)\n",
    "# Removing the Genius pop-up only requires a clicking outside the pop-up\n",
    "obscured = check_obscures(Barcelona.browser,'//div[@class=\"efdb2b543b e4b7a69a57\"]',\"xpath\")\n",
    "try:\n",
    "    if not obscured:\n",
    "        Barcelona.browser.find_element(by='xpath',value= '//div[@class = \"abcc616ec7 cc1b961f14 c180176d40 f11eccb5e8 ff74db973c\"]//button[@class=\"a83ed08757 c21c56c305 f38b6daa18 d691166b09 ab98298258 deab83296e f4552b6561\"]').click()\n",
    "    else:\n",
    "        print('no element blocking the path')\n",
    "except Exception as e:\n",
    "    print(f\"An error occurred: {e}\")\n",
    "#html.b_firefox.b_firefox_121.supports_inline-block.supports_flexbox_unprefixed.supports_fontface.supports_hyphens.hasJS body#b2searchresultsPage.bookings2.b2.searchresults.es.lang_is_ltr.header_reshuffle.no_bg_img.nobg.user_center.app_user_center.sb_gradient_border.b-sprite-3.ds-traveller-header.lx_cwv_font_swap.bigblue_std_sm.bigblue_std_lg.system-font.iq-x-bar.iq-x-bar-new div.b9720ed41e.cdf0a9297c div.eb33ef7c47 div.f0c216ee26.c676dd76fe.b5018b639f div.c0528ecc22 div.dd5dccd82f div.ffd93a9ecb.dc19f70f85.eb67815534 div.abcc616ec7.cc1b961f14.c180176d40.f11eccb5e8.ff74db973c button.a83ed08757.c21c56c305.f38b6daa18.d691166b09.ab98298258.deab83296e.f4552b6561"
   ]
  },
  {
   "cell_type": "code",
   "execution_count": 11,
   "id": "0b18b657-4c25-4bb5-b8d0-a2f4655f138a",
   "metadata": {},
   "outputs": [
    {
     "data": {
      "text/plain": [
       "32"
      ]
     },
     "execution_count": 11,
     "metadata": {},
     "output_type": "execute_result"
    }
   ],
   "source": [
    "#Total number of Result pages\n",
    "pages = Barcelona.result_pages()\n",
    "pages"
   ]
  },
  {
   "cell_type": "code",
   "execution_count": 12,
   "id": "521cd3f5-dab6-4c8f-bbb8-027214ca6035",
   "metadata": {
    "scrolled": true
   },
   "outputs": [
    {
     "name": "stdout",
     "output_type": "stream",
     "text": [
      "page 1\n",
      "page 2\n",
      "page 3\n",
      "page 4\n",
      "page 5\n"
     ]
    }
   ],
   "source": [
    "#Barcelona.scrape_results(pages)\n",
    "# Also if it's going to slow, adjust the waiting times in the class_function\n",
    "Barcelona.scrape_results(5)#Add the number of pages you'll like to scrape"
   ]
  },
  {
   "cell_type": "code",
   "execution_count": 13,
   "id": "21e897e5-c3ec-4c00-9c82-19c1421d8f0f",
   "metadata": {},
   "outputs": [
    {
     "data": {
      "text/plain": [
       "(121, 8)"
      ]
     },
     "execution_count": 13,
     "metadata": {},
     "output_type": "execute_result"
    }
   ],
   "source": [
    "Barcelona.df.shape"
   ]
  },
  {
   "cell_type": "code",
   "execution_count": 14,
   "id": "0263f337-d069-462f-8111-889ba95c3eab",
   "metadata": {},
   "outputs": [
    {
     "name": "stderr",
     "output_type": "stream",
     "text": [
      "Processing Links:  40%|███████████████████████████████▏                                             | 49/121 [00:21<00:24,  2.93it/s]"
     ]
    },
    {
     "name": "stdout",
     "output_type": "stream",
     "text": [
      "Scraped 50 links\n"
     ]
    },
    {
     "name": "stderr",
     "output_type": "stream",
     "text": [
      "Processing Links:  83%|██████████████████████████████████████████████████████████████▊             | 100/121 [00:41<00:06,  3.20it/s]"
     ]
    },
    {
     "name": "stdout",
     "output_type": "stream",
     "text": [
      "Scraped 100 links\n"
     ]
    },
    {
     "name": "stderr",
     "output_type": "stream",
     "text": [
      "Processing Links: 100%|████████████████████████████████████████████████████████████████████████████| 121/121 [00:49<00:00,  2.46it/s]"
     ]
    },
    {
     "name": "stdout",
     "output_type": "stream",
     "text": [
      "Scraped 121 links\n"
     ]
    },
    {
     "name": "stderr",
     "output_type": "stream",
     "text": [
      "\n"
     ]
    }
   ],
   "source": [
    "Barcelona.scrape_descriptions()"
   ]
  },
  {
   "cell_type": "code",
   "execution_count": 15,
   "id": "60cff4d1-243e-4496-b8e1-8f4332592ffc",
   "metadata": {},
   "outputs": [
    {
     "data": {
      "text/html": [
       "<div>\n",
       "<style scoped>\n",
       "    .dataframe tbody tr th:only-of-type {\n",
       "        vertical-align: middle;\n",
       "    }\n",
       "\n",
       "    .dataframe tbody tr th {\n",
       "        vertical-align: top;\n",
       "    }\n",
       "\n",
       "    .dataframe thead th {\n",
       "        text-align: right;\n",
       "    }\n",
       "</style>\n",
       "<table border=\"1\" class=\"dataframe\">\n",
       "  <thead>\n",
       "    <tr style=\"text-align: right;\">\n",
       "      <th></th>\n",
       "      <th>Hotels</th>\n",
       "      <th>Distance</th>\n",
       "      <th>District</th>\n",
       "      <th>Price</th>\n",
       "      <th>Rating</th>\n",
       "      <th>Stars</th>\n",
       "      <th>Comments</th>\n",
       "      <th>Link</th>\n",
       "      <th>descriptions</th>\n",
       "    </tr>\n",
       "  </thead>\n",
       "  <tbody>\n",
       "    <tr>\n",
       "      <th>0</th>\n",
       "      <td>SANT ANTONI BREAK BCN, Sustanaible Tourism</td>\n",
       "      <td>a 0,9 km del centro</td>\n",
       "      <td>Eixample, Barcelona</td>\n",
       "      <td>€ 415</td>\n",
       "      <td>7,5</td>\n",
       "      <td>3 de 5</td>\n",
       "      <td>353 comentarios</td>\n",
       "      <td>https://www.booking.com/hotel/es/pension-sant-...</td>\n",
       "      <td>El Hotel Ronda Lesseps es un establecimiento t...</td>\n",
       "    </tr>\n",
       "    <tr>\n",
       "      <th>1</th>\n",
       "      <td>Sonder Casa Luz</td>\n",
       "      <td>a 450 m del centro</td>\n",
       "      <td>Eixample, Barcelona</td>\n",
       "      <td>€ 670</td>\n",
       "      <td>8,4</td>\n",
       "      <td>4 de 5</td>\n",
       "      <td>2.667 comentarios</td>\n",
       "      <td>https://www.booking.com/hotel/es/casa-luz-barc...</td>\n",
       "      <td>El Granados 83, situado a 250 metros de la est...</td>\n",
       "    </tr>\n",
       "    <tr>\n",
       "      <th>2</th>\n",
       "      <td>The Social Hub Barcelona Poblenou</td>\n",
       "      <td>a 3,8 km del centro</td>\n",
       "      <td>Sant Martí, Barcelona</td>\n",
       "      <td>€ 533</td>\n",
       "      <td>8,8</td>\n",
       "      <td>4 de 5</td>\n",
       "      <td>1.830 comentarios</td>\n",
       "      <td>https://www.booking.com/hotel/es/the-social-hu...</td>\n",
       "      <td>SANT ANTONI BREAK BCN, Sustanaible Tourism es ...</td>\n",
       "    </tr>\n",
       "    <tr>\n",
       "      <th>3</th>\n",
       "      <td>Hotel Granados 83, a Member of Design Hotels</td>\n",
       "      <td>a 1,2 km del centro</td>\n",
       "      <td>Eixample, Barcelona</td>\n",
       "      <td>€ 575</td>\n",
       "      <td>8,5</td>\n",
       "      <td>4 de 5</td>\n",
       "      <td>1.574 comentarios</td>\n",
       "      <td>https://www.booking.com/hotel/es/granados-83.e...</td>\n",
       "      <td>El Sonder Casa Luz se encuentra en Barcelona y...</td>\n",
       "    </tr>\n",
       "    <tr>\n",
       "      <th>4</th>\n",
       "      <td>Hotel Derby</td>\n",
       "      <td>a 2,4 km del centro</td>\n",
       "      <td>Les Corts, Barcelona</td>\n",
       "      <td>€ 426</td>\n",
       "      <td>8,3</td>\n",
       "      <td>4 de 5</td>\n",
       "      <td>2.168 comentarios</td>\n",
       "      <td>https://www.booking.com/hotel/es/derby.es.html...</td>\n",
       "      <td>The Social Hub Barcelona Poblenou está en Barc...</td>\n",
       "    </tr>\n",
       "  </tbody>\n",
       "</table>\n",
       "</div>"
      ],
      "text/plain": [
       "                                         Hotels             Distance  \\\n",
       "0    SANT ANTONI BREAK BCN, Sustanaible Tourism  a 0,9 km del centro   \n",
       "1                               Sonder Casa Luz   a 450 m del centro   \n",
       "2             The Social Hub Barcelona Poblenou  a 3,8 km del centro   \n",
       "3  Hotel Granados 83, a Member of Design Hotels  a 1,2 km del centro   \n",
       "4                                   Hotel Derby  a 2,4 km del centro   \n",
       "\n",
       "                District  Price Rating   Stars           Comments  \\\n",
       "0    Eixample, Barcelona  € 415    7,5  3 de 5    353 comentarios   \n",
       "1    Eixample, Barcelona  € 670    8,4  4 de 5  2.667 comentarios   \n",
       "2  Sant Martí, Barcelona  € 533    8,8  4 de 5  1.830 comentarios   \n",
       "3    Eixample, Barcelona  € 575    8,5  4 de 5  1.574 comentarios   \n",
       "4   Les Corts, Barcelona  € 426    8,3  4 de 5  2.168 comentarios   \n",
       "\n",
       "                                                Link  \\\n",
       "0  https://www.booking.com/hotel/es/pension-sant-...   \n",
       "1  https://www.booking.com/hotel/es/casa-luz-barc...   \n",
       "2  https://www.booking.com/hotel/es/the-social-hu...   \n",
       "3  https://www.booking.com/hotel/es/granados-83.e...   \n",
       "4  https://www.booking.com/hotel/es/derby.es.html...   \n",
       "\n",
       "                                        descriptions  \n",
       "0  El Hotel Ronda Lesseps es un establecimiento t...  \n",
       "1  El Granados 83, situado a 250 metros de la est...  \n",
       "2  SANT ANTONI BREAK BCN, Sustanaible Tourism es ...  \n",
       "3  El Sonder Casa Luz se encuentra en Barcelona y...  \n",
       "4  The Social Hub Barcelona Poblenou está en Barc...  "
      ]
     },
     "execution_count": 15,
     "metadata": {},
     "output_type": "execute_result"
    }
   ],
   "source": [
    "Barcelona.df.head()"
   ]
  },
  {
   "cell_type": "code",
   "execution_count": 16,
   "id": "0d2fbf7a-1215-4045-a245-0198e0e08573",
   "metadata": {},
   "outputs": [],
   "source": [
    "#define downloads path\n",
    "downloads_path = \"./downloads/\"\n",
    "barcelona_file_set1 = Barcelona.df\n",
    "\n",
    "barcelona_file_set1.to_csv(os.path.join(downloads_path, \"barcelona_file_set1.csv\"), index=False)"
   ]
  },
  {
   "cell_type": "code",
   "execution_count": 17,
   "id": "7c55a465-d4f3-43e1-809a-8d82b47f7912",
   "metadata": {},
   "outputs": [],
   "source": [
    "Barcelona.browser.quit()"
   ]
  }
 ],
 "metadata": {
  "kernelspec": {
   "display_name": "Python 3 (ipykernel)",
   "language": "python",
   "name": "python3"
  },
  "language_info": {
   "codemirror_mode": {
    "name": "ipython",
    "version": 3
   },
   "file_extension": ".py",
   "mimetype": "text/x-python",
   "name": "python",
   "nbconvert_exporter": "python",
   "pygments_lexer": "ipython3",
   "version": "3.12.1"
  }
 },
 "nbformat": 4,
 "nbformat_minor": 5
}
