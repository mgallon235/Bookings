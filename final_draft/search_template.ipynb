{
 "cells": [
  {
   "cell_type": "code",
   "execution_count": 1,
   "id": "379b8b32-e77e-4e30-bc6e-98c43d4b315d",
   "metadata": {},
   "outputs": [],
   "source": [
    "import json\n",
    "import pandas as pd\n",
    "from selenium.webdriver.common.by import By\n",
    "from selenium.common.exceptions import NoSuchElementException, ElementClickInterceptedException, StaleElementReferenceException\n",
    "from selenium import webdriver\n",
    "import os\n",
    "from bs4 import BeautifulSoup\n",
    "import time\n",
    "from selenium import webdriver\n",
    "from selenium.webdriver.firefox.service import Service\n",
    "from selenium.webdriver.firefox.options import Options\n",
    "import requests\n",
    "from datetime import datetime, timedelta\n",
    "import classes_func\n",
    "from classes_func import *\n",
    "\n",
    "from selenium import webdriver\n",
    "from selenium.webdriver.common.by import By\n",
    "from selenium.webdriver.support.ui import WebDriverWait\n",
    "from selenium.webdriver.support import expected_conditions as EC"
   ]
  },
  {
   "cell_type": "code",
   "execution_count": 2,
   "id": "0c372125-8fa3-4395-b5f5-41569dca1585",
   "metadata": {},
   "outputs": [],
   "source": [
    "#Creating a search instance with Search('City',start_day,end_day)\n",
    "Barcelona = Search('Barcelona','2024-05-29','2024-06-02')"
   ]
  },
  {
   "cell_type": "code",
   "execution_count": 3,
   "id": "c5031f1a-e487-44f0-b7ee-9e6706b4322f",
   "metadata": {},
   "outputs": [],
   "source": [
    "#Inputing city\n",
    "Barcelona.input_city()"
   ]
  },
  {
   "cell_type": "code",
   "execution_count": 4,
   "id": "93eb5d97-6f96-491c-890b-25e1ec843a70",
   "metadata": {},
   "outputs": [],
   "source": [
    "Barcelona.open_date_box()"
   ]
  },
  {
   "cell_type": "code",
   "execution_count": 5,
   "id": "2c142ea3-60c4-4f6e-ac6e-19526b809384",
   "metadata": {},
   "outputs": [],
   "source": [
    "#Select Date_start\n",
    "Barcelona.date_selector(Barcelona.start_day)"
   ]
  },
  {
   "cell_type": "code",
   "execution_count": 6,
   "id": "aea0a760-667b-4c29-8ed4-ce6387b9bfaf",
   "metadata": {},
   "outputs": [],
   "source": [
    "#Select Date_end\n",
    "Barcelona.date_selector(Barcelona.end_day)"
   ]
  },
  {
   "cell_type": "code",
   "execution_count": 7,
   "id": "e056f801-2c34-4315-9dd6-3cc51e84add4",
   "metadata": {},
   "outputs": [],
   "source": [
    "#Search for Results\n",
    "Barcelona.search_results()"
   ]
  },
  {
   "cell_type": "code",
   "execution_count": 9,
   "id": "0b18b657-4c25-4bb5-b8d0-a2f4655f138a",
   "metadata": {},
   "outputs": [
    {
     "data": {
      "text/plain": [
       "39"
      ]
     },
     "execution_count": 9,
     "metadata": {},
     "output_type": "execute_result"
    }
   ],
   "source": [
    "#Total number of Result pages\n",
    "pages = Barcelona.result_pages()\n",
    "pages"
   ]
  },
  {
   "cell_type": "code",
   "execution_count": 10,
   "id": "521cd3f5-dab6-4c8f-bbb8-027214ca6035",
   "metadata": {
    "scrolled": true
   },
   "outputs": [
    {
     "name": "stdout",
     "output_type": "stream",
     "text": [
      "page 1\n",
      "page 2\n",
      "page 3\n",
      "page 4\n",
      "page 5\n"
     ]
    }
   ],
   "source": [
    "#Barcelona.scrape_results(pages)\n",
    "# Also if it's going to slow, adjust the waiting times in the class_function\n",
    "Barcelona.scrape_results(5)#Add the number of pages you'll like to scrape"
   ]
  },
  {
   "cell_type": "code",
   "execution_count": 11,
   "id": "21e897e5-c3ec-4c00-9c82-19c1421d8f0f",
   "metadata": {},
   "outputs": [
    {
     "data": {
      "text/plain": [
       "(116, 8)"
      ]
     },
     "execution_count": 11,
     "metadata": {},
     "output_type": "execute_result"
    }
   ],
   "source": [
    "Barcelona.df.shape"
   ]
  },
  {
   "cell_type": "code",
   "execution_count": 12,
   "id": "0263f337-d069-462f-8111-889ba95c3eab",
   "metadata": {},
   "outputs": [
    {
     "name": "stderr",
     "output_type": "stream",
     "text": [
      "Processing Links:  40%|██████████████████████████████▌                                              | 46/116 [00:31<01:50,  1.58s/it]"
     ]
    },
    {
     "name": "stdout",
     "output_type": "stream",
     "text": [
      "Scraped 50 links\n"
     ]
    },
    {
     "name": "stderr",
     "output_type": "stream",
     "text": [
      "Processing Links:  85%|█████████████████████████████████████████████████████████████████▋           | 99/116 [00:53<00:09,  1.86it/s]"
     ]
    },
    {
     "name": "stdout",
     "output_type": "stream",
     "text": [
      "Scraped 100 links\n"
     ]
    },
    {
     "name": "stderr",
     "output_type": "stream",
     "text": [
      "Processing Links: 100%|████████████████████████████████████████████████████████████████████████████| 116/116 [01:03<00:00,  1.83it/s]"
     ]
    },
    {
     "name": "stdout",
     "output_type": "stream",
     "text": [
      "Scraped 116 links\n"
     ]
    },
    {
     "name": "stderr",
     "output_type": "stream",
     "text": [
      "\n"
     ]
    }
   ],
   "source": [
    "Barcelona.scrape_descriptions()"
   ]
  },
  {
   "cell_type": "code",
   "execution_count": 17,
   "id": "60cff4d1-243e-4496-b8e1-8f4332592ffc",
   "metadata": {},
   "outputs": [
    {
     "data": {
      "text/html": [
       "<div>\n",
       "<style scoped>\n",
       "    .dataframe tbody tr th:only-of-type {\n",
       "        vertical-align: middle;\n",
       "    }\n",
       "\n",
       "    .dataframe tbody tr th {\n",
       "        vertical-align: top;\n",
       "    }\n",
       "\n",
       "    .dataframe thead th {\n",
       "        text-align: right;\n",
       "    }\n",
       "</style>\n",
       "<table border=\"1\" class=\"dataframe\">\n",
       "  <thead>\n",
       "    <tr style=\"text-align: right;\">\n",
       "      <th></th>\n",
       "      <th>Hotels</th>\n",
       "      <th>Distance</th>\n",
       "      <th>District</th>\n",
       "      <th>Price</th>\n",
       "      <th>Rating</th>\n",
       "      <th>Stars</th>\n",
       "      <th>Comments</th>\n",
       "      <th>Link</th>\n",
       "      <th>descriptions</th>\n",
       "    </tr>\n",
       "  </thead>\n",
       "  <tbody>\n",
       "    <tr>\n",
       "      <th>0</th>\n",
       "      <td>Sixtytwo Hotel</td>\n",
       "      <td>a 0,8 km del centro</td>\n",
       "      <td>Eixample, Barcelona</td>\n",
       "      <td>€ 1.513</td>\n",
       "      <td>9,2</td>\n",
       "      <td>4 de 5</td>\n",
       "      <td>1.833 comentarios</td>\n",
       "      <td>https://www.booking.com/hotel/es/sixtytwo-barc...</td>\n",
       "      <td>Habitación triple/Ramblas se encuentra a 2,9 k...</td>\n",
       "    </tr>\n",
       "    <tr>\n",
       "      <th>1</th>\n",
       "      <td>INNSiDE by Meliá Barcelona Apolo</td>\n",
       "      <td>a 1,4 km del centro</td>\n",
       "      <td>Sants-Montjuïc, Barcelona</td>\n",
       "      <td>€ 1.115</td>\n",
       "      <td>8,9</td>\n",
       "      <td>4 de 5</td>\n",
       "      <td>1.313 comentarios</td>\n",
       "      <td>https://www.booking.com/hotel/es/innside-by-me...</td>\n",
       "      <td>Nice apartment BCN two rooms wifi está en el b...</td>\n",
       "    </tr>\n",
       "    <tr>\n",
       "      <th>2</th>\n",
       "      <td>SEALONA VILA OLIMPICA</td>\n",
       "      <td>a 1,8 km del centro</td>\n",
       "      <td>Sant Martí, Barcelona</td>\n",
       "      <td>€ 360</td>\n",
       "      <td>8,0</td>\n",
       "      <td>4 de 5</td>\n",
       "      <td>58 comentarios externos</td>\n",
       "      <td>https://www.booking.com/hotel/es/sealona-vila-...</td>\n",
       "      <td>Este hotel moderno ofrece conexión a internet ...</td>\n",
       "    </tr>\n",
       "    <tr>\n",
       "      <th>3</th>\n",
       "      <td>Habitaciones Viladomat</td>\n",
       "      <td>a 1,7 km del centro</td>\n",
       "      <td>Eixample, Barcelona</td>\n",
       "      <td>€ 374</td>\n",
       "      <td>8,4</td>\n",
       "      <td>4 de 5</td>\n",
       "      <td>NaN</td>\n",
       "      <td>https://www.booking.com/hotel/es/habitaciones-...</td>\n",
       "      <td>SEALONA VILA OLIMPICA, que cuenta con biciclet...</td>\n",
       "    </tr>\n",
       "    <tr>\n",
       "      <th>4</th>\n",
       "      <td>Hotel Sansi Barcelona</td>\n",
       "      <td>a 450 m del centro</td>\n",
       "      <td>Eixample, Barcelona</td>\n",
       "      <td>€ 884</td>\n",
       "      <td>7,2</td>\n",
       "      <td>2 de 5</td>\n",
       "      <td>780 comentarios</td>\n",
       "      <td>https://www.booking.com/hotel/es/sansi-barcelo...</td>\n",
       "      <td>Habitaciones Viladomat se encuentra en Barcelo...</td>\n",
       "    </tr>\n",
       "  </tbody>\n",
       "</table>\n",
       "</div>"
      ],
      "text/plain": [
       "                             Hotels             Distance  \\\n",
       "0                    Sixtytwo Hotel  a 0,8 km del centro   \n",
       "1  INNSiDE by Meliá Barcelona Apolo  a 1,4 km del centro   \n",
       "2             SEALONA VILA OLIMPICA  a 1,8 km del centro   \n",
       "3            Habitaciones Viladomat  a 1,7 km del centro   \n",
       "4             Hotel Sansi Barcelona   a 450 m del centro   \n",
       "\n",
       "                    District    Price Rating   Stars                 Comments  \\\n",
       "0        Eixample, Barcelona  € 1.513    9,2  4 de 5        1.833 comentarios   \n",
       "1  Sants-Montjuïc, Barcelona  € 1.115    8,9  4 de 5        1.313 comentarios   \n",
       "2      Sant Martí, Barcelona    € 360    8,0  4 de 5  58 comentarios externos   \n",
       "3        Eixample, Barcelona    € 374    8,4  4 de 5                      NaN   \n",
       "4        Eixample, Barcelona    € 884    7,2  2 de 5          780 comentarios   \n",
       "\n",
       "                                                Link  \\\n",
       "0  https://www.booking.com/hotel/es/sixtytwo-barc...   \n",
       "1  https://www.booking.com/hotel/es/innside-by-me...   \n",
       "2  https://www.booking.com/hotel/es/sealona-vila-...   \n",
       "3  https://www.booking.com/hotel/es/habitaciones-...   \n",
       "4  https://www.booking.com/hotel/es/sansi-barcelo...   \n",
       "\n",
       "                                        descriptions  \n",
       "0  Habitación triple/Ramblas se encuentra a 2,9 k...  \n",
       "1  Nice apartment BCN two rooms wifi está en el b...  \n",
       "2  Este hotel moderno ofrece conexión a internet ...  \n",
       "3  SEALONA VILA OLIMPICA, que cuenta con biciclet...  \n",
       "4  Habitaciones Viladomat se encuentra en Barcelo...  "
      ]
     },
     "execution_count": 17,
     "metadata": {},
     "output_type": "execute_result"
    }
   ],
   "source": [
    "Barcelona.df.head()"
   ]
  },
  {
   "cell_type": "code",
   "execution_count": 16,
   "id": "7c55a465-d4f3-43e1-809a-8d82b47f7912",
   "metadata": {},
   "outputs": [],
   "source": [
    "Barcelona.browser.quit()"
   ]
  }
 ],
 "metadata": {
  "kernelspec": {
   "display_name": "Python 3 (ipykernel)",
   "language": "python",
   "name": "python3"
  },
  "language_info": {
   "codemirror_mode": {
    "name": "ipython",
    "version": 3
   },
   "file_extension": ".py",
   "mimetype": "text/x-python",
   "name": "python",
   "nbconvert_exporter": "python",
   "pygments_lexer": "ipython3",
   "version": "3.12.1"
  }
 },
 "nbformat": 4,
 "nbformat_minor": 5
}
