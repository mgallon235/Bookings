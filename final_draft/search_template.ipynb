{
 "cells": [
  {
   "cell_type": "code",
   "execution_count": 13,
   "id": "379b8b32-e77e-4e30-bc6e-98c43d4b315d",
   "metadata": {},
   "outputs": [],
   "source": [
    "import json\n",
    "import pandas as pd\n",
    "from selenium.webdriver.common.by import By\n",
    "from selenium.common.exceptions import NoSuchElementException, ElementClickInterceptedException, StaleElementReferenceException\n",
    "from selenium import webdriver\n",
    "import os\n",
    "from bs4 import BeautifulSoup\n",
    "import time\n",
    "from selenium import webdriver\n",
    "from selenium.webdriver.firefox.service import Service\n",
    "from selenium.webdriver.firefox.options import Options\n",
    "import requests\n",
    "from datetime import datetime, timedelta\n",
    "import classes_func\n",
    "from classes_func import *\n",
    "\n",
    "from selenium import webdriver\n",
    "from selenium.webdriver.common.by import By\n",
    "from selenium.webdriver.support.ui import WebDriverWait\n",
    "from selenium.webdriver.support import expected_conditions as EC"
   ]
  },
  {
   "cell_type": "code",
   "execution_count": 14,
   "id": "0c372125-8fa3-4395-b5f5-41569dca1585",
   "metadata": {},
   "outputs": [],
   "source": [
    "#Creating a search instance with Search('City',start_day,end_day)\n",
    "Barcelona = Search('Barcelona','2024-02-09','2024-02-13')"
   ]
  },
  {
   "cell_type": "code",
   "execution_count": 15,
   "id": "b0f0a70c-e0d7-4c62-bf0d-efafbf28a525",
   "metadata": {},
   "outputs": [],
   "source": [
    "#Remove Cookies\n",
    "#Find destination button\n",
    "Barcelona.browser.find_element(by='xpath',value= '//button[@id=\"onetrust-reject-all-handler\"]').click()"
   ]
  },
  {
   "cell_type": "code",
   "execution_count": 16,
   "id": "d2ef9070-ea30-4566-a4b9-eebd9658c800",
   "metadata": {},
   "outputs": [],
   "source": [
    "#Remove Google Sign in\n",
    "#Barcelona.browser.find_element(by='xpath',value= '//svg[@class=\"Bz112c Bz112c-r9oPif\"]').click()\n",
    "from selenium.webdriver.support.ui import WebDriverWait\n",
    "from selenium.webdriver.support import expected_conditions as EC\n",
    "from selenium.webdriver.common.by import By\n",
    "\n",
    "\n",
    "# Define your wait timeout (adjust as needed)\n",
    "wait_timeout = 10\n",
    "wait = WebDriverWait(Barcelona.browser, wait_timeout)\n",
    "\n",
    "try:\n",
    "    # Switch to the iframe by index (if needed, adjust the index)\n",
    "    Barcelona.browser.switch_to.frame(0)  # You may need to adjust the index based on your HTML structure\n",
    "\n",
    "    # Now you can interact with elements within the iframe\n",
    "    # Wait for the \"Not Now\" button to be clickable and click it\n",
    "    not_now_button = wait.until(EC.element_to_be_clickable((By.XPATH, \"//div[@class='TvD9Pc-Bz112c ZYIfFd-aGxpHf-FnSee' and @aria-label='Cerrar']\")))\n",
    "    not_now_button.click()\n",
    "\n",
    "except Exception as e:\n",
    "    print(f\"An error occurred while handling the Google Sign-In pop-up: {e}\")\n",
    "\n",
    "finally:\n",
    "    # Switch back to the default content\n",
    "    Barcelona.browser.switch_to.default_content()\n"
   ]
  },
  {
   "cell_type": "code",
   "execution_count": 17,
   "id": "c5031f1a-e487-44f0-b7ee-9e6706b4322f",
   "metadata": {},
   "outputs": [],
   "source": [
    "#Inputing city\n",
    "Barcelona.input_city()"
   ]
  },
  {
   "cell_type": "code",
   "execution_count": 18,
   "id": "93eb5d97-6f96-491c-890b-25e1ec843a70",
   "metadata": {},
   "outputs": [],
   "source": [
    "Barcelona.open_date_box()"
   ]
  },
  {
   "cell_type": "code",
   "execution_count": 19,
   "id": "2c142ea3-60c4-4f6e-ac6e-19526b809384",
   "metadata": {},
   "outputs": [],
   "source": [
    "#Select Date_start\n",
    "Barcelona.date_selector(Barcelona.start_day)"
   ]
  },
  {
   "cell_type": "code",
   "execution_count": 20,
   "id": "aea0a760-667b-4c29-8ed4-ce6387b9bfaf",
   "metadata": {},
   "outputs": [],
   "source": [
    "#Select Date_end\n",
    "Barcelona.date_selector(Barcelona.end_day)"
   ]
  },
  {
   "cell_type": "code",
   "execution_count": 21,
   "id": "e056f801-2c34-4315-9dd6-3cc51e84add4",
   "metadata": {},
   "outputs": [],
   "source": [
    "#Search for Results\n",
    "Barcelona.search_results()"
   ]
  },
  {
   "cell_type": "code",
   "execution_count": 22,
   "id": "0b18b657-4c25-4bb5-b8d0-a2f4655f138a",
   "metadata": {},
   "outputs": [
    {
     "data": {
      "text/plain": [
       "32"
      ]
     },
     "execution_count": 22,
     "metadata": {},
     "output_type": "execute_result"
    }
   ],
   "source": [
    "#Total number of Result pages\n",
    "pages = Barcelona.result_pages()\n",
    "pages"
   ]
  },
  {
   "cell_type": "code",
   "execution_count": 23,
   "id": "521cd3f5-dab6-4c8f-bbb8-027214ca6035",
   "metadata": {
    "scrolled": true
   },
   "outputs": [
    {
     "name": "stdout",
     "output_type": "stream",
     "text": [
      "page 1\n",
      "page 2\n",
      "page 3\n",
      "page 4\n",
      "page 5\n",
      "page 6\n",
      "page 7\n",
      "page 8\n",
      "page 9\n",
      "page 10\n",
      "page 11\n",
      "page 12\n",
      "page 13\n",
      "page 14\n",
      "page 15\n",
      "page 16\n",
      "page 17\n",
      "page 18\n",
      "page 19\n",
      "page 20\n",
      "page 21\n",
      "page 22\n",
      "page 23\n",
      "page 24\n",
      "page 25\n",
      "page 26\n",
      "page 27\n",
      "page 28\n",
      "page 29\n",
      "page 30\n"
     ]
    }
   ],
   "source": [
    "#Barcelona.scrape_results(pages)\n",
    "# Also if it's going to slow, adjust the waiting times in the class_function\n",
    "Barcelona.scrape_results(30)#Add the number of pages you'll like to scrape"
   ]
  },
  {
   "cell_type": "code",
   "execution_count": 24,
   "id": "21e897e5-c3ec-4c00-9c82-19c1421d8f0f",
   "metadata": {},
   "outputs": [
    {
     "data": {
      "text/plain": [
       "(618, 8)"
      ]
     },
     "execution_count": 24,
     "metadata": {},
     "output_type": "execute_result"
    }
   ],
   "source": [
    "Barcelona.df.shape"
   ]
  },
  {
   "cell_type": "code",
   "execution_count": 25,
   "id": "0263f337-d069-462f-8111-889ba95c3eab",
   "metadata": {},
   "outputs": [
    {
     "name": "stderr",
     "output_type": "stream",
     "text": [
      "Processing Links:   8%|▊         | 49/618 [00:31<06:36,  1.44it/s]"
     ]
    },
    {
     "name": "stdout",
     "output_type": "stream",
     "text": [
      "Scraped 50 links\n"
     ]
    },
    {
     "name": "stderr",
     "output_type": "stream",
     "text": [
      "Processing Links:  16%|█▋        | 101/618 [01:02<04:52,  1.77it/s]"
     ]
    },
    {
     "name": "stdout",
     "output_type": "stream",
     "text": [
      "Scraped 100 links\n"
     ]
    },
    {
     "name": "stderr",
     "output_type": "stream",
     "text": [
      "Processing Links:  24%|██▍       | 150/618 [01:33<05:32,  1.41it/s]"
     ]
    },
    {
     "name": "stdout",
     "output_type": "stream",
     "text": [
      "Scraped 150 links\n"
     ]
    },
    {
     "name": "stderr",
     "output_type": "stream",
     "text": [
      "Processing Links:  32%|███▏      | 200/618 [01:58<03:44,  1.86it/s]"
     ]
    },
    {
     "name": "stdout",
     "output_type": "stream",
     "text": [
      "Scraped 200 links\n"
     ]
    },
    {
     "name": "stderr",
     "output_type": "stream",
     "text": [
      "Processing Links:  40%|████      | 248/618 [02:27<03:44,  1.65it/s]"
     ]
    },
    {
     "name": "stdout",
     "output_type": "stream",
     "text": [
      "Scraped 250 links\n"
     ]
    },
    {
     "name": "stderr",
     "output_type": "stream",
     "text": [
      "Processing Links:  49%|████▊     | 300/618 [02:55<03:01,  1.75it/s]"
     ]
    },
    {
     "name": "stdout",
     "output_type": "stream",
     "text": [
      "Scraped 300 links\n"
     ]
    },
    {
     "name": "stderr",
     "output_type": "stream",
     "text": [
      "Processing Links:  57%|█████▋    | 350/618 [03:21<02:41,  1.66it/s]"
     ]
    },
    {
     "name": "stdout",
     "output_type": "stream",
     "text": [
      "Scraped 350 links\n"
     ]
    },
    {
     "name": "stderr",
     "output_type": "stream",
     "text": [
      "Processing Links:  65%|██████▍   | 399/618 [03:44<01:38,  2.21it/s]"
     ]
    },
    {
     "name": "stdout",
     "output_type": "stream",
     "text": [
      "Scraped 400 links\n"
     ]
    },
    {
     "name": "stderr",
     "output_type": "stream",
     "text": [
      "Processing Links:  73%|███████▎  | 449/618 [04:08<01:19,  2.12it/s]"
     ]
    },
    {
     "name": "stdout",
     "output_type": "stream",
     "text": [
      "Scraped 450 links\n"
     ]
    },
    {
     "name": "stderr",
     "output_type": "stream",
     "text": [
      "Processing Links:  81%|████████  | 499/618 [04:31<00:58,  2.02it/s]"
     ]
    },
    {
     "name": "stdout",
     "output_type": "stream",
     "text": [
      "Scraped 500 links\n"
     ]
    },
    {
     "name": "stderr",
     "output_type": "stream",
     "text": [
      "Processing Links:  89%|████████▉ | 549/618 [04:52<00:29,  2.35it/s]"
     ]
    },
    {
     "name": "stdout",
     "output_type": "stream",
     "text": [
      "Scraped 550 links\n"
     ]
    },
    {
     "name": "stderr",
     "output_type": "stream",
     "text": [
      "Processing Links:  97%|█████████▋| 600/618 [05:14<00:07,  2.46it/s]"
     ]
    },
    {
     "name": "stdout",
     "output_type": "stream",
     "text": [
      "Scraped 600 links\n"
     ]
    },
    {
     "name": "stderr",
     "output_type": "stream",
     "text": [
      "Processing Links: 100%|██████████| 618/618 [05:21<00:00,  1.92it/s]"
     ]
    },
    {
     "name": "stdout",
     "output_type": "stream",
     "text": [
      "Scraped 618 links\n"
     ]
    },
    {
     "name": "stderr",
     "output_type": "stream",
     "text": [
      "\n"
     ]
    }
   ],
   "source": [
    "Barcelona.scrape_descriptions()"
   ]
  },
  {
   "cell_type": "code",
   "execution_count": 26,
   "id": "60cff4d1-243e-4496-b8e1-8f4332592ffc",
   "metadata": {},
   "outputs": [
    {
     "data": {
      "text/html": [
       "<div>\n",
       "<style scoped>\n",
       "    .dataframe tbody tr th:only-of-type {\n",
       "        vertical-align: middle;\n",
       "    }\n",
       "\n",
       "    .dataframe tbody tr th {\n",
       "        vertical-align: top;\n",
       "    }\n",
       "\n",
       "    .dataframe thead th {\n",
       "        text-align: right;\n",
       "    }\n",
       "</style>\n",
       "<table border=\"1\" class=\"dataframe\">\n",
       "  <thead>\n",
       "    <tr style=\"text-align: right;\">\n",
       "      <th></th>\n",
       "      <th>Hotels</th>\n",
       "      <th>Distance</th>\n",
       "      <th>District</th>\n",
       "      <th>Price</th>\n",
       "      <th>Rating</th>\n",
       "      <th>Stars</th>\n",
       "      <th>Comments</th>\n",
       "      <th>Link</th>\n",
       "      <th>descriptions</th>\n",
       "    </tr>\n",
       "  </thead>\n",
       "  <tbody>\n",
       "    <tr>\n",
       "      <th>0</th>\n",
       "      <td>SANT ANTONI BREAK BCN, Sustanaible Tourism</td>\n",
       "      <td>a 0,9 km del centro</td>\n",
       "      <td>Eixample, Barcelona</td>\n",
       "      <td>€ 415</td>\n",
       "      <td>7,5</td>\n",
       "      <td>3 de 5</td>\n",
       "      <td>353 comentarios</td>\n",
       "      <td>https://www.booking.com/hotel/es/pension-sant-...</td>\n",
       "      <td>Apartamento centric es un alojamiento muy bien...</td>\n",
       "    </tr>\n",
       "    <tr>\n",
       "      <th>1</th>\n",
       "      <td>Sonder Casa Luz</td>\n",
       "      <td>a 450 m del centro</td>\n",
       "      <td>Eixample, Barcelona</td>\n",
       "      <td>€ 670</td>\n",
       "      <td>8,4</td>\n",
       "      <td>4 de 5</td>\n",
       "      <td>2.667 comentarios</td>\n",
       "      <td>https://www.booking.com/hotel/es/casa-luz-barc...</td>\n",
       "      <td>El Sonder Casa Luz se encuentra en Barcelona y...</td>\n",
       "    </tr>\n",
       "    <tr>\n",
       "      <th>2</th>\n",
       "      <td>The Social Hub Barcelona Poblenou</td>\n",
       "      <td>a 3,8 km del centro</td>\n",
       "      <td>Sant Martí, Barcelona</td>\n",
       "      <td>€ 533</td>\n",
       "      <td>8,8</td>\n",
       "      <td>4 de 5</td>\n",
       "      <td>1.830 comentarios</td>\n",
       "      <td>https://www.booking.com/hotel/es/the-social-hu...</td>\n",
       "      <td>SANT ANTONI BREAK BCN, Sustanaible Tourism es ...</td>\n",
       "    </tr>\n",
       "    <tr>\n",
       "      <th>3</th>\n",
       "      <td>Hotel Granados 83, a Member of Design Hotels</td>\n",
       "      <td>a 1,2 km del centro</td>\n",
       "      <td>Eixample, Barcelona</td>\n",
       "      <td>€ 575</td>\n",
       "      <td>8,5</td>\n",
       "      <td>4 de 5</td>\n",
       "      <td>1.574 comentarios</td>\n",
       "      <td>https://www.booking.com/hotel/es/granados-83.e...</td>\n",
       "      <td>El Wilson Boutique Hotel está situado en la av...</td>\n",
       "    </tr>\n",
       "    <tr>\n",
       "      <th>4</th>\n",
       "      <td>Wilson Boutique Hotel</td>\n",
       "      <td>a 1,8 km del centro</td>\n",
       "      <td>Sarrià-Sant Gervasi, Barcelona</td>\n",
       "      <td>€ 419</td>\n",
       "      <td>8,5</td>\n",
       "      <td>4 de 5</td>\n",
       "      <td>2.127 comentarios</td>\n",
       "      <td>https://www.booking.com/hotel/es/wilson.es.htm...</td>\n",
       "      <td>El Granados 83, situado a 250 metros de la est...</td>\n",
       "    </tr>\n",
       "  </tbody>\n",
       "</table>\n",
       "</div>"
      ],
      "text/plain": [
       "                                         Hotels             Distance  \\\n",
       "0    SANT ANTONI BREAK BCN, Sustanaible Tourism  a 0,9 km del centro   \n",
       "1                               Sonder Casa Luz   a 450 m del centro   \n",
       "2             The Social Hub Barcelona Poblenou  a 3,8 km del centro   \n",
       "3  Hotel Granados 83, a Member of Design Hotels  a 1,2 km del centro   \n",
       "4                         Wilson Boutique Hotel  a 1,8 km del centro   \n",
       "\n",
       "                         District  Price Rating   Stars           Comments  \\\n",
       "0             Eixample, Barcelona  € 415    7,5  3 de 5    353 comentarios   \n",
       "1             Eixample, Barcelona  € 670    8,4  4 de 5  2.667 comentarios   \n",
       "2           Sant Martí, Barcelona  € 533    8,8  4 de 5  1.830 comentarios   \n",
       "3             Eixample, Barcelona  € 575    8,5  4 de 5  1.574 comentarios   \n",
       "4  Sarrià-Sant Gervasi, Barcelona  € 419    8,5  4 de 5  2.127 comentarios   \n",
       "\n",
       "                                                Link  \\\n",
       "0  https://www.booking.com/hotel/es/pension-sant-...   \n",
       "1  https://www.booking.com/hotel/es/casa-luz-barc...   \n",
       "2  https://www.booking.com/hotel/es/the-social-hu...   \n",
       "3  https://www.booking.com/hotel/es/granados-83.e...   \n",
       "4  https://www.booking.com/hotel/es/wilson.es.htm...   \n",
       "\n",
       "                                        descriptions  \n",
       "0  Apartamento centric es un alojamiento muy bien...  \n",
       "1  El Sonder Casa Luz se encuentra en Barcelona y...  \n",
       "2  SANT ANTONI BREAK BCN, Sustanaible Tourism es ...  \n",
       "3  El Wilson Boutique Hotel está situado en la av...  \n",
       "4  El Granados 83, situado a 250 metros de la est...  "
      ]
     },
     "execution_count": 26,
     "metadata": {},
     "output_type": "execute_result"
    }
   ],
   "source": [
    "Barcelona.df.head()"
   ]
  },
  {
   "cell_type": "code",
   "execution_count": 27,
   "id": "7c55a465-d4f3-43e1-809a-8d82b47f7912",
   "metadata": {},
   "outputs": [],
   "source": [
    "Barcelona.browser.quit()"
   ]
  },
  {
   "cell_type": "code",
   "execution_count": 30,
   "id": "1d729d03",
   "metadata": {},
   "outputs": [
    {
     "data": {
      "text/plain": [
       "(618, 9)"
      ]
     },
     "execution_count": 30,
     "metadata": {},
     "output_type": "execute_result"
    }
   ],
   "source": [
    "Barcelona.df.shape"
   ]
  },
  {
   "cell_type": "code",
   "execution_count": 32,
   "id": "e562a499",
   "metadata": {},
   "outputs": [],
   "source": [
    "# Define the file path where you want to save the CSV file\n",
    "file_path = r'C:/Users/bakwe/Documents/GitHub/Git extra/Bookings/Final_data/Barcelona_09_13.csv'\n",
    "\n",
    "# Use the to_csv method to save the DataFrame to a CSV file\n",
    "Barcelona.df.to_csv(file_path, index=False)  # Set index=False if you don't want to save the index column"
   ]
  },
  {
   "cell_type": "code",
   "execution_count": 34,
   "id": "6921d4c1",
   "metadata": {},
   "outputs": [
    {
     "data": {
      "text/html": [
       "<div>\n",
       "<style scoped>\n",
       "    .dataframe tbody tr th:only-of-type {\n",
       "        vertical-align: middle;\n",
       "    }\n",
       "\n",
       "    .dataframe tbody tr th {\n",
       "        vertical-align: top;\n",
       "    }\n",
       "\n",
       "    .dataframe thead th {\n",
       "        text-align: right;\n",
       "    }\n",
       "</style>\n",
       "<table border=\"1\" class=\"dataframe\">\n",
       "  <thead>\n",
       "    <tr style=\"text-align: right;\">\n",
       "      <th></th>\n",
       "      <th>Hotels</th>\n",
       "      <th>Distance</th>\n",
       "      <th>District</th>\n",
       "      <th>Price</th>\n",
       "      <th>Rating</th>\n",
       "      <th>Stars</th>\n",
       "      <th>Comments</th>\n",
       "      <th>Link</th>\n",
       "      <th>descriptions</th>\n",
       "    </tr>\n",
       "  </thead>\n",
       "  <tbody>\n",
       "    <tr>\n",
       "      <th>0</th>\n",
       "      <td>SANT ANTONI BREAK BCN, Sustanaible Tourism</td>\n",
       "      <td>a 0,9 km del centro</td>\n",
       "      <td>Eixample, Barcelona</td>\n",
       "      <td>€ 415</td>\n",
       "      <td>7,5</td>\n",
       "      <td>3 de 5</td>\n",
       "      <td>353 comentarios</td>\n",
       "      <td>https://www.booking.com/hotel/es/pension-sant-...</td>\n",
       "      <td>Apartamento centric es un alojamiento muy bien...</td>\n",
       "    </tr>\n",
       "    <tr>\n",
       "      <th>1</th>\n",
       "      <td>Sonder Casa Luz</td>\n",
       "      <td>a 450 m del centro</td>\n",
       "      <td>Eixample, Barcelona</td>\n",
       "      <td>€ 670</td>\n",
       "      <td>8,4</td>\n",
       "      <td>4 de 5</td>\n",
       "      <td>2.667 comentarios</td>\n",
       "      <td>https://www.booking.com/hotel/es/casa-luz-barc...</td>\n",
       "      <td>El Sonder Casa Luz se encuentra en Barcelona y...</td>\n",
       "    </tr>\n",
       "    <tr>\n",
       "      <th>2</th>\n",
       "      <td>The Social Hub Barcelona Poblenou</td>\n",
       "      <td>a 3,8 km del centro</td>\n",
       "      <td>Sant Martí, Barcelona</td>\n",
       "      <td>€ 533</td>\n",
       "      <td>8,8</td>\n",
       "      <td>4 de 5</td>\n",
       "      <td>1.830 comentarios</td>\n",
       "      <td>https://www.booking.com/hotel/es/the-social-hu...</td>\n",
       "      <td>SANT ANTONI BREAK BCN, Sustanaible Tourism es ...</td>\n",
       "    </tr>\n",
       "    <tr>\n",
       "      <th>3</th>\n",
       "      <td>Hotel Granados 83, a Member of Design Hotels</td>\n",
       "      <td>a 1,2 km del centro</td>\n",
       "      <td>Eixample, Barcelona</td>\n",
       "      <td>€ 575</td>\n",
       "      <td>8,5</td>\n",
       "      <td>4 de 5</td>\n",
       "      <td>1.574 comentarios</td>\n",
       "      <td>https://www.booking.com/hotel/es/granados-83.e...</td>\n",
       "      <td>El Wilson Boutique Hotel está situado en la av...</td>\n",
       "    </tr>\n",
       "    <tr>\n",
       "      <th>4</th>\n",
       "      <td>Wilson Boutique Hotel</td>\n",
       "      <td>a 1,8 km del centro</td>\n",
       "      <td>Sarrià-Sant Gervasi, Barcelona</td>\n",
       "      <td>€ 419</td>\n",
       "      <td>8,5</td>\n",
       "      <td>4 de 5</td>\n",
       "      <td>2.127 comentarios</td>\n",
       "      <td>https://www.booking.com/hotel/es/wilson.es.htm...</td>\n",
       "      <td>El Granados 83, situado a 250 metros de la est...</td>\n",
       "    </tr>\n",
       "    <tr>\n",
       "      <th>...</th>\n",
       "      <td>...</td>\n",
       "      <td>...</td>\n",
       "      <td>...</td>\n",
       "      <td>...</td>\n",
       "      <td>...</td>\n",
       "      <td>...</td>\n",
       "      <td>...</td>\n",
       "      <td>...</td>\n",
       "      <td>...</td>\n",
       "    </tr>\n",
       "    <tr>\n",
       "      <th>613</th>\n",
       "      <td>Vacaciones en maresme casa para 7 personas</td>\n",
       "      <td>a 42,4 km del centro</td>\n",
       "      <td>Ciutat Vella, Barcelona</td>\n",
       "      <td>€ 760</td>\n",
       "      <td>9,0</td>\n",
       "      <td>4 de 5</td>\n",
       "      <td>23 comentarios</td>\n",
       "      <td>https://www.booking.com/hotel/es/casa-para-7-p...</td>\n",
       "      <td>B42 - MODERNIST APARTMENT FOR LARGE GROUPS IN ...</td>\n",
       "    </tr>\n",
       "    <tr>\n",
       "      <th>614</th>\n",
       "      <td>bp1- Piso para Grandes Grupos</td>\n",
       "      <td>a 0,7 km del centro</td>\n",
       "      <td>Sant Martí, Barcelona</td>\n",
       "      <td>€ 2.598</td>\n",
       "      <td>7,3</td>\n",
       "      <td>4 de 5</td>\n",
       "      <td>3 comentarios</td>\n",
       "      <td>https://www.booking.com/hotel/es/balmes-apartm...</td>\n",
       "      <td>Bp1- Piso para Grandes Grupos está en pleno co...</td>\n",
       "    </tr>\n",
       "    <tr>\n",
       "      <th>615</th>\n",
       "      <td>b42 - MODERNIST APARTMENT FOR LARGE GROUPS IN ...</td>\n",
       "      <td>a 0,7 km del centro</td>\n",
       "      <td>Sant Martí, Barcelona</td>\n",
       "      <td>€ 2.598</td>\n",
       "      <td>8,8</td>\n",
       "      <td>3 de 5</td>\n",
       "      <td>12 comentarios</td>\n",
       "      <td>https://www.booking.com/hotel/es/modernist-apa...</td>\n",
       "      <td>Casa Horta View By MyRentalHost, que tiene jar...</td>\n",
       "    </tr>\n",
       "    <tr>\n",
       "      <th>616</th>\n",
       "      <td>Casa Horta View By MyRentalHost</td>\n",
       "      <td>a 4,2 km del centro</td>\n",
       "      <td>Ciutat Vella, Barcelona</td>\n",
       "      <td>€ 1.024</td>\n",
       "      <td>5,0</td>\n",
       "      <td>3 de 5</td>\n",
       "      <td>1 comentario</td>\n",
       "      <td>https://www.booking.com/hotel/es/hortas-house-...</td>\n",
       "      <td>Contemporary villa near Sitges Hills tiene pis...</td>\n",
       "    </tr>\n",
       "    <tr>\n",
       "      <th>617</th>\n",
       "      <td>Contemporary villa near Sitges Hills</td>\n",
       "      <td>a 34,1 km del centro</td>\n",
       "      <td>Ciutat Vella, Barcelona</td>\n",
       "      <td>€ 3.709</td>\n",
       "      <td>10</td>\n",
       "      <td>4 de 5</td>\n",
       "      <td>3 comentarios</td>\n",
       "      <td>https://www.booking.com/hotel/es/contemporary-...</td>\n",
       "      <td>Vacaciones en maresme casa para 7 personas, qu...</td>\n",
       "    </tr>\n",
       "  </tbody>\n",
       "</table>\n",
       "<p>618 rows × 9 columns</p>\n",
       "</div>"
      ],
      "text/plain": [
       "                                                Hotels              Distance  \\\n",
       "0           SANT ANTONI BREAK BCN, Sustanaible Tourism   a 0,9 km del centro   \n",
       "1                                      Sonder Casa Luz    a 450 m del centro   \n",
       "2                    The Social Hub Barcelona Poblenou   a 3,8 km del centro   \n",
       "3         Hotel Granados 83, a Member of Design Hotels   a 1,2 km del centro   \n",
       "4                                Wilson Boutique Hotel   a 1,8 km del centro   \n",
       "..                                                 ...                   ...   \n",
       "613         Vacaciones en maresme casa para 7 personas  a 42,4 km del centro   \n",
       "614                      bp1- Piso para Grandes Grupos   a 0,7 km del centro   \n",
       "615  b42 - MODERNIST APARTMENT FOR LARGE GROUPS IN ...   a 0,7 km del centro   \n",
       "616                    Casa Horta View By MyRentalHost   a 4,2 km del centro   \n",
       "617               Contemporary villa near Sitges Hills  a 34,1 km del centro   \n",
       "\n",
       "                           District    Price Rating   Stars  \\\n",
       "0               Eixample, Barcelona    € 415    7,5  3 de 5   \n",
       "1               Eixample, Barcelona    € 670    8,4  4 de 5   \n",
       "2             Sant Martí, Barcelona    € 533    8,8  4 de 5   \n",
       "3               Eixample, Barcelona    € 575    8,5  4 de 5   \n",
       "4    Sarrià-Sant Gervasi, Barcelona    € 419    8,5  4 de 5   \n",
       "..                              ...      ...    ...     ...   \n",
       "613         Ciutat Vella, Barcelona    € 760    9,0  4 de 5   \n",
       "614           Sant Martí, Barcelona  € 2.598    7,3  4 de 5   \n",
       "615           Sant Martí, Barcelona  € 2.598    8,8  3 de 5   \n",
       "616         Ciutat Vella, Barcelona  € 1.024    5,0  3 de 5   \n",
       "617         Ciutat Vella, Barcelona  € 3.709     10  4 de 5   \n",
       "\n",
       "              Comments                                               Link  \\\n",
       "0      353 comentarios  https://www.booking.com/hotel/es/pension-sant-...   \n",
       "1    2.667 comentarios  https://www.booking.com/hotel/es/casa-luz-barc...   \n",
       "2    1.830 comentarios  https://www.booking.com/hotel/es/the-social-hu...   \n",
       "3    1.574 comentarios  https://www.booking.com/hotel/es/granados-83.e...   \n",
       "4    2.127 comentarios  https://www.booking.com/hotel/es/wilson.es.htm...   \n",
       "..                 ...                                                ...   \n",
       "613     23 comentarios  https://www.booking.com/hotel/es/casa-para-7-p...   \n",
       "614      3 comentarios  https://www.booking.com/hotel/es/balmes-apartm...   \n",
       "615     12 comentarios  https://www.booking.com/hotel/es/modernist-apa...   \n",
       "616       1 comentario  https://www.booking.com/hotel/es/hortas-house-...   \n",
       "617      3 comentarios  https://www.booking.com/hotel/es/contemporary-...   \n",
       "\n",
       "                                          descriptions  \n",
       "0    Apartamento centric es un alojamiento muy bien...  \n",
       "1    El Sonder Casa Luz se encuentra en Barcelona y...  \n",
       "2    SANT ANTONI BREAK BCN, Sustanaible Tourism es ...  \n",
       "3    El Wilson Boutique Hotel está situado en la av...  \n",
       "4    El Granados 83, situado a 250 metros de la est...  \n",
       "..                                                 ...  \n",
       "613  B42 - MODERNIST APARTMENT FOR LARGE GROUPS IN ...  \n",
       "614  Bp1- Piso para Grandes Grupos está en pleno co...  \n",
       "615  Casa Horta View By MyRentalHost, que tiene jar...  \n",
       "616  Contemporary villa near Sitges Hills tiene pis...  \n",
       "617  Vacaciones en maresme casa para 7 personas, qu...  \n",
       "\n",
       "[618 rows x 9 columns]"
      ]
     },
     "execution_count": 34,
     "metadata": {},
     "output_type": "execute_result"
    }
   ],
   "source": [
    "# Define the file path where the CSV file is located\n",
    "file_path = r'C:/Users/bakwe/Documents/GitHub/Git extra/Bookings/Final_data/Barcelona_09_13.csv'\n",
    "\n",
    "# Read the CSV file into a DataFrame\n",
    "Barcelona_df = pd.read_csv(file_path)\n",
    "Barcelona_df"
   ]
  }
 ],
 "metadata": {
  "kernelspec": {
   "display_name": "Python 3 (ipykernel)",
   "language": "python",
   "name": "python3"
  },
  "language_info": {
   "codemirror_mode": {
    "name": "ipython",
    "version": 3
   },
   "file_extension": ".py",
   "mimetype": "text/x-python",
   "name": "python",
   "nbconvert_exporter": "python",
   "pygments_lexer": "ipython3",
   "version": "3.8.18"
  }
 },
 "nbformat": 4,
 "nbformat_minor": 5
}
