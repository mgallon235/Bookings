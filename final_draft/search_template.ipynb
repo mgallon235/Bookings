{
 "cells": [
  {
   "cell_type": "code",
   "execution_count": 18,
   "id": "379b8b32-e77e-4e30-bc6e-98c43d4b315d",
   "metadata": {},
   "outputs": [],
   "source": [
    "import json\n",
    "import pandas as pd\n",
    "from selenium.webdriver.common.by import By\n",
    "from selenium.common.exceptions import NoSuchElementException, ElementClickInterceptedException, StaleElementReferenceException\n",
    "from selenium import webdriver\n",
    "import os\n",
    "from bs4 import BeautifulSoup\n",
    "import time\n",
    "from selenium import webdriver\n",
    "from selenium.webdriver.firefox.service import Service\n",
    "from selenium.webdriver.firefox.options import Options\n",
    "import requests\n",
    "from datetime import datetime, timedelta\n",
    "import classes_func\n",
    "from classes_func import *\n",
    "\n",
    "from selenium import webdriver\n",
    "from selenium.webdriver.common.by import By\n",
    "from selenium.webdriver.support.ui import WebDriverWait\n",
    "from selenium.webdriver.support import expected_conditions as EC"
   ]
  },
  {
   "cell_type": "code",
   "execution_count": 19,
   "id": "0c372125-8fa3-4395-b5f5-41569dca1585",
   "metadata": {},
   "outputs": [],
   "source": [
    "#Creating a search instance with Search('City',start_day,end_day)\n",
    "Barcelona = Search('Barcelona','2024-02-09','2024-02-13')"
   ]
  },
  {
   "cell_type": "code",
   "execution_count": 20,
   "id": "b0f0a70c-e0d7-4c62-bf0d-efafbf28a525",
   "metadata": {},
   "outputs": [],
   "source": [
    "#Remove Cookies\n",
    "#Find destination button\n",
    "Barcelona.browser.find_element(by='xpath',value= '//button[@id=\"onetrust-reject-all-handler\"]').click()"
   ]
  },
  {
   "cell_type": "code",
   "execution_count": 21,
   "id": "d2ef9070-ea30-4566-a4b9-eebd9658c800",
   "metadata": {},
   "outputs": [],
   "source": [
    "#Remove Google Sign in\n",
    "# Define your wait timeout (adjust as needed)\n",
    "wait_timeout = 10\n",
    "wait = WebDriverWait(Barcelona.browser, wait_timeout)\n",
    "\n",
    "try:\n",
    "    # Switch to the iframe by index (if needed, adjust the index)\n",
    "    Barcelona.browser.switch_to.frame(0)  # You may need to adjust the index based on your HTML structure\n",
    "\n",
    "    # Now you can interact with elements within the iframe\n",
    "    # Wait for the \"Not Now\" button to be clickable and click it\n",
    "    not_now_button = wait.until(EC.element_to_be_clickable((By.XPATH, \"//div[@class='TvD9Pc-Bz112c ZYIfFd-aGxpHf-FnSee' and @aria-label='Cerrar']\")))\n",
    "    not_now_button.click()\n",
    "\n",
    "except Exception as e:\n",
    "    print(f\"An error occurred while handling the Google Sign-In pop-up: {e}\")\n",
    "\n",
    "finally:\n",
    "    # Switch back to the default content\n",
    "    Barcelona.browser.switch_to.default_content()\n"
   ]
  },
  {
   "cell_type": "code",
   "execution_count": 22,
   "id": "c5031f1a-e487-44f0-b7ee-9e6706b4322f",
   "metadata": {},
   "outputs": [],
   "source": [
    "#Inputing city\n",
    "Barcelona.input_city()"
   ]
  },
  {
   "cell_type": "code",
   "execution_count": 23,
   "id": "93eb5d97-6f96-491c-890b-25e1ec843a70",
   "metadata": {},
   "outputs": [],
   "source": [
    "Barcelona.open_date_box()"
   ]
  },
  {
   "cell_type": "code",
   "execution_count": 24,
   "id": "2c142ea3-60c4-4f6e-ac6e-19526b809384",
   "metadata": {},
   "outputs": [],
   "source": [
    "#Select Date_start\n",
    "Barcelona.date_selector(Barcelona.start_day)"
   ]
  },
  {
   "cell_type": "code",
   "execution_count": 25,
   "id": "aea0a760-667b-4c29-8ed4-ce6387b9bfaf",
   "metadata": {},
   "outputs": [],
   "source": [
    "#Select Date_end\n",
    "Barcelona.date_selector(Barcelona.end_day)"
   ]
  },
  {
   "cell_type": "code",
   "execution_count": 26,
   "id": "e056f801-2c34-4315-9dd6-3cc51e84add4",
   "metadata": {},
   "outputs": [],
   "source": [
    "#Search for Results\n",
    "Barcelona.search_results()"
   ]
  },
  {
   "cell_type": "code",
   "execution_count": 27,
   "id": "8240bcb2-cadd-4758-bd43-41ab43fe3464",
   "metadata": {},
   "outputs": [
    {
     "name": "stdout",
     "output_type": "stream",
     "text": [
      "Message: Element <div class=\"efdb2b543b e4b7a69a57\"> is not clickable at point (779,247) because another element <div class=\"f7c2c6294c\"> obscures it\n",
      "Stacktrace:\n",
      "RemoteError@chrome://remote/content/shared/RemoteError.sys.mjs:8:8\n",
      "WebDriverError@chrome://remote/content/shared/webdriver/Errors.sys.mjs:189:5\n",
      "ElementClickInterceptedError@chrome://remote/content/shared/webdriver/Errors.sys.mjs:333:5\n",
      "webdriverClickElement@chrome://remote/content/marionette/interaction.sys.mjs:176:11\n",
      "interaction.clickElement@chrome://remote/content/marionette/interaction.sys.mjs:135:11\n",
      "clickElement@chrome://remote/content/marionette/actors/MarionetteCommandsChild.sys.mjs:204:29\n",
      "receiveMessage@chrome://remote/content/marionette/actors/MarionetteCommandsChild.sys.mjs:84:31\n",
      "\n"
     ]
    }
   ],
   "source": [
    "time.sleep(5)\n",
    "# Removing the Genius pop-up only requires a clicking outside the pop-up\n",
    "obscured = check_obscures(Barcelona.browser,'//div[@class=\"efdb2b543b e4b7a69a57\"]',\"xpath\")\n",
    "try:\n",
    "    if not obscured:\n",
    "        Barcelona.browser.find_element(by='xpath',value= '//div[@class = \"abcc616ec7 cc1b961f14 c180176d40 f11eccb5e8 ff74db973c\"]//button[@class=\"a83ed08757 c21c56c305 f38b6daa18 d691166b09 ab98298258 deab83296e f4552b6561\"]').click()\n",
    "    else:\n",
    "        print('no element blocking the path')\n",
    "except Exception as e:\n",
    "    print(f\"An error occurred: {e}\")\n",
    "#html.b_firefox.b_firefox_121.supports_inline-block.supports_flexbox_unprefixed.supports_fontface.supports_hyphens.hasJS body#b2searchresultsPage.bookings2.b2.searchresults.es.lang_is_ltr.header_reshuffle.no_bg_img.nobg.user_center.app_user_center.sb_gradient_border.b-sprite-3.ds-traveller-header.lx_cwv_font_swap.bigblue_std_sm.bigblue_std_lg.system-font.iq-x-bar.iq-x-bar-new div.b9720ed41e.cdf0a9297c div.eb33ef7c47 div.f0c216ee26.c676dd76fe.b5018b639f div.c0528ecc22 div.dd5dccd82f div.ffd93a9ecb.dc19f70f85.eb67815534 div.abcc616ec7.cc1b961f14.c180176d40.f11eccb5e8.ff74db973c button.a83ed08757.c21c56c305.f38b6daa18.d691166b09.ab98298258.deab83296e.f4552b6561"
   ]
  },
  {
   "cell_type": "code",
   "execution_count": 28,
   "id": "0b18b657-4c25-4bb5-b8d0-a2f4655f138a",
   "metadata": {},
   "outputs": [
    {
     "data": {
      "text/plain": [
       "32"
      ]
     },
     "execution_count": 28,
     "metadata": {},
     "output_type": "execute_result"
    }
   ],
   "source": [
    "#Total number of Result pages\n",
    "pages = Barcelona.result_pages()\n",
    "pages"
   ]
  },
  {
   "cell_type": "code",
   "execution_count": 29,
   "id": "521cd3f5-dab6-4c8f-bbb8-027214ca6035",
   "metadata": {
    "scrolled": true
   },
   "outputs": [
    {
     "name": "stdout",
     "output_type": "stream",
     "text": [
      "page 1\n",
      "page 2\n",
      "page 3\n",
      "page 4\n",
      "page 5\n",
      "page 6\n",
      "page 7\n",
      "page 8\n",
      "page 9\n",
      "page 10\n",
      "page 11\n",
      "page 12\n",
      "page 13\n",
      "page 14\n",
      "page 15\n",
      "page 16\n",
      "page 17\n",
      "page 18\n",
      "page 19\n",
      "page 20\n",
      "page 21\n",
      "page 22\n",
      "page 23\n",
      "page 24\n",
      "page 25\n",
      "page 26\n",
      "page 27\n",
      "page 28\n",
      "page 29\n",
      "page 30\n",
      "page 31\n"
     ]
    }
   ],
   "source": [
    "#Barcelona.scrape_results(pages)\n",
    "# Also if it's going to slow, adjust the waiting times in the class_function\n",
    "Barcelona.scrape_results(pages-1)#Add the number of pages you'll like to scrape"
   ]
  },
  {
   "cell_type": "code",
   "execution_count": 30,
   "id": "21e897e5-c3ec-4c00-9c82-19c1421d8f0f",
   "metadata": {},
   "outputs": [
    {
     "data": {
      "text/plain": [
       "(628, 8)"
      ]
     },
     "execution_count": 30,
     "metadata": {},
     "output_type": "execute_result"
    }
   ],
   "source": [
    "Barcelona.df.shape"
   ]
  },
  {
   "cell_type": "code",
   "execution_count": 31,
   "id": "0263f337-d069-462f-8111-889ba95c3eab",
   "metadata": {},
   "outputs": [
    {
     "name": "stderr",
     "output_type": "stream",
     "text": [
      "Processing Links:   8%|██████▍                                                                      | 52/628 [00:22<02:28,  3.88it/s]"
     ]
    },
    {
     "name": "stdout",
     "output_type": "stream",
     "text": [
      "Scraped 50 links\n"
     ]
    },
    {
     "name": "stderr",
     "output_type": "stream",
     "text": [
      "Processing Links:  16%|████████████                                                                 | 98/628 [00:41<03:42,  2.38it/s]"
     ]
    },
    {
     "name": "stdout",
     "output_type": "stream",
     "text": [
      "Scraped 100 links\n"
     ]
    },
    {
     "name": "stderr",
     "output_type": "stream",
     "text": [
      "Processing Links:  24%|█████████████████▉                                                          | 148/628 [01:03<05:46,  1.39it/s]"
     ]
    },
    {
     "name": "stdout",
     "output_type": "stream",
     "text": [
      "Scraped 150 links\n"
     ]
    },
    {
     "name": "stderr",
     "output_type": "stream",
     "text": [
      "Processing Links:  32%|████████████████████████▏                                                   | 200/628 [01:20<02:02,  3.49it/s]"
     ]
    },
    {
     "name": "stdout",
     "output_type": "stream",
     "text": [
      "Scraped 200 links\n"
     ]
    },
    {
     "name": "stderr",
     "output_type": "stream",
     "text": [
      "Processing Links:  40%|██████████████████████████████▎                                             | 250/628 [01:40<02:13,  2.82it/s]"
     ]
    },
    {
     "name": "stdout",
     "output_type": "stream",
     "text": [
      "Scraped 250 links\n"
     ]
    },
    {
     "name": "stderr",
     "output_type": "stream",
     "text": [
      "Processing Links:  48%|████████████████████████████████████▏                                       | 299/628 [01:58<01:47,  3.07it/s]"
     ]
    },
    {
     "name": "stdout",
     "output_type": "stream",
     "text": [
      "Scraped 300 links\n"
     ]
    },
    {
     "name": "stderr",
     "output_type": "stream",
     "text": [
      "Processing Links:  56%|██████████████████████████████████████████▍                                 | 351/628 [02:17<01:41,  2.73it/s]"
     ]
    },
    {
     "name": "stdout",
     "output_type": "stream",
     "text": [
      "Scraped 350 links\n"
     ]
    },
    {
     "name": "stderr",
     "output_type": "stream",
     "text": [
      "Processing Links:  64%|████████████████████████████████████████████████▍                           | 400/628 [02:34<01:07,  3.36it/s]"
     ]
    },
    {
     "name": "stdout",
     "output_type": "stream",
     "text": [
      "Scraped 400 links\n"
     ]
    },
    {
     "name": "stderr",
     "output_type": "stream",
     "text": [
      "Processing Links:  71%|██████████████████████████████████████████████████████                      | 447/628 [02:50<01:23,  2.17it/s]"
     ]
    },
    {
     "name": "stdout",
     "output_type": "stream",
     "text": [
      "Scraped 450 links\n"
     ]
    },
    {
     "name": "stderr",
     "output_type": "stream",
     "text": [
      "Processing Links:  79%|████████████████████████████████████████████████████████████▎               | 498/628 [03:05<00:45,  2.83it/s]"
     ]
    },
    {
     "name": "stdout",
     "output_type": "stream",
     "text": [
      "Scraped 500 links\n"
     ]
    },
    {
     "name": "stderr",
     "output_type": "stream",
     "text": [
      "Processing Links:  88%|██████████████████████████████████████████████████████████████████▌         | 550/628 [03:20<00:19,  4.02it/s]"
     ]
    },
    {
     "name": "stdout",
     "output_type": "stream",
     "text": [
      "Scraped 550 links\n"
     ]
    },
    {
     "name": "stderr",
     "output_type": "stream",
     "text": [
      "Processing Links:  96%|████████████████████████████████████████████████████████████████████████▌   | 600/628 [03:35<00:06,  4.33it/s]"
     ]
    },
    {
     "name": "stdout",
     "output_type": "stream",
     "text": [
      "Scraped 600 links\n"
     ]
    },
    {
     "name": "stderr",
     "output_type": "stream",
     "text": [
      "Processing Links: 100%|████████████████████████████████████████████████████████████████████████████| 628/628 [03:43<00:00,  2.81it/s]"
     ]
    },
    {
     "name": "stdout",
     "output_type": "stream",
     "text": [
      "Scraped 628 links\n"
     ]
    },
    {
     "name": "stderr",
     "output_type": "stream",
     "text": [
      "\n"
     ]
    }
   ],
   "source": [
    "Barcelona.scrape_descriptions()"
   ]
  },
  {
   "cell_type": "code",
   "execution_count": 32,
   "id": "60cff4d1-243e-4496-b8e1-8f4332592ffc",
   "metadata": {},
   "outputs": [
    {
     "data": {
      "text/html": [
       "<div>\n",
       "<style scoped>\n",
       "    .dataframe tbody tr th:only-of-type {\n",
       "        vertical-align: middle;\n",
       "    }\n",
       "\n",
       "    .dataframe tbody tr th {\n",
       "        vertical-align: top;\n",
       "    }\n",
       "\n",
       "    .dataframe thead th {\n",
       "        text-align: right;\n",
       "    }\n",
       "</style>\n",
       "<table border=\"1\" class=\"dataframe\">\n",
       "  <thead>\n",
       "    <tr style=\"text-align: right;\">\n",
       "      <th></th>\n",
       "      <th>Hotels</th>\n",
       "      <th>Distance</th>\n",
       "      <th>District</th>\n",
       "      <th>Price</th>\n",
       "      <th>Rating</th>\n",
       "      <th>Stars</th>\n",
       "      <th>Comments</th>\n",
       "      <th>Link</th>\n",
       "      <th>descriptions</th>\n",
       "    </tr>\n",
       "  </thead>\n",
       "  <tbody>\n",
       "    <tr>\n",
       "      <th>0</th>\n",
       "      <td>SANT ANTONI BREAK BCN, Sustanaible Tourism</td>\n",
       "      <td>a 0,9 km del centro</td>\n",
       "      <td>Eixample, Barcelona</td>\n",
       "      <td>€ 415</td>\n",
       "      <td>7,5</td>\n",
       "      <td>3 de 5</td>\n",
       "      <td>353 comentarios</td>\n",
       "      <td>https://www.booking.com/hotel/es/pension-sant-...</td>\n",
       "      <td>El Zenit Barcelona está situado en Barcelona, ...</td>\n",
       "    </tr>\n",
       "    <tr>\n",
       "      <th>1</th>\n",
       "      <td>Sonder Casa Luz</td>\n",
       "      <td>a 450 m del centro</td>\n",
       "      <td>Eixample, Barcelona</td>\n",
       "      <td>€ 657</td>\n",
       "      <td>8,4</td>\n",
       "      <td>4 de 5</td>\n",
       "      <td>2.667 comentarios</td>\n",
       "      <td>https://www.booking.com/hotel/es/casa-luz-barc...</td>\n",
       "      <td>InBarcelonaSuites se encuentra en el barrio de...</td>\n",
       "    </tr>\n",
       "    <tr>\n",
       "      <th>2</th>\n",
       "      <td>Apartment with sea views next to the beach of ...</td>\n",
       "      <td>a 3,8 km del centro</td>\n",
       "      <td>Sant Martí, Barcelona</td>\n",
       "      <td>€ 545</td>\n",
       "      <td>8,3</td>\n",
       "      <td>3 de 5</td>\n",
       "      <td>9 comentarios</td>\n",
       "      <td>https://www.booking.com/hotel/es/apkeys-mariti...</td>\n",
       "      <td>SANT ANTONI BREAK BCN, Sustanaible Tourism es ...</td>\n",
       "    </tr>\n",
       "    <tr>\n",
       "      <th>3</th>\n",
       "      <td>Barcelona with rooms and lofts in front of the...</td>\n",
       "      <td>a 6,8 km del centro</td>\n",
       "      <td>Nou Barris, Barcelona</td>\n",
       "      <td>€ 284</td>\n",
       "      <td>7,0</td>\n",
       "      <td>3 de 5</td>\n",
       "      <td>158 comentarios</td>\n",
       "      <td>https://www.booking.com/hotel/es/casa-nou-barc...</td>\n",
       "      <td>El Granados 83, situado a 250 metros de la est...</td>\n",
       "    </tr>\n",
       "    <tr>\n",
       "      <th>4</th>\n",
       "      <td>InBarcelonaSuites</td>\n",
       "      <td>a 1,6 km del centro</td>\n",
       "      <td>Gracia, Barcelona</td>\n",
       "      <td>€ 704</td>\n",
       "      <td>8,0</td>\n",
       "      <td>4 de 5</td>\n",
       "      <td>2 comentarios</td>\n",
       "      <td>https://www.booking.com/hotel/es/inbarcelonasu...</td>\n",
       "      <td>El Wilson Boutique Hotel está situado en la av...</td>\n",
       "    </tr>\n",
       "  </tbody>\n",
       "</table>\n",
       "</div>"
      ],
      "text/plain": [
       "                                              Hotels             Distance  \\\n",
       "0         SANT ANTONI BREAK BCN, Sustanaible Tourism  a 0,9 km del centro   \n",
       "1                                    Sonder Casa Luz   a 450 m del centro   \n",
       "2  Apartment with sea views next to the beach of ...  a 3,8 km del centro   \n",
       "3  Barcelona with rooms and lofts in front of the...  a 6,8 km del centro   \n",
       "4                                  InBarcelonaSuites  a 1,6 km del centro   \n",
       "\n",
       "                District  Price Rating   Stars           Comments  \\\n",
       "0    Eixample, Barcelona  € 415    7,5  3 de 5    353 comentarios   \n",
       "1    Eixample, Barcelona  € 657    8,4  4 de 5  2.667 comentarios   \n",
       "2  Sant Martí, Barcelona  € 545    8,3  3 de 5      9 comentarios   \n",
       "3  Nou Barris, Barcelona  € 284    7,0  3 de 5    158 comentarios   \n",
       "4      Gracia, Barcelona  € 704    8,0  4 de 5      2 comentarios   \n",
       "\n",
       "                                                Link  \\\n",
       "0  https://www.booking.com/hotel/es/pension-sant-...   \n",
       "1  https://www.booking.com/hotel/es/casa-luz-barc...   \n",
       "2  https://www.booking.com/hotel/es/apkeys-mariti...   \n",
       "3  https://www.booking.com/hotel/es/casa-nou-barc...   \n",
       "4  https://www.booking.com/hotel/es/inbarcelonasu...   \n",
       "\n",
       "                                        descriptions  \n",
       "0  El Zenit Barcelona está situado en Barcelona, ...  \n",
       "1  InBarcelonaSuites se encuentra en el barrio de...  \n",
       "2  SANT ANTONI BREAK BCN, Sustanaible Tourism es ...  \n",
       "3  El Granados 83, situado a 250 metros de la est...  \n",
       "4  El Wilson Boutique Hotel está situado en la av...  "
      ]
     },
     "execution_count": 32,
     "metadata": {},
     "output_type": "execute_result"
    }
   ],
   "source": [
    "Barcelona.df.head()"
   ]
  },
  {
   "cell_type": "code",
   "execution_count": 33,
   "id": "0d2fbf7a-1215-4045-a245-0198e0e08573",
   "metadata": {},
   "outputs": [],
   "source": [
    "#define downloads path\n",
    "downloads_path = \"./downloads/\"\n",
    "barcelona_file_set1 = Barcelona.df\n",
    "\n",
    "barcelona_file_set1.to_csv(os.path.join(downloads_path, \"barcelona_file_set1.csv\"), index=False)"
   ]
  },
  {
   "cell_type": "code",
   "execution_count": 34,
   "id": "7c55a465-d4f3-43e1-809a-8d82b47f7912",
   "metadata": {},
   "outputs": [],
   "source": [
    "Barcelona.browser.quit()"
   ]
  }
 ],
 "metadata": {
  "kernelspec": {
   "display_name": "Python 3 (ipykernel)",
   "language": "python",
   "name": "python3"
  },
  "language_info": {
   "codemirror_mode": {
    "name": "ipython",
    "version": 3
   },
   "file_extension": ".py",
   "mimetype": "text/x-python",
   "name": "python",
   "nbconvert_exporter": "python",
   "pygments_lexer": "ipython3",
   "version": "3.12.1"
  }
 },
 "nbformat": 4,
 "nbformat_minor": 5
}
