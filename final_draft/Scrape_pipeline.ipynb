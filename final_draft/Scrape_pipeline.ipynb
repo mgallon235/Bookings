{
 "cells": [
  {
   "cell_type": "code",
   "execution_count": 3,
   "id": "669c3e7f-3fa1-4127-9584-9a38d38ea5a6",
   "metadata": {},
   "outputs": [],
   "source": [
    "#Packages\n",
    "import json\n",
    "import pandas as pd\n",
    "from selenium.webdriver.common.by import By\n",
    "from selenium.common.exceptions import NoSuchElementException, ElementClickInterceptedException, StaleElementReferenceException\n",
    "from selenium import webdriver\n",
    "import os\n",
    "from bs4 import BeautifulSoup\n",
    "import time\n",
    "from selenium import webdriver\n",
    "from selenium.webdriver.firefox.service import Service\n",
    "from selenium.webdriver.firefox.options import Options\n",
    "import requests\n",
    "from datetime import datetime, timedelta\n",
    "\n",
    "# OWN Functions and classes \n",
    "import classes_func\n",
    "from classes_func import *\n",
    "\n",
    "from selenium import webdriver\n",
    "from selenium.webdriver.common.by import By\n",
    "from selenium.webdriver.support.ui import WebDriverWait\n",
    "from selenium.webdriver.support import expected_conditions as EC"
   ]
  },
  {
   "cell_type": "code",
   "execution_count": 4,
   "id": "e9274ee4-bb45-44af-b8e6-37872b43698d",
   "metadata": {},
   "outputs": [],
   "source": [
    "#Booking search parameters\n",
    "inputs = [('Barcelona','2024-02-09','2024-02-13','barcelona_09_13'),('Barcelona','2024-02-14','2024-02-18','barcelona_14_18'),('Barcelona','2024-02-19','2024-02-24','barcelona_19_24'),('Barcelona','2024-02-25','2024-01-02','barcelona_25_01'),\n",
    "         ('Valencia','2024-02-09','2024-02-13','valencia_09_13'),('Valencia','2024-02-14','2024-02-18','valencia_14_18'),('Valencia','2024-02-19','2024-02-24','valencia_19_24'),('Valencia','2024-02-25','2024-03-01','valencia_25_01')]"
   ]
  },
  {
   "cell_type": "code",
   "execution_count": 5,
   "id": "613c0534-d2b6-497d-be73-7a2a0ba6dd13",
   "metadata": {},
   "outputs": [
    {
     "name": "stdout",
     "output_type": "stream",
     "text": [
      "Message: Element <div class=\"efdb2b543b e4b7a69a57\"> is not clickable at point (779,247) because another element <div class=\"f7c2c6294c\"> obscures it\n",
      "Stacktrace:\n",
      "RemoteError@chrome://remote/content/shared/RemoteError.sys.mjs:8:8\n",
      "WebDriverError@chrome://remote/content/shared/webdriver/Errors.sys.mjs:189:5\n",
      "ElementClickInterceptedError@chrome://remote/content/shared/webdriver/Errors.sys.mjs:333:5\n",
      "webdriverClickElement@chrome://remote/content/marionette/interaction.sys.mjs:176:11\n",
      "interaction.clickElement@chrome://remote/content/marionette/interaction.sys.mjs:135:11\n",
      "clickElement@chrome://remote/content/marionette/actors/MarionetteCommandsChild.sys.mjs:204:29\n",
      "receiveMessage@chrome://remote/content/marionette/actors/MarionetteCommandsChild.sys.mjs:84:31\n",
      "\n",
      "page 1\n",
      "page 2\n",
      "page 3\n",
      "page 4\n",
      "page 5\n",
      "page 6\n",
      "page 7\n",
      "page 8\n",
      "page 9\n",
      "page 10\n",
      "page 11\n",
      "page 12\n",
      "page 13\n",
      "page 14\n",
      "page 15\n",
      "page 16\n",
      "page 17\n",
      "page 18\n",
      "page 19\n",
      "page 20\n",
      "page 21\n",
      "page 22\n",
      "page 23\n",
      "page 24\n",
      "page 25\n",
      "page 26\n",
      "page 27\n",
      "page 28\n"
     ]
    },
    {
     "name": "stderr",
     "output_type": "stream",
     "text": [
      "Processing Links: 100%|████████████████████████████████████████████████████████████████████████████| 562/562 [06:33<00:00,  1.43it/s]\n"
     ]
    }
   ],
   "source": [
    "\n",
    "#Execute a for loop to perform all 8 searches (In this example, we will only set it to the first iteration).\n",
    "\n",
    "for i in inputs[0:1]:\n",
    "#STEP 1 - Initialization\n",
    "    booking = Search(i[0],i[1],i[2]) #Initiating search instance + open booking window\n",
    "    booking.remove_cookies()\n",
    "    booking.remove_google_signin()\n",
    "\n",
    "#STEP 2 - Navigate\n",
    "    booking.input_city()\n",
    "    booking.open_date_box()\n",
    "    booking.date_selector(booking.start_day)\n",
    "    time.sleep(1)\n",
    "    booking.date_selector(booking.end_day)\n",
    "    booking.search_results()\n",
    "    time.sleep(5)\n",
    "    booking.remove_genius()\n",
    "\n",
    "#STEP 3 - Scrape Results\n",
    "    pages = booking.result_pages() #Store the number of Result pages\n",
    "    booking.scrape_results(pages)\n",
    "    \n",
    "#STEP 4 - Scrape Descriptions\n",
    "    description_df = booking.execute_scrape() #Scrape all descriptions from hotel links\n",
    "    booking.df = pd.merge(booking.df, description_df, how='left', on='Hotels') # perform a left join to include description in main df\n",
    "    booking.df = booking.df.drop_duplicates() #Removing any potential duplicated rows\n",
    "\n",
    "#STEP 5 - STORAGE\n",
    "    downloads_path = \"./downloads_datasets/\"\n",
    "    booking_data = booking.df\n",
    "    booking_data.to_csv(os.path.join(downloads_path, f'booking_{i[3]}_data.csv'), index=False)\n",
    "\n",
    "    booking.browser.quit() #Close Booking window"
   ]
  }
 ],
 "metadata": {
  "kernelspec": {
   "display_name": "Python 3 (ipykernel)",
   "language": "python",
   "name": "python3"
  },
  "language_info": {
   "codemirror_mode": {
    "name": "ipython",
    "version": 3
   },
   "file_extension": ".py",
   "mimetype": "text/x-python",
   "name": "python",
   "nbconvert_exporter": "python",
   "pygments_lexer": "ipython3",
   "version": "3.12.1"
  }
 },
 "nbformat": 4,
 "nbformat_minor": 5
}
