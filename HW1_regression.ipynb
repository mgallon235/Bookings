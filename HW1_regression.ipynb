{
 "cells": [
  {
   "cell_type": "code",
   "execution_count": 1,
   "metadata": {},
   "outputs": [],
   "source": [
    "# !pip install statsmodels"
   ]
  },
  {
   "cell_type": "code",
   "execution_count": 2,
   "metadata": {},
   "outputs": [],
   "source": [
    "import pandas as pd\n",
    "import statsmodels.api as sm"
   ]
  },
  {
   "cell_type": "code",
   "execution_count": 3,
   "metadata": {},
   "outputs": [
    {
     "name": "stdout",
     "output_type": "stream",
     "text": [
      "(373, 10)\n"
     ]
    }
   ],
   "source": [
    "# Specify the path to the CSV file\n",
    "file_path = 'C:/Users/bakwe/Desktop/BSE/Text_mining/HW1/Scraped_data/Barcelona_25_01.csv'\n",
    "\n",
    "# Read the CSV file into a DataFrame\n",
    "df = pd.read_csv(file_path)\n",
    "\n",
    "# Adding the 'valencia' column with values equal to 1\n",
    "df['barcelona'] = 1\n",
    "\n",
    "# Adding the '25_01' column with values equal to 1\n",
    "df['event'] = 1\n",
    "\n",
    "# Display the DataFrame\n",
    "print(df.shape)"
   ]
  },
  {
   "cell_type": "code",
   "execution_count": 4,
   "metadata": {},
   "outputs": [
    {
     "name": "stdout",
     "output_type": "stream",
     "text": [
      "\n",
      "Updated df after adding rows from V1:\n",
      "(770, 10)\n"
     ]
    }
   ],
   "source": [
    "# Specify the path to the CSV file\n",
    "file_path = 'C:/Users/bakwe/Desktop/BSE/Text_mining/HW1/Scraped_data/Valencia_25_01.csv'\n",
    "\n",
    "# Read the CSV file into a DataFrame\n",
    "V1 = pd.read_csv(file_path)\n",
    "\n",
    "# Adding rows from V1 to df with 'barcelona' values set to 0 and 'event' values set to 1\n",
    "df = pd.concat([df, V1.assign(barcelona=0, event=1)], ignore_index=True)\n",
    "\n",
    "# Displaying the updated df DataFrame\n",
    "print(\"\\nUpdated df after adding rows from V1:\")\n",
    "print(df.shape)\n"
   ]
  },
  {
   "cell_type": "code",
   "execution_count": 5,
   "metadata": {},
   "outputs": [
    {
     "name": "stdout",
     "output_type": "stream",
     "text": [
      "\n",
      "Updated df after adding rows from V1:\n",
      "(1167, 10)\n"
     ]
    }
   ],
   "source": [
    "# Specify the path to the CSV file\n",
    "file_path = 'C:/Users/bakwe/Desktop/BSE/Text_mining/HW1/Scraped_data/Valencia_19_24.csv'\n",
    "\n",
    "# Read the CSV file into a DataFrame\n",
    "V0 = pd.read_csv(file_path)\n",
    "\n",
    "# Adding rows from V1 to df with 'barcelona' values set to 0 and 'event' values set to 1\n",
    "df = pd.concat([df, V0.assign(barcelona=0, event=0)], ignore_index=True)\n",
    "\n",
    "# Displaying the updated df DataFrame\n",
    "print(\"\\nUpdated df after adding rows from V1:\")\n",
    "print(df.shape)"
   ]
  },
  {
   "cell_type": "code",
   "execution_count": 6,
   "metadata": {},
   "outputs": [
    {
     "name": "stdout",
     "output_type": "stream",
     "text": [
      "\n",
      "Updated df after adding rows from V1:\n",
      "(1605, 10)\n",
      "Index(['Hotels', 'Ratings', 'Distance', 'District', 'Price', 'Link', 'Star',\n",
      "       'Descriptions', 'barcelona', 'event'],\n",
      "      dtype='object')\n"
     ]
    }
   ],
   "source": [
    "# Specify the path to the CSV file\n",
    "file_path = 'C:/Users/bakwe/Desktop/BSE/Text_mining/HW1/Scraped_data/Barcelona_19_24.csv'\n",
    "\n",
    "# Read the CSV file into a DataFrame\n",
    "B0 = pd.read_csv(file_path)\n",
    "\n",
    "# Adding rows from V1 to df with 'barcelona' values set to 0 and 'event' values set to 1\n",
    "df = pd.concat([df, B0.assign(barcelona=1, event=0)], ignore_index=True)\n",
    "\n",
    "# Displaying the updated df DataFrame\n",
    "print(\"\\nUpdated df after adding rows from V1:\")\n",
    "print(df.shape)\n",
    "print(df.columns)"
   ]
  },
  {
   "cell_type": "code",
   "execution_count": 7,
   "metadata": {},
   "outputs": [
    {
     "name": "stdout",
     "output_type": "stream",
     "text": [
      "                                Hotels Ratings             Distance  District  \\\n",
      "0         apartment next to park guell     9,0  a 2,7 km del centro       NaN   \n",
      "1           Melia Barcelona Sky 4* Sup     8,2  a 3,3 km del centro       NaN   \n",
      "2                Nice room By Eixample     6,7  a 1,3 km del centro       NaN   \n",
      "3         Mercedes Heritage Apartments     8,5  a 1,5 km del centro       NaN   \n",
      "4  Gran Hotel La Florida G.L Monumento     8,7  a 5,9 km del centro       NaN   \n",
      "\n",
      "   Price                                               Link  Star  \\\n",
      "0      1  https://www.booking.com/hotel/es/apartment-par...     4   \n",
      "1      3  https://www.booking.com/hotel/es/melia-barcelo...     4   \n",
      "2    687  https://www.booking.com/hotel/es/nice-room-for...     5   \n",
      "3      3  https://www.booking.com/hotel/es/provenza-mbs....     2   \n",
      "4      1  https://www.booking.com/hotel/es/gran-la-flori...     4   \n",
      "\n",
      "                                        Descriptions  barcelona  event  \n",
      "0  Apartment next to park guell se encuentra en B...          1      1  \n",
      "1  Este hotel de diseño ocupa uno de los edificio...          1      1  \n",
      "2  Nice room By Eixample se encuentra en Barcelon...          1      1  \n",
      "3  El Mercedes Heritage Apartments, situado en l'...          1      1  \n",
      "4  El Gran Hotel La Florida G.L Monumento, de 5 e...          1      1  \n"
     ]
    }
   ],
   "source": [
    "# Extract only digits from the 'Price' column and convert to numeric\n",
    "df['Price'] = pd.to_numeric(df['Price'].str.extract('(\\d+)', expand=False), errors='coerce')\n",
    "\n",
    "# Extract the first digit and convert to numeric\n",
    "df['Star'] = pd.to_numeric(df['Star'].str.extract('(\\d)', expand=False), errors='coerce')\n",
    "\n",
    "# Display the updated DataFrame\n",
    "print(df.head())"
   ]
  },
  {
   "cell_type": "code",
   "execution_count": 8,
   "metadata": {},
   "outputs": [],
   "source": [
    "# Create a DataFrame\n",
    "df = pd.DataFrame(df)"
   ]
  },
  {
   "cell_type": "code",
   "execution_count": 9,
   "metadata": {},
   "outputs": [
    {
     "name": "stdout",
     "output_type": "stream",
     "text": [
      "<class 'pandas.core.frame.DataFrame'>\n",
      "RangeIndex: 1605 entries, 0 to 1604\n",
      "Data columns (total 10 columns):\n",
      " #   Column        Non-Null Count  Dtype  \n",
      "---  ------        --------------  -----  \n",
      " 0   Hotels        1605 non-null   object \n",
      " 1   Ratings       1605 non-null   object \n",
      " 2   Distance      1605 non-null   object \n",
      " 3   District      0 non-null      float64\n",
      " 4   Price         1605 non-null   int64  \n",
      " 5   Link          1605 non-null   object \n",
      " 6   Star          1605 non-null   int64  \n",
      " 7   Descriptions  1605 non-null   object \n",
      " 8   barcelona     1605 non-null   int64  \n",
      " 9   event         1605 non-null   int64  \n",
      "dtypes: float64(1), int64(4), object(5)\n",
      "memory usage: 125.5+ KB\n",
      "None\n"
     ]
    }
   ],
   "source": [
    "# Display the count of NaN values in each column\n",
    "print(df.info())"
   ]
  },
  {
   "cell_type": "code",
   "execution_count": 12,
   "metadata": {},
   "outputs": [
    {
     "name": "stdout",
     "output_type": "stream",
     "text": [
      "                            OLS Regression Results                            \n",
      "==============================================================================\n",
      "Dep. Variable:                  Price   R-squared:                       0.353\n",
      "Model:                            OLS   Adj. R-squared:                  0.352\n",
      "Method:                 Least Squares   F-statistic:                     291.2\n",
      "Date:                Mon, 29 Jan 2024   Prob (F-statistic):          7.63e-151\n",
      "Time:                        10:50:59   Log-Likelihood:                -11150.\n",
      "No. Observations:                1605   AIC:                         2.231e+04\n",
      "Df Residuals:                    1601   BIC:                         2.233e+04\n",
      "Df Model:                           3                                         \n",
      "Covariance Type:            nonrobust                                         \n",
      "====================================================================================\n",
      "                       coef    std err          t      P>|t|      [0.025      0.975]\n",
      "------------------------------------------------------------------------------------\n",
      "const              497.6675     12.648     39.347      0.000     472.859     522.476\n",
      "barcelona           70.6909     17.463      4.048      0.000      36.437     104.944\n",
      "event               36.0579     17.887      2.016      0.044       0.974      71.142\n",
      "interaction_term  -506.0705     25.203    -20.079      0.000    -555.506    -456.635\n",
      "==============================================================================\n",
      "Omnibus:                       35.501   Durbin-Watson:                   2.015\n",
      "Prob(Omnibus):                  0.000   Jarque-Bera (JB):               74.630\n",
      "Skew:                           0.037   Prob(JB):                     6.23e-17\n",
      "Kurtosis:                       4.054   Cond. No.                         6.77\n",
      "==============================================================================\n",
      "\n",
      "Notes:\n",
      "[1] Standard Errors assume that the covariance matrix of the errors is correctly specified.\n"
     ]
    }
   ],
   "source": [
    "# Adding the interaction term\n",
    "df['interaction_term'] = df['barcelona'] * df['event']\n",
    "\n",
    "# Independent variables\n",
    "X = df[['barcelona', 'event', 'interaction_term']]\n",
    "\n",
    "# Dependent variable\n",
    "y = df['Price']\n",
    "\n",
    "# Adding a constant term to the independent variables\n",
    "X = sm.add_constant(X)\n",
    "\n",
    "# Fit the regression model\n",
    "model = sm.OLS(y, X).fit()\n",
    "\n",
    "# Print out the regression results\n",
    "print(model.summary())"
   ]
  },
  {
   "cell_type": "code",
   "execution_count": 13,
   "metadata": {},
   "outputs": [
    {
     "name": "stdout",
     "output_type": "stream",
     "text": [
      "                                 OLS Regression Results                                \n",
      "=======================================================================================\n",
      "Dep. Variable:                  Price   R-squared (uncentered):                   0.563\n",
      "Model:                            OLS   Adj. R-squared (uncentered):              0.563\n",
      "Method:                 Least Squares   F-statistic:                              689.3\n",
      "Date:                Mon, 29 Jan 2024   Prob (F-statistic):                   1.03e-287\n",
      "Time:                        10:51:38   Log-Likelihood:                         -11693.\n",
      "No. Observations:                1605   AIC:                                  2.339e+04\n",
      "Df Residuals:                    1602   BIC:                                  2.341e+04\n",
      "Df Model:                           3                                                  \n",
      "Covariance Type:            nonrobust                                                  \n",
      "====================================================================================\n",
      "                       coef    std err          t      P>|t|      [0.025      0.975]\n",
      "------------------------------------------------------------------------------------\n",
      "barcelona          568.3584     16.883     33.664      0.000     535.243     601.474\n",
      "event              533.7254     17.733     30.097      0.000     498.942     568.509\n",
      "interaction_term -1003.7380     30.565    -32.839      0.000   -1063.690    -943.786\n",
      "==============================================================================\n",
      "Omnibus:                        6.367   Durbin-Watson:                   1.029\n",
      "Prob(Omnibus):                  0.041   Jarque-Bera (JB):                5.360\n",
      "Skew:                           0.063   Prob(JB):                       0.0686\n",
      "Kurtosis:                       2.746   Cond. No.                         3.62\n",
      "==============================================================================\n",
      "\n",
      "Notes:\n",
      "[1] R² is computed without centering (uncentered) since the model does not contain a constant.\n",
      "[2] Standard Errors assume that the covariance matrix of the errors is correctly specified.\n"
     ]
    }
   ],
   "source": [
    "# Adding the interaction term\n",
    "df['interaction_term'] = df['barcelona'] * df['event']\n",
    "\n",
    "# Independent variables\n",
    "X = df[['barcelona', 'event', 'interaction_term']]\n",
    "\n",
    "# Dependent variable\n",
    "y = df['Price']\n",
    "\n",
    "# Fit the regression model without adding a constant term\n",
    "model = sm.OLS(y, X).fit()\n",
    "\n",
    "# Print out the regression results\n",
    "print(model.summary())"
   ]
  },
  {
   "cell_type": "code",
   "execution_count": 10,
   "metadata": {},
   "outputs": [
    {
     "name": "stdout",
     "output_type": "stream",
     "text": [
      "                            OLS Regression Results                            \n",
      "==============================================================================\n",
      "Dep. Variable:                  Price   R-squared:                       0.354\n",
      "Model:                            OLS   Adj. R-squared:                  0.351\n",
      "Method:                 Least Squares   F-statistic:                     124.8\n",
      "Date:                Mon, 29 Jan 2024   Prob (F-statistic):          1.81e-146\n",
      "Time:                        11:01:05   Log-Likelihood:                -11149.\n",
      "No. Observations:                1605   AIC:                         2.231e+04\n",
      "Df Residuals:                    1597   BIC:                         2.236e+04\n",
      "Df Model:                           7                                         \n",
      "Covariance Type:            nonrobust                                         \n",
      "========================================================================================\n",
      "                           coef    std err          t      P>|t|      [0.025      0.975]\n",
      "----------------------------------------------------------------------------------------\n",
      "const                  513.7711     73.381      7.001      0.000     369.837     657.705\n",
      "barcelona               41.2798     85.994      0.480      0.631    -127.394     209.953\n",
      "event                   -2.3581    102.516     -0.023      0.982    -203.438     198.721\n",
      "Star                    -4.4770     20.095     -0.223      0.824     -43.892      34.938\n",
      "interaction_term_1    -401.2717    121.876     -3.292      0.001    -640.325    -162.218\n",
      "interaction_term_2       8.4638     23.900      0.354      0.723     -38.414      55.342\n",
      "interaction_term_3      10.6628     28.024      0.380      0.704     -44.306      65.631\n",
      "interaction_term_all   -31.3138     34.147     -0.917      0.359     -98.292      35.664\n",
      "==============================================================================\n",
      "Omnibus:                       35.498   Durbin-Watson:                   2.018\n",
      "Prob(Omnibus):                  0.000   Jarque-Bera (JB):               74.914\n",
      "Skew:                           0.029   Prob(JB):                     5.40e-17\n",
      "Kurtosis:                       4.057   Cond. No.                         134.\n",
      "==============================================================================\n",
      "\n",
      "Notes:\n",
      "[1] Standard Errors assume that the covariance matrix of the errors is correctly specified.\n"
     ]
    }
   ],
   "source": [
    "# Adding interaction terms\n",
    "df['interaction_term_1'] = df['barcelona'] * df['event']\n",
    "df['interaction_term_2'] = df['barcelona'] * df['Star']\n",
    "df['interaction_term_3'] = df['event'] * df['Star']\n",
    "df['interaction_term_all'] = df['barcelona'] * df['event'] * df['Star']\n",
    "\n",
    "# Independent variables\n",
    "X = df[['barcelona', 'event', 'Star', 'interaction_term_1', 'interaction_term_2', 'interaction_term_3', 'interaction_term_all']]\n",
    "\n",
    "# Dependent variable\n",
    "y = df['Price']\n",
    "\n",
    "# Adding a constant term to the independent variables\n",
    "X = sm.add_constant(X)\n",
    "\n",
    "# Fit the regression model\n",
    "model = sm.OLS(y, X).fit()\n",
    "\n",
    "# Print out the regression results\n",
    "print(model.summary())"
   ]
  }
 ],
 "metadata": {
  "kernelspec": {
   "display_name": "basic_env",
   "language": "python",
   "name": "python3"
  },
  "language_info": {
   "codemirror_mode": {
    "name": "ipython",
    "version": 3
   },
   "file_extension": ".py",
   "mimetype": "text/x-python",
   "name": "python",
   "nbconvert_exporter": "python",
   "pygments_lexer": "ipython3",
   "version": "3.8.18"
  }
 },
 "nbformat": 4,
 "nbformat_minor": 2
}
